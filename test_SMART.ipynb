{
 "cells": [
  {
   "cell_type": "code",
   "execution_count": 1,
   "id": "ca778984-0898-4951-9f71-284fd73f8c23",
   "metadata": {},
   "outputs": [],
   "source": [
    "import MGTomo.model as mgmodel\n",
    "import numpy as np\n",
    "import MGTomo.tomoprojection as mgproj\n",
    "from MGTomo.utils import myexp, mylog, mydiv\n",
    "import MGTomo.functions as fcts\n",
    "from skimage import data\n",
    "from skimage.transform import resize\n",
    "from MGTomo.optimize import armijo_linesearch\n",
    "\n",
    "from MGTomo.gridop import P,R\n",
    "\n",
    "import torch\n",
    "from torch.func import grad\n",
    "\n",
    "from torch.linalg import matrix_norm\n",
    "\n",
    "import matplotlib.pyplot as plt "
   ]
  },
  {
   "cell_type": "code",
   "execution_count": 2,
   "id": "9a0fd311-3391-4b19-a9da-cdf7c41e5e8d",
   "metadata": {},
   "outputs": [],
   "source": [
    "max_levels = 1\n",
    "maxIter = [5,5]"
   ]
  },
  {
   "cell_type": "code",
   "execution_count": 3,
   "id": "cc9b17ac-aabb-42bf-868b-53e42f0f77e0",
   "metadata": {},
   "outputs": [],
   "source": [
    "N = 511\n",
    "# load image\n",
    "x_orig = data.camera()\n",
    "x_orig = resize(x_orig, (N,N), anti_aliasing = False)\n",
    "\n",
    "x_torch = torch.tensor(x_orig, requires_grad = True)"
   ]
  },
  {
   "cell_type": "code",
   "execution_count": 4,
   "id": "1fd9be2d-b659-4378-bc0f-4817e2009bb7",
   "metadata": {},
   "outputs": [],
   "source": [
    "model = mgmodel.astra_model(N,{'mode' : 'line', 'num_angles' : 50, 'level_decrease' : 1})\n",
    "fine_dim = model.dim\n",
    "A = [mgproj.TomoTorch(model.proj_factory(fine_dim))]\n",
    "b = [A[0](x_torch)]\n",
    "level = {int(np.sqrt(A[0].shape[1])): 0}\n",
    "\n",
    "for i in range(1,max_levels+1):\n",
    "    coarse_dim = model.reduce_dim(fine_dim)\n",
    "    A.append(mgproj.TomoTorch(model.proj_factory(coarse_dim)))\n",
    "    b.append(torch.from_numpy(model.reduce_rhs(b[-1].detach().numpy(), fine_dim, coarse_dim)))\n",
    "    level.update({int(np.sqrt(A[i].shape[1])): i})\n",
    "    fine_dim=coarse_dim"
   ]
  },
  {
   "cell_type": "code",
   "execution_count": 5,
   "id": "3c018c2b-6ae4-4fad-887d-f82668bf726c",
   "metadata": {},
   "outputs": [],
   "source": [
    "c0 = 56.0952"
   ]
  },
  {
   "cell_type": "code",
   "execution_count": 6,
   "id": "6c26e307-cc28-4a0e-9dcf-1e913aeab6dd",
   "metadata": {},
   "outputs": [],
   "source": [
    "fh = lambda x: fcts.kl_distance(x, A[0], b[0])"
   ]
  },
  {
   "cell_type": "code",
   "execution_count": 7,
   "id": "1154a76c-32d8-4595-ba41-ea0fc255d7b8",
   "metadata": {},
   "outputs": [],
   "source": [
    "tau0 = 0.5 * 1/c0"
   ]
  },
  {
   "cell_type": "code",
   "execution_count": 8,
   "id": "8e867013-8c9f-468e-ac23-8946b4d9cdd4",
   "metadata": {},
   "outputs": [
    {
     "ename": "AssertionError",
     "evalue": "",
     "output_type": "error",
     "traceback": [
      "\u001b[0;31m---------------------------------------------------------------------------\u001b[0m",
      "\u001b[0;31mAssertionError\u001b[0m                            Traceback (most recent call last)",
      "Cell \u001b[0;32mIn[8], line 4\u001b[0m\n\u001b[1;32m      2\u001b[0m i \u001b[38;5;241m=\u001b[39m \u001b[38;5;241m0\u001b[39m\n\u001b[1;32m      3\u001b[0m \u001b[38;5;28;01mwhile\u001b[39;00m fh(z0) \u001b[38;5;241m>\u001b[39m\u001b[38;5;241m=\u001b[39m \u001b[38;5;241m0.5\u001b[39m:\n\u001b[0;32m----> 4\u001b[0m     val \u001b[38;5;241m=\u001b[39m fcts\u001b[38;5;241m.\u001b[39mSMART(fh, z0, tau0)\n\u001b[1;32m      5\u001b[0m     z0 \u001b[38;5;241m=\u001b[39m val\u001b[38;5;241m.\u001b[39mclone()\u001b[38;5;241m.\u001b[39mdetach()\u001b[38;5;241m.\u001b[39mrequires_grad_(\u001b[38;5;28;01mTrue\u001b[39;00m)\n\u001b[1;32m      7\u001b[0m     \u001b[38;5;28;01massert\u001b[39;00m z0\u001b[38;5;241m.\u001b[39mgrad \u001b[38;5;129;01mis\u001b[39;00m \u001b[38;5;28;01mNone\u001b[39;00m\n",
      "File \u001b[0;32m~/multigrid/MGTomo/functions.py:30\u001b[0m, in \u001b[0;36mSMART\u001b[0;34m(f, x, tau)\u001b[0m\n\u001b[1;32m     27\u001b[0m fx\u001b[38;5;241m.\u001b[39mbackward(retain_graph \u001b[38;5;241m=\u001b[39m \u001b[38;5;28;01mTrue\u001b[39;00m)\n\u001b[1;32m     28\u001b[0m val \u001b[38;5;241m=\u001b[39m x \u001b[38;5;241m*\u001b[39m myexp(\u001b[38;5;241m-\u001b[39mtau \u001b[38;5;241m*\u001b[39m x\u001b[38;5;241m.\u001b[39mgrad)\n\u001b[0;32m---> 30\u001b[0m \u001b[38;5;28;01massert\u001b[39;00m val\u001b[38;5;241m.\u001b[39mmax() \u001b[38;5;241m<\u001b[39m\u001b[38;5;241m=\u001b[39m \u001b[38;5;241m1.\u001b[39m\n\u001b[1;32m     32\u001b[0m \u001b[38;5;28;01mif\u001b[39;00m (f(val) \u001b[38;5;241m-\u001b[39m fx)\u001b[38;5;241m.\u001b[39mabs() \u001b[38;5;241m<\u001b[39m \u001b[38;5;241m1e-2\u001b[39m\u001b[38;5;241m*\u001b[39m\u001b[38;5;241m5\u001b[39m:\n\u001b[1;32m     33\u001b[0m     \u001b[38;5;28;01mreturn\u001b[39;00m x\n",
      "\u001b[0;31mAssertionError\u001b[0m: "
     ]
    }
   ],
   "source": [
    "z0 = torch.rand(N, N, requires_grad = True)\n",
    "i = 0\n",
    "while fh(z0) >= 0.5:\n",
    "    val = fcts.SMART(fh, z0, tau0)\n",
    "    z0 = val.clone().detach().requires_grad_(True)\n",
    "    \n",
    "    assert z0.grad is None\n",
    "    print(i, ': ', fh(z0))\n",
    "    i += 1"
   ]
  },
  {
   "cell_type": "code",
   "execution_count": null,
   "id": "f2b84c9f-19ab-4cd0-9ec2-a838e8294b9a",
   "metadata": {},
   "outputs": [],
   "source": [
    "plt.imshow(z0.detach().numpy(), cmap = 'gray')"
   ]
  },
  {
   "cell_type": "code",
   "execution_count": null,
   "id": "52dd8559-74e8-4753-aaec-4c80e59a3b25",
   "metadata": {},
   "outputs": [],
   "source": [
    "z0.max()"
   ]
  }
 ],
 "metadata": {
  "kernelspec": {
   "display_name": "Python [conda env:.conda-MLcupy_v2]",
   "language": "python",
   "name": "conda-env-.conda-MLcupy_v2-py"
  },
  "language_info": {
   "codemirror_mode": {
    "name": "ipython",
    "version": 3
   },
   "file_extension": ".py",
   "mimetype": "text/x-python",
   "name": "python",
   "nbconvert_exporter": "python",
   "pygments_lexer": "ipython3",
   "version": "3.11.9"
  }
 },
 "nbformat": 4,
 "nbformat_minor": 5
}
