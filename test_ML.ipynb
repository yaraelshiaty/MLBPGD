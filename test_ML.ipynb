{
 "cells": [
  {
   "cell_type": "code",
   "execution_count": 13,
   "id": "6374acba-a47c-41da-ac92-67e5d138db98",
   "metadata": {},
   "outputs": [],
   "source": [
    "import MGTomo.model as mgmodel\n",
    "import numpy as np\n",
    "import astra\n",
    "import MGTomo.tomoprojection as mgproj\n",
    "from MGTomo.utils import myexp, mylog, mydiv\n",
    "import MGTomo.Yfunctions as fcts\n",
    "from scipy import interpolate\n",
    "import h5py\n",
    "\n",
    "import torch\n",
    "from torch.func import grad"
   ]
  },
  {
   "cell_type": "code",
   "execution_count": 14,
   "id": "a51ef2ac-98b6-41ed-9b96-5b24792ed0bd",
   "metadata": {},
   "outputs": [],
   "source": [
    "max_levels = 1\n",
    "maxIter = [5,5]"
   ]
  },
  {
   "cell_type": "code",
   "execution_count": 15,
   "id": "e690c657-fb78-412a-b760-299a9b282358",
   "metadata": {},
   "outputs": [
    {
     "name": "stdout",
     "output_type": "stream",
     "text": [
      "name=vessel, shape=(1023, 1023), dtype=float64\n"
     ]
    }
   ],
   "source": [
    "# load image\n",
    "images = ['vessel','gear','shepp', 'roux']\n",
    "with h5py.File('images.h5','r') as f:\n",
    "    x_orig = np.array(f[images[0]]) # shepp, vessel, gear\n",
    "    \n",
    "print(f'name={images[0]}, shape={x_orig.shape}, dtype={x_orig.dtype}')"
   ]
  },
  {
   "cell_type": "code",
   "execution_count": 16,
   "id": "cc6bbe16-bfcd-453f-8884-481ef0f69488",
   "metadata": {},
   "outputs": [],
   "source": [
    "x_orig = np.random.randn(63, 63)\n",
    "#x_torch = torch.from_numpy(x_orig)\n",
    "x_torch = torch.ones(63, 63)*0.2\n",
    "x_torch.requires_grad = True\n",
    "\n",
    "model = mgmodel.astra_model(63,{'mode' : 'line', 'num_angles' : 50, 'level_decrease' : 1})\n",
    "fine_dim = model.dim\n",
    "A = [mgproj.TomoTorch(model.proj_factory(fine_dim))]\n",
    "b = [A[0](x_torch)]\n",
    "level = {int(np.sqrt(A[0].shape[1])): 0}\n",
    "\n",
    "for i in range(1,max_levels+1):\n",
    "    corse_dim = model.reduce_dim(fine_dim)\n",
    "    A.append(mgproj.TomoTorch(model.proj_factory(corse_dim)))\n",
    "    b.append(torch.from_numpy(model.reduce_rhs(b[-1].detach().numpy(), fine_dim, corse_dim)))\n",
    "    level.update({int(np.sqrt(A[i].shape[1])): i})\n",
    "    fine_dim=corse_dim"
   ]
  },
  {
   "cell_type": "code",
   "execution_count": 17,
   "id": "2811ce80-01ca-43fe-a158-db0d8bc34592",
   "metadata": {},
   "outputs": [
    {
     "name": "stdout",
     "output_type": "stream",
     "text": [
      "{63: 0, 31: 1}\n"
     ]
    }
   ],
   "source": [
    "print(level)"
   ]
  },
  {
   "cell_type": "code",
   "execution_count": 18,
   "id": "275a70d0-a86d-401c-95b4-7d8ee2d37133",
   "metadata": {},
   "outputs": [
    {
     "name": "stdout",
     "output_type": "stream",
     "text": [
      "level 0: 3150 3150 63.0\n",
      "level 1: 1550 1550 31.0\n"
     ]
    }
   ],
   "source": [
    "for i in range(max_levels+1):\n",
    "    assert b[i].shape[0]*b[i].shape[1] == A[i].shape[0], 'dimension mismatch'\n",
    "    print(f'level {i}:', b[i].shape[0]*b[i].shape[1], A[i].shape[0], np.sqrt(A[i].shape[1]))"
   ]
  },
  {
   "cell_type": "markdown",
   "id": "b25fdc5c-d004-46b2-b980-6ab9e440ac8c",
   "metadata": {},
   "source": [
    "## Operators and objective definition"
   ]
  },
  {
   "cell_type": "code",
   "execution_count": 19,
   "id": "afcf8edf-1104-4d49-b8c6-b31269b1f4fb",
   "metadata": {},
   "outputs": [],
   "source": [
    "fh = lambda x: fcts.kl_distance(x, A[0], b[0])"
   ]
  },
  {
   "cell_type": "code",
   "execution_count": 20,
   "id": "4d4b95b9-78aa-4f6b-a5f0-9c27c00345d3",
   "metadata": {},
   "outputs": [],
   "source": [
    "def R(y):\n",
    "    x = y[1:-1:2, 1:-1:2]\n",
    "    return x\n",
    "\n",
    "def bilinear_interpolation(v):\n",
    "    inter = interpolate.RegularGridInterpolator((np.arange(1,2*v.shape[0],2), np.arange(1,2*v.shape[1],2)), v.detach().numpy(), method='linear', bounds_error=False, fill_value=0.0)\n",
    "    xx, yy = np.meshgrid(np.arange(0,2*v.shape[0]+1), np.arange(0,2*v.shape[1]+1))\n",
    "    return inter((yy,xx))\n",
    "\n",
    "def P(x):\n",
    "    return torch.from_numpy(bilinear_interpolation(x))"
   ]
  },
  {
   "cell_type": "markdown",
   "id": "1176e0f3-b0c3-40b7-9d4b-b8c2e301ede2",
   "metadata": {},
   "source": [
    "## Coarsening functions tester"
   ]
  },
  {
   "cell_type": "code",
   "execution_count": 21,
   "id": "3e612b42-0384-45db-875b-0a308b9f4731",
   "metadata": {},
   "outputs": [],
   "source": [
    "def coarsen_fn(fh, x, y0, l):\n",
    "    x0 = R(y0)\n",
    "    x0.retain_grad()\n",
    "    \n",
    "    fH = lambda x: fcts.kl_distance(x, A[l], b[l])\n",
    "    \n",
    "    fhy0 = fh(y0)\n",
    "    fhy0.backward()\n",
    "    \n",
    "    fHx0 = fH(x0)\n",
    "    fHx0.backward()\n",
    "    \n",
    "    kappa = R(y0.grad) - x0.grad\n",
    "    val = fH(x) + torch.sum(kappa * x)\n",
    "    \n",
    "    return val"
   ]
  },
  {
   "cell_type": "code",
   "execution_count": 22,
   "id": "daf839b3-2285-4a1b-bb61-3a44b7e2458a",
   "metadata": {},
   "outputs": [
    {
     "data": {
      "text/plain": [
       "tensor(35329.7688, dtype=torch.float64)"
      ]
     },
     "execution_count": 22,
     "metadata": {},
     "output_type": "execute_result"
    }
   ],
   "source": [
    "y0 = torch.ones(63, 63)\n",
    "y0.requires_grad = True\n",
    "\n",
    "x = torch.ones(31, 31)*0.4\n",
    "\n",
    "psi = lambda x: coarsen_fn(fh, x, y0, 1)\n",
    "psi(x)"
   ]
  },
  {
   "cell_type": "markdown",
   "id": "9580ae74-c523-41f4-927c-f971c494b694",
   "metadata": {},
   "source": [
    "## ML Tester"
   ]
  },
  {
   "cell_type": "code",
   "execution_count": 23,
   "id": "a4cf6312-ea7d-41a5-9890-c8917e6ce354",
   "metadata": {},
   "outputs": [],
   "source": [
    "def MLO(fh, y, l=0):\n",
    "    x = R(y)\n",
    "    y0, x0 = y, R(y)\n",
    "    y0.requires_grad = True\n",
    "    #x0.requires_grad = True\n",
    "    psi = lambda x: coarsen_fn(fh, x, y0, l+1)\n",
    "    \n",
    "    for i in range(maxIter[l]):\n",
    "        x = fcts.SMART(psi, x, tau)\n",
    "        \n",
    "    if l < max_levels:\n",
    "        x = MLO(psi, x, l+1)\n",
    "        \n",
    "    d = P(x-x0)\n",
    "    y, a = fcts.armijo_linesearch(fh, y0, d)\n",
    "    \n",
    "    for i in range(maxIter[l]):\n",
    "        y = fcts.SMART(psi, y, tau)\n",
    "    \n",
    "    return y"
   ]
  },
  {
   "cell_type": "code",
   "execution_count": 24,
   "id": "dbf562ca-aae5-4ffa-91c3-ce29df2fda8b",
   "metadata": {},
   "outputs": [
    {
     "ename": "TypeError",
     "evalue": "unsupported operand type(s) for *: 'float' and 'NoneType'",
     "output_type": "error",
     "traceback": [
      "\u001b[0;31m---------------------------------------------------------------------------\u001b[0m",
      "\u001b[0;31mTypeError\u001b[0m                                 Traceback (most recent call last)",
      "Cell \u001b[0;32mIn[24], line 2\u001b[0m\n\u001b[1;32m      1\u001b[0m tau \u001b[38;5;241m=\u001b[39m \u001b[38;5;241m0.2\u001b[39m\n\u001b[0;32m----> 2\u001b[0m MLO(fh, y0)\n",
      "Cell \u001b[0;32mIn[23], line 9\u001b[0m, in \u001b[0;36mMLO\u001b[0;34m(fh, y, l)\u001b[0m\n\u001b[1;32m      6\u001b[0m psi \u001b[38;5;241m=\u001b[39m \u001b[38;5;28;01mlambda\u001b[39;00m x: coarsen_fn(fh, x, y0, l\u001b[38;5;241m+\u001b[39m\u001b[38;5;241m1\u001b[39m)\n\u001b[1;32m      8\u001b[0m \u001b[38;5;28;01mfor\u001b[39;00m i \u001b[38;5;129;01min\u001b[39;00m \u001b[38;5;28mrange\u001b[39m(maxIter[l]):\n\u001b[0;32m----> 9\u001b[0m     x \u001b[38;5;241m=\u001b[39m fcts\u001b[38;5;241m.\u001b[39mSMART(psi, x, tau)\n\u001b[1;32m     11\u001b[0m \u001b[38;5;28;01mif\u001b[39;00m l \u001b[38;5;241m<\u001b[39m max_levels:\n\u001b[1;32m     12\u001b[0m     x \u001b[38;5;241m=\u001b[39m MLO(psi, x, l\u001b[38;5;241m+\u001b[39m\u001b[38;5;241m1\u001b[39m)\n",
      "File \u001b[0;32m~/multigrid/MGTomo/Yfunctions.py:21\u001b[0m, in \u001b[0;36mSMART\u001b[0;34m(f, x, tau)\u001b[0m\n\u001b[1;32m     18\u001b[0m \u001b[38;5;66;03m#x.requires_grad = True\u001b[39;00m\n\u001b[1;32m     19\u001b[0m \u001b[38;5;66;03m#x.retain_grad()\u001b[39;00m\n\u001b[1;32m     20\u001b[0m fx\u001b[38;5;241m.\u001b[39mbackward()\n\u001b[0;32m---> 21\u001b[0m val \u001b[38;5;241m=\u001b[39m myexp(\u001b[38;5;241m-\u001b[39mtau \u001b[38;5;241m*\u001b[39m x\u001b[38;5;241m.\u001b[39mgrad)\n\u001b[1;32m     23\u001b[0m \u001b[38;5;28;01mreturn\u001b[39;00m val\n",
      "\u001b[0;31mTypeError\u001b[0m: unsupported operand type(s) for *: 'float' and 'NoneType'"
     ]
    }
   ],
   "source": [
    "tau = 0.2\n",
    "MLO(fh, y0)"
   ]
  }
 ],
 "metadata": {
  "kernelspec": {
   "display_name": "Python [conda env:.conda-MLcupy_v2]",
   "language": "python",
   "name": "conda-env-.conda-MLcupy_v2-py"
  },
  "language_info": {
   "codemirror_mode": {
    "name": "ipython",
    "version": 3
   },
   "file_extension": ".py",
   "mimetype": "text/x-python",
   "name": "python",
   "nbconvert_exporter": "python",
   "pygments_lexer": "ipython3",
   "version": "3.11.9"
  }
 },
 "nbformat": 4,
 "nbformat_minor": 5
}
