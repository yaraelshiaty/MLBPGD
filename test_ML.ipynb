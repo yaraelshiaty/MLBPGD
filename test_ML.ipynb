{
 "cells": [
  {
   "cell_type": "code",
   "execution_count": 1,
   "id": "6374acba-a47c-41da-ac92-67e5d138db98",
   "metadata": {},
   "outputs": [],
   "source": [
    "import MGTomo.model as mgmodel\n",
    "import numpy as np\n",
    "import astra\n",
    "import MGTomo.tomoprojection as mgproj\n",
    "from MGTomo.utils import myexp, mylog, mydiv\n",
    "import MGTomo.Yfunctions as fcts\n",
    "\n",
    "import torch\n",
    "from torch.func import grad"
   ]
  },
  {
   "cell_type": "code",
   "execution_count": 2,
   "id": "a51ef2ac-98b6-41ed-9b96-5b24792ed0bd",
   "metadata": {},
   "outputs": [],
   "source": [
    "max_levels = 3"
   ]
  },
  {
   "cell_type": "code",
   "execution_count": 3,
   "id": "cc6bbe16-bfcd-453f-8884-481ef0f69488",
   "metadata": {},
   "outputs": [],
   "source": [
    "x_orig = np.random.randn(63, 63)\n",
    "#x_torch = torch.from_numpy(x_orig)\n",
    "x_torch = torch.ones(63,63)*0.2\n",
    "x_torch.requires_grad = True\n",
    "\n",
    "model = mgmodel.astra_model(63,{'mode' : 'line', 'num_angles' : 50, 'level_decrease' : 1})\n",
    "fine_dim = model.dim\n",
    "A = [mgproj.TomoTorch(model.proj_factory(fine_dim))]\n",
    "b = [A[0](x_torch)]\n",
    "level = {int(np.sqrt(A[0].shape[1])): 0}\n",
    "\n",
    "for i in range(1,max_levels+1):\n",
    "    corse_dim = model.reduce_dim(fine_dim)\n",
    "    A.append(mgproj.TomoTorch(model.proj_factory(corse_dim)))\n",
    "    b.append(torch.from_numpy(model.reduce_rhs(b[-1].detach().numpy(), fine_dim, corse_dim)))\n",
    "    level.update({int(np.sqrt(A[i].shape[1])): i})\n",
    "    fine_dim=corse_dim"
   ]
  },
  {
   "cell_type": "code",
   "execution_count": 4,
   "id": "2811ce80-01ca-43fe-a158-db0d8bc34592",
   "metadata": {},
   "outputs": [
    {
     "name": "stdout",
     "output_type": "stream",
     "text": [
      "{63: 0, 31: 1, 15: 2, 7: 3}\n"
     ]
    }
   ],
   "source": [
    "print(level)"
   ]
  },
  {
   "cell_type": "code",
   "execution_count": 5,
   "id": "275a70d0-a86d-401c-95b4-7d8ee2d37133",
   "metadata": {},
   "outputs": [
    {
     "name": "stdout",
     "output_type": "stream",
     "text": [
      "level 0: 3150 3150 63.0\n",
      "level 1: 1550 1550 31.0\n",
      "level 2: 750 750 15.0\n",
      "level 3: 350 350 7.0\n"
     ]
    }
   ],
   "source": [
    "for i in range(max_levels+1):\n",
    "    assert b[i].shape[0]*b[i].shape[1] == A[i].shape[0], 'dimension mismatch'\n",
    "    print(f'level {i}:', b[i].shape[0]*b[i].shape[1], A[i].shape[0], np.sqrt(A[i].shape[1]))"
   ]
  },
  {
   "cell_type": "code",
   "execution_count": 6,
   "id": "fa60da77-e060-478f-b091-570f02262150",
   "metadata": {},
   "outputs": [],
   "source": [
    "def R(y):\n",
    "    x = y[1:-1:2, 1:-1:2]\n",
    "    return x"
   ]
  },
  {
   "cell_type": "code",
   "execution_count": 7,
   "id": "1a84e65e-0c8c-4bc7-8e11-35a99907832b",
   "metadata": {},
   "outputs": [],
   "source": [
    "def coarsen_fn(fh, x, y0, l):\n",
    "    x0 = R(y0)\n",
    "    x0.retain_grad()\n",
    "    \n",
    "    fH = lambda x: fcts.kl_distance(x, A[l], b[l])\n",
    "    \n",
    "    fhy0 = fh(y0)\n",
    "    fhy0.backward()\n",
    "    \n",
    "    fHx0 = fH(x0)\n",
    "    fHx0.backward()\n",
    "    \n",
    "    kappa = R(y0.grad) - x0.grad\n",
    "    val = fH(x) + torch.sum(kappa * x)\n",
    "    \n",
    "    return val"
   ]
  },
  {
   "cell_type": "code",
   "execution_count": 8,
   "id": "f01aa4ea-a146-4942-802d-ac9a70f83e49",
   "metadata": {},
   "outputs": [],
   "source": [
    "fh = lambda x: fcts.kl_distance(x, A[0], b[0])"
   ]
  },
  {
   "cell_type": "code",
   "execution_count": 17,
   "id": "bcebd7ed-76fa-439e-a913-260e9e6daef0",
   "metadata": {},
   "outputs": [
    {
     "data": {
      "text/plain": [
       "tensor(35329.7688, dtype=torch.float64)"
      ]
     },
     "execution_count": 17,
     "metadata": {},
     "output_type": "execute_result"
    }
   ],
   "source": [
    "y0 = torch.ones(63, 63)\n",
    "y0.requires_grad = True\n",
    "\n",
    "x = torch.ones(31,31)*0.4\n",
    "\n",
    "psi = lambda x: coarsen_fn(fh, x, y0, 1)\n",
    "psi(x)"
   ]
  },
  {
   "cell_type": "code",
   "execution_count": null,
   "id": "a4cf6312-ea7d-41a5-9890-c8917e6ce354",
   "metadata": {},
   "outputs": [],
   "source": [
    "def MLO(fh, y, l=0):\n",
    "    x = R(y)\n",
    "    y0, x0 = y, R(y)\n",
    "    psi = lambda x: coarsen_fn(fh, x, y0, l+1)\n",
    "    \n",
    "    for i in range(maxIter[l]):\n",
    "        x = fcts.SMART(psi, x, tau)\n",
    "        \n",
    "    if l < max_levels:\n",
    "        x = MLO(psi, x, l+1)\n",
    "        \n",
    "    d = P(x-x0)\n",
    "    y = linesearch(fh, y0, d)\n",
    "    \n",
    "    for i in range(maxIter[l]):\n",
    "        y = fcts.SMART(psi, y, tau)\n",
    "    \n",
    "    return y"
   ]
  }
 ],
 "metadata": {
  "kernelspec": {
   "display_name": "Python [conda env:.conda-MLcupy_v2]",
   "language": "python",
   "name": "conda-env-.conda-MLcupy_v2-py"
  },
  "language_info": {
   "codemirror_mode": {
    "name": "ipython",
    "version": 3
   },
   "file_extension": ".py",
   "mimetype": "text/x-python",
   "name": "python",
   "nbconvert_exporter": "python",
   "pygments_lexer": "ipython3",
   "version": "3.11.9"
  }
 },
 "nbformat": 4,
 "nbformat_minor": 5
}
