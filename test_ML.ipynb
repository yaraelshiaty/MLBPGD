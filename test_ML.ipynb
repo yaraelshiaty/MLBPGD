{
 "cells": [
  {
   "cell_type": "code",
   "execution_count": 1,
   "id": "6374acba-a47c-41da-ac92-67e5d138db98",
   "metadata": {},
   "outputs": [],
   "source": [
    "import MGTomo.model as mgmodel\n",
    "import numpy as np\n",
    "import astra\n",
    "import MGTomo.tomoprojection as mgproj\n",
    "from MGTomo.utils import myexp, mylog, mydiv\n",
    "import MGTomo.Yfunctions as fcts\n",
    "from scipy import interpolate\n",
    "from skimage.data import shepp_logan_phantom\n",
    "from skimage.transform import resize\n",
    "\n",
    "import torch\n",
    "from torch.func import grad"
   ]
  },
  {
   "cell_type": "code",
   "execution_count": 2,
   "id": "761d7c2b-7d79-4312-b19b-bc63f670454a",
   "metadata": {},
   "outputs": [
    {
     "data": {
      "text/plain": [
       "<torch.autograd.anomaly_mode.set_detect_anomaly at 0x7f054dda28d0>"
      ]
     },
     "execution_count": 2,
     "metadata": {},
     "output_type": "execute_result"
    }
   ],
   "source": [
    "torch.autograd.set_detect_anomaly(True)"
   ]
  },
  {
   "cell_type": "code",
   "execution_count": 3,
   "id": "a51ef2ac-98b6-41ed-9b96-5b24792ed0bd",
   "metadata": {},
   "outputs": [],
   "source": [
    "max_levels = 1\n",
    "maxIter = [5,5]"
   ]
  },
  {
   "cell_type": "code",
   "execution_count": 4,
   "id": "e690c657-fb78-412a-b760-299a9b282358",
   "metadata": {},
   "outputs": [],
   "source": [
    "N = 63\n",
    "# load image\n",
    "x_orig = shepp_logan_phantom()\n",
    "x_orig = resize(x_orig, (N,N), anti_aliasing = False)\n",
    "\n",
    "x_torch = torch.tensor(x_orig, requires_grad = True)"
   ]
  },
  {
   "cell_type": "code",
   "execution_count": 5,
   "id": "cc6bbe16-bfcd-453f-8884-481ef0f69488",
   "metadata": {},
   "outputs": [],
   "source": [
    "model = mgmodel.astra_model(N,{'mode' : 'line', 'num_angles' : 50, 'level_decrease' : 1})\n",
    "fine_dim = model.dim\n",
    "A = [mgproj.TomoTorch(model.proj_factory(fine_dim))]\n",
    "b = [A[0](x_torch)]\n",
    "level = {int(np.sqrt(A[0].shape[1])): 0}\n",
    "\n",
    "tau = [1/A[0].sumnorm()]\n",
    "\n",
    "for i in range(1,max_levels+1):\n",
    "    coarse_dim = model.reduce_dim(fine_dim)\n",
    "    A.append(mgproj.TomoTorch(model.proj_factory(coarse_dim)))\n",
    "    b.append(torch.from_numpy(model.reduce_rhs(b[-1].detach().numpy(), fine_dim, coarse_dim)))\n",
    "    tau.append(1/A[i].sumnorm())\n",
    "    level.update({int(np.sqrt(A[i].shape[1])): i})\n",
    "    fine_dim=coarse_dim"
   ]
  },
  {
   "cell_type": "code",
   "execution_count": 6,
   "id": "2811ce80-01ca-43fe-a158-db0d8bc34592",
   "metadata": {},
   "outputs": [
    {
     "name": "stdout",
     "output_type": "stream",
     "text": [
      "{63: 0, 31: 1}\n"
     ]
    }
   ],
   "source": [
    "print(level)"
   ]
  },
  {
   "cell_type": "code",
   "execution_count": 7,
   "id": "275a70d0-a86d-401c-95b4-7d8ee2d37133",
   "metadata": {},
   "outputs": [
    {
     "name": "stdout",
     "output_type": "stream",
     "text": [
      "level 0: 3150 3150 63.0\n",
      "level 1: 1550 1550 31.0\n"
     ]
    }
   ],
   "source": [
    "for i in range(max_levels+1):\n",
    "    assert b[i].shape[0]*b[i].shape[1] == A[i].shape[0], 'dimension mismatch'\n",
    "    print(f'level {i}:', b[i].shape[0]*b[i].shape[1], A[i].shape[0], np.sqrt(A[i].shape[1]))"
   ]
  },
  {
   "cell_type": "code",
   "execution_count": 8,
   "id": "d6579b32-b8ff-465f-a7f9-8902a2bdc837",
   "metadata": {},
   "outputs": [],
   "source": [
    "import matplotlib.pyplot as plt "
   ]
  },
  {
   "cell_type": "code",
   "execution_count": 9,
   "id": "acca37cd-7c3a-4b40-b6a1-2cd78ffcc301",
   "metadata": {},
   "outputs": [
    {
     "data": {
      "text/plain": [
       "<matplotlib.image.AxesImage at 0x7f054bc5b150>"
      ]
     },
     "execution_count": 9,
     "metadata": {},
     "output_type": "execute_result"
    },
    {
     "data": {
      "image/png": "[encoded data removed]",
      "text/plain": [
       "<Figure size 640x480 with 1 Axes>"
      ]
     },
     "metadata": {},
     "output_type": "display_data"
    }
   ],
   "source": [
    "plt.imshow(x_orig, cmap = 'gray')"
   ]
  },
  {
   "cell_type": "markdown",
   "id": "b25fdc5c-d004-46b2-b980-6ab9e440ac8c",
   "metadata": {},
   "source": [
    "## Operators and objective definition"
   ]
  },
  {
   "cell_type": "code",
   "execution_count": 10,
   "id": "afcf8edf-1104-4d49-b8c6-b31269b1f4fb",
   "metadata": {},
   "outputs": [],
   "source": [
    "fh = lambda x: fcts.kl_distance(x, A[0], b[0])"
   ]
  },
  {
   "cell_type": "code",
   "execution_count": 11,
   "id": "4d4b95b9-78aa-4f6b-a5f0-9c27c00345d3",
   "metadata": {},
   "outputs": [],
   "source": [
    "def R(y):\n",
    "    x = y[1:-1:2, 1:-1:2]\n",
    "    return x\n",
    "\n",
    "def bilinear_interpolation(v):\n",
    "    inter = interpolate.RegularGridInterpolator((np.arange(1,2*v.shape[0],2), np.arange(1,2*v.shape[1],2)), v.detach().numpy(), method='linear', bounds_error=False, fill_value=0.0)\n",
    "    xx, yy = np.meshgrid(np.arange(0,2*v.shape[0]+1), np.arange(0,2*v.shape[1]+1))\n",
    "    return inter((yy,xx))\n",
    "\n",
    "def P(x):\n",
    "    return torch.from_numpy(bilinear_interpolation(x))"
   ]
  },
  {
   "cell_type": "markdown",
   "id": "1176e0f3-b0c3-40b7-9d4b-b8c2e301ede2",
   "metadata": {},
   "source": [
    "## Coarsening functions tester"
   ]
  },
  {
   "cell_type": "code",
   "execution_count": 12,
   "id": "3e612b42-0384-45db-875b-0a308b9f4731",
   "metadata": {},
   "outputs": [],
   "source": [
    "def coarsen_fn(fh, x, y0, l):\n",
    "    x0 = R(y0)\n",
    "    x0.retain_grad()\n",
    "    \n",
    "    fH = lambda x: fcts.kl_distance(x, A[l], b[l])\n",
    "    \n",
    "    fhy0 = fh(y0)\n",
    "    fhy0.backward(retain_graph = True)\n",
    "    \n",
    "    fHx0 = fH(x0)\n",
    "    #print(fHx0)\n",
    "    fHx0.backward(retain_graph = True)\n",
    "    \n",
    "    kappa = R(y0.grad) - x0.grad\n",
    "    val = fH(x) + torch.sum(kappa * (x-x0))\n",
    "    y0.grad = None\n",
    "    return val"
   ]
  },
  {
   "cell_type": "code",
   "execution_count": 13,
   "id": "a4cf6312-ea7d-41a5-9890-c8917e6ce354",
   "metadata": {},
   "outputs": [],
   "source": [
    "def MLO(fh, y, l=0):\n",
    "    #y.requires_grad = True\n",
    "    x = R(y)\n",
    "    x.retain_grad()\n",
    "    y0, x0 = y, x.clone().detach().requires_grad_(True)\n",
    "    psi = lambda x: coarsen_fn(fh, x, y0, l+1)\n",
    "    #print(psi(x0))\n",
    "    \n",
    "    for i in range(maxIter[l]):\n",
    "        x.retain_grad()\n",
    "        val = fcts.SMART(psi, x, tau[l+1])\n",
    "        x = val.detach().requires_grad_(True)\n",
    "      \n",
    "    if l < max_levels-1:\n",
    "        x = MLO(psi, x, l+1)\n",
    "    \n",
    "    assert psi(x) < psi(x0), 'psi(x) < psi(x0) = fH(x0) does not hold'\n",
    "    d = P(x-x0)\n",
    "    z = fcts.armijo_linesearch(fh, y0, d)\n",
    "    \n",
    "    for i in range(maxIter[l]):\n",
    "        z.retain_grad()\n",
    "        zval = fcts.SMART(fh, z, tau[l])\n",
    "        z = zval.detach().requires_grad_(True)\n",
    "    return z"
   ]
  },
  {
   "cell_type": "markdown",
   "id": "7fc71bd0-e2fe-4c30-ab58-bd30e58daf21",
   "metadata": {
    "tags": []
   },
   "source": [
    "# Tests"
   ]
  },
  {
   "cell_type": "code",
   "execution_count": 14,
   "id": "0b8c2a89-eb7a-4a1d-b212-f87bcddee5bf",
   "metadata": {},
   "outputs": [],
   "source": [
    "y0 = torch.ones(N, N)*0.5\n",
    "y0.requires_grad = True"
   ]
  },
  {
   "cell_type": "code",
   "execution_count": 15,
   "id": "e470eee0-41ee-48e7-8114-5253e8e8f93e",
   "metadata": {},
   "outputs": [
    {
     "name": "stdout",
     "output_type": "stream",
     "text": [
      "tensor([[0.0010, 0.0010, 0.0005,  ..., 0.0005, 0.0010, 0.0010],\n",
      "        [0.0005, 0.0013, 0.0006,  ..., 0.0006, 0.0013, 0.0005],\n",
      "        [0.0005, 0.0015, 0.0008,  ..., 0.0008, 0.0015, 0.0005],\n",
      "        ...,\n",
      "        [0.0005, 0.0014, 0.0008,  ..., 0.0008, 0.0014, 0.0005],\n",
      "        [0.0005, 0.0012, 0.0006,  ..., 0.0006, 0.0012, 0.0005],\n",
      "        [0.0010, 0.0010, 0.0005,  ..., 0.0005, 0.0010, 0.0010]],\n",
      "       requires_grad=True)\n"
     ]
    },
    {
     "data": {
      "text/plain": [
       "tensor([[0., 0., 0.,  ..., 0., 0., 0.],\n",
       "        [0., 0., 0.,  ..., 0., 0., 0.],\n",
       "        [0., 0., 0.,  ..., 0., 0., 0.],\n",
       "        ...,\n",
       "        [0., 0., 0.,  ..., 0., 0., 0.],\n",
       "        [0., 0., 0.,  ..., 0., 0., 0.],\n",
       "        [0., 0., 0.,  ..., 0., 0., 0.]])"
      ]
     },
     "execution_count": 15,
     "metadata": {},
     "output_type": "execute_result"
    }
   ],
   "source": [
    "print(MLO(fh, y0))\n",
    "y0.grad.zero_()"
   ]
  },
  {
   "cell_type": "markdown",
   "id": "6ac3a4fa-539c-48d8-affa-cceea89f1c54",
   "metadata": {},
   "source": [
    "## Test KL-div"
   ]
  },
  {
   "cell_type": "code",
   "execution_count": 16,
   "id": "477da059-7a4f-4d88-9774-ca144c5af8cc",
   "metadata": {},
   "outputs": [
    {
     "name": "stdout",
     "output_type": "stream",
     "text": [
      "tensor(1841.6135, dtype=torch.float64, grad_fn=<AddBackward0>)\n"
     ]
    },
    {
     "data": {
      "text/plain": [
       "tensor([[0., 0., 0.,  ..., 0., 0., 0.],\n",
       "        [0., 0., 0.,  ..., 0., 0., 0.],\n",
       "        [0., 0., 0.,  ..., 0., 0., 0.],\n",
       "        ...,\n",
       "        [0., 0., 0.,  ..., 0., 0., 0.],\n",
       "        [0., 0., 0.,  ..., 0., 0., 0.],\n",
       "        [0., 0., 0.,  ..., 0., 0., 0.]])"
      ]
     },
     "execution_count": 16,
     "metadata": {},
     "output_type": "execute_result"
    }
   ],
   "source": [
    "y = y0\n",
    "y = fcts.SMART(fh, y, tau[0])\n",
    "\n",
    "print(fh(y))\n",
    "y0.grad.zero_()"
   ]
  },
  {
   "cell_type": "code",
   "execution_count": 17,
   "id": "9595a1d4-114b-417c-8af0-17fca3e480a2",
   "metadata": {},
   "outputs": [
    {
     "name": "stdout",
     "output_type": "stream",
     "text": [
      "tensor(1841.6135, dtype=torch.float64, grad_fn=<AddBackward0>)\n",
      "tensor(699.2074, dtype=torch.float64, grad_fn=<AddBackward0>)\n",
      "tensor(502.8924, dtype=torch.float64, grad_fn=<AddBackward0>)\n",
      "tensor(387.8069, dtype=torch.float64, grad_fn=<AddBackward0>)\n"
     ]
    },
    {
     "data": {
      "text/plain": [
       "tensor([[0., 0., 0.,  ..., 0., 0., 0.],\n",
       "        [0., 0., 0.,  ..., 0., 0., 0.],\n",
       "        [0., 0., 0.,  ..., 0., 0., 0.],\n",
       "        ...,\n",
       "        [0., 0., 0.,  ..., 0., 0., 0.],\n",
       "        [0., 0., 0.,  ..., 0., 0., 0.],\n",
       "        [0., 0., 0.,  ..., 0., 0., 0.]])"
      ]
     },
     "execution_count": 17,
     "metadata": {},
     "output_type": "execute_result"
    }
   ],
   "source": [
    "y = y0\n",
    "for i in range(4):\n",
    "    y.retain_grad()\n",
    "    val = fcts.SMART(fh, y, tau[0])\n",
    "    y = val.detach().requires_grad_(True)\n",
    "    print(fh(y))\n",
    "y0.grad.zero_()"
   ]
  },
  {
   "cell_type": "code",
   "execution_count": 18,
   "id": "61e1fadb-0e7b-44be-b911-4e9b13df0c41",
   "metadata": {},
   "outputs": [
    {
     "name": "stdout",
     "output_type": "stream",
     "text": [
      "tensor(1841.6135, dtype=torch.float64, grad_fn=<AddBackward0>)\n",
      "tensor(699.2074, dtype=torch.float64, grad_fn=<AddBackward0>)\n",
      "tensor(502.8924, dtype=torch.float64, grad_fn=<AddBackward0>)\n",
      "tensor(387.8069, dtype=torch.float64, grad_fn=<AddBackward0>)\n"
     ]
    },
    {
     "data": {
      "text/plain": [
       "tensor([[0., 0., 0.,  ..., 0., 0., 0.],\n",
       "        [0., 0., 0.,  ..., 0., 0., 0.],\n",
       "        [0., 0., 0.,  ..., 0., 0., 0.],\n",
       "        ...,\n",
       "        [0., 0., 0.,  ..., 0., 0., 0.],\n",
       "        [0., 0., 0.,  ..., 0., 0., 0.],\n",
       "        [0., 0., 0.,  ..., 0., 0., 0.]])"
      ]
     },
     "execution_count": 18,
     "metadata": {},
     "output_type": "execute_result"
    }
   ],
   "source": [
    "y = y0\n",
    "\n",
    "for i in range(4):\n",
    "    y.retain_grad()\n",
    "    fhy = fh(y)\n",
    "    fhy.backward(retain_graph = True)\n",
    "    val = y * myexp(-tau[0] * y.grad)\n",
    "    y = val.detach().requires_grad_(True)\n",
    "    print(fh(y))\n",
    "y0.grad.zero_()"
   ]
  },
  {
   "cell_type": "code",
   "execution_count": 19,
   "id": "30f5a4af-6a38-4742-8cc9-dfd395c79b27",
   "metadata": {},
   "outputs": [
    {
     "data": {
      "text/plain": [
       "<matplotlib.image.AxesImage at 0x7f054ba7b110>"
      ]
     },
     "execution_count": 19,
     "metadata": {},
     "output_type": "execute_result"
    },
    {
     "data": {
      "image/png": "[encoded data removed]",
      "text/plain": [
       "<Figure size 640x480 with 1 Axes>"
      ]
     },
     "metadata": {},
     "output_type": "display_data"
    }
   ],
   "source": [
    "plt.imshow(y.detach().numpy(), cmap = 'gray')"
   ]
  },
  {
   "cell_type": "markdown",
   "id": "82ccef1a-0295-4780-ba3c-a2daaf31443a",
   "metadata": {
    "tags": []
   },
   "source": [
    "## Test ML0\n",
    "first we start with one iterate. The recursive Aufruf of MLO still has a few issues to be resolved"
   ]
  },
  {
   "cell_type": "code",
   "execution_count": 20,
   "id": "75ea38ef-23b5-487f-bb53-9bc57e60d64a",
   "metadata": {},
   "outputs": [
    {
     "name": "stdout",
     "output_type": "stream",
     "text": [
      "tensor(241.1786, dtype=torch.float64, grad_fn=<AddBackward0>)\n"
     ]
    },
    {
     "data": {
      "text/plain": [
       "tensor([[0., 0., 0.,  ..., 0., 0., 0.],\n",
       "        [0., 0., 0.,  ..., 0., 0., 0.],\n",
       "        [0., 0., 0.,  ..., 0., 0., 0.],\n",
       "        ...,\n",
       "        [0., 0., 0.,  ..., 0., 0., 0.],\n",
       "        [0., 0., 0.,  ..., 0., 0., 0.],\n",
       "        [0., 0., 0.,  ..., 0., 0., 0.]])"
      ]
     },
     "execution_count": 20,
     "metadata": {},
     "output_type": "execute_result"
    }
   ],
   "source": [
    "y = y0\n",
    "y = MLO(fh, y)\n",
    "\n",
    "print(fh(y))\n",
    "y0.grad.zero_()"
   ]
  },
  {
   "cell_type": "code",
   "execution_count": 21,
   "id": "22955449-9906-4f41-a83e-49d13d7009ef",
   "metadata": {},
   "outputs": [
    {
     "data": {
      "text/plain": [
       "<matplotlib.image.AxesImage at 0x7f0546183150>"
      ]
     },
     "execution_count": 21,
     "metadata": {},
     "output_type": "execute_result"
    },
    {
     "data": {
      "image/png": "[encoded data removed]",
      "text/plain": [
       "<Figure size 640x480 with 1 Axes>"
      ]
     },
     "metadata": {},
     "output_type": "display_data"
    }
   ],
   "source": [
    "plt.imshow(y.detach().numpy(), cmap = 'gray')"
   ]
  },
  {
   "cell_type": "code",
   "execution_count": 22,
   "id": "d84ab95b-1a72-4855-aaef-e6e95da9b893",
   "metadata": {},
   "outputs": [
    {
     "name": "stdout",
     "output_type": "stream",
     "text": [
      "tensor(241.1786, dtype=torch.float64, grad_fn=<AddBackward0>)\n",
      "tensor(97.1876, dtype=torch.float64, grad_fn=<AddBackward0>)\n"
     ]
    },
    {
     "ename": "AssertionError",
     "evalue": "d needs to be a descent direction (dkg = 2.27529e+01)",
     "output_type": "error",
     "traceback": [
      "\u001b[0;31m---------------------------------------------------------------------------\u001b[0m",
      "\u001b[0;31mAssertionError\u001b[0m                            Traceback (most recent call last)",
      "Cell \u001b[0;32mIn[22], line 4\u001b[0m\n\u001b[1;32m      2\u001b[0m \u001b[38;5;28;01mfor\u001b[39;00m i \u001b[38;5;129;01min\u001b[39;00m \u001b[38;5;28mrange\u001b[39m(\u001b[38;5;241m4\u001b[39m):\n\u001b[1;32m      3\u001b[0m     y\u001b[38;5;241m.\u001b[39mretain_grad()\n\u001b[0;32m----> 4\u001b[0m     val \u001b[38;5;241m=\u001b[39m MLO(fh, y)\n\u001b[1;32m      5\u001b[0m     y\u001b[38;5;241m.\u001b[39mgrad\u001b[38;5;241m.\u001b[39mzero_()\n\u001b[1;32m      6\u001b[0m     y \u001b[38;5;241m=\u001b[39m val\u001b[38;5;241m.\u001b[39mdetach()\u001b[38;5;241m.\u001b[39mrequires_grad_(\u001b[38;5;28;01mTrue\u001b[39;00m)\n",
      "Cell \u001b[0;32mIn[13], line 19\u001b[0m, in \u001b[0;36mMLO\u001b[0;34m(fh, y, l)\u001b[0m\n\u001b[1;32m     17\u001b[0m \u001b[38;5;28;01massert\u001b[39;00m psi(x) \u001b[38;5;241m<\u001b[39m psi(x0), \u001b[38;5;124m'\u001b[39m\u001b[38;5;124mpsi(x) < psi(x0) = fH(x0) does not hold\u001b[39m\u001b[38;5;124m'\u001b[39m\n\u001b[1;32m     18\u001b[0m d \u001b[38;5;241m=\u001b[39m P(x\u001b[38;5;241m-\u001b[39mx0)\n\u001b[0;32m---> 19\u001b[0m z \u001b[38;5;241m=\u001b[39m fcts\u001b[38;5;241m.\u001b[39marmijo_linesearch(fh, y0, d)\n\u001b[1;32m     21\u001b[0m \u001b[38;5;28;01mfor\u001b[39;00m i \u001b[38;5;129;01min\u001b[39;00m \u001b[38;5;28mrange\u001b[39m(maxIter[l]):\n\u001b[1;32m     22\u001b[0m     z\u001b[38;5;241m.\u001b[39mretain_grad()\n",
      "File \u001b[0;32m~/multigrid/MGTomo/Yfunctions.py:39\u001b[0m, in \u001b[0;36marmijo_linesearch\u001b[0;34m(f, x, d, a, r, c)\u001b[0m\n\u001b[1;32m     36\u001b[0m f_new \u001b[38;5;241m=\u001b[39m f(x \u001b[38;5;241m+\u001b[39m a \u001b[38;5;241m*\u001b[39m d)\n\u001b[1;32m     37\u001b[0m x_new \u001b[38;5;241m=\u001b[39m x\n\u001b[0;32m---> 39\u001b[0m \u001b[38;5;28;01massert\u001b[39;00m dgk \u001b[38;5;241m<\u001b[39m\u001b[38;5;241m=\u001b[39m \u001b[38;5;241m0\u001b[39m, \u001b[38;5;124m'\u001b[39m\u001b[38;5;124md needs to be a descent direction (dkg = \u001b[39m\u001b[38;5;132;01m%.5e\u001b[39;00m\u001b[38;5;124m)\u001b[39m\u001b[38;5;124m'\u001b[39m \u001b[38;5;241m%\u001b[39m dgk\n\u001b[1;32m     41\u001b[0m \u001b[38;5;28;01mif\u001b[39;00m dgk \u001b[38;5;241m==\u001b[39m \u001b[38;5;241m0.\u001b[39m:\n\u001b[1;32m     42\u001b[0m     \u001b[38;5;28;01mreturn\u001b[39;00m x\n",
      "\u001b[0;31mAssertionError\u001b[0m: d needs to be a descent direction (dkg = 2.27529e+01)"
     ]
    }
   ],
   "source": [
    "y = y0.clone().detach().requires_grad_(True)\n",
    "for i in range(4):\n",
    "    y.retain_grad()\n",
    "    val = MLO(fh, y)\n",
    "    y.grad.zero_()\n",
    "    y = val.detach().requires_grad_(True)\n",
    "    print(fh(y))\n",
    "y0.grad.zero_()"
   ]
  },
  {
   "cell_type": "code",
   "execution_count": 23,
   "id": "f66cc2cb-5c12-4ba9-8c34-00aae363643d",
   "metadata": {},
   "outputs": [
    {
     "data": {
      "text/plain": [
       "<matplotlib.image.AxesImage at 0x7f054baab1d0>"
      ]
     },
     "execution_count": 23,
     "metadata": {},
     "output_type": "execute_result"
    },
    {
     "data": {
      "image/png": "[encoded data removed]",
      "text/plain": [
       "<Figure size 640x480 with 1 Axes>"
      ]
     },
     "metadata": {},
     "output_type": "display_data"
    }
   ],
   "source": [
    "plt.imshow(y.detach().numpy(), cmap = 'gray')"
   ]
  }
 ],
 "metadata": {
  "kernelspec": {
   "display_name": "Python [conda env:.conda-MLcupy_v2]",
   "language": "python",
   "name": "conda-env-.conda-MLcupy_v2-py"
  },
  "language_info": {
   "codemirror_mode": {
    "name": "ipython",
    "version": 3
   },
   "file_extension": ".py",
   "mimetype": "text/x-python",
   "name": "python",
   "nbconvert_exporter": "python",
   "pygments_lexer": "ipython3",
   "version": "3.11.9"
  }
 },
 "nbformat": 4,
 "nbformat_minor": 5
}
