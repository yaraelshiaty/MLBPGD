{
 "cells": [
  {
   "cell_type": "code",
   "execution_count": 1,
   "id": "6374acba-a47c-41da-ac92-67e5d138db98",
   "metadata": {},
   "outputs": [],
   "source": [
    "import MGTomo.model as mgmodel\n",
    "import numpy as np\n",
    "import astra\n",
    "import MGTomo.tomoprojection as mgproj\n",
    "from MGTomo.utils import myexp, mylog, mydiv\n",
    "import MGTomo.Yfunctions as fcts\n",
    "from scipy import interpolate\n",
    "from skimage.data import shepp_logan_phantom\n",
    "from skimage.transform import resize\n",
    "\n",
    "import torch\n",
    "from torch.func import grad"
   ]
  },
  {
   "cell_type": "code",
   "execution_count": 2,
   "id": "761d7c2b-7d79-4312-b19b-bc63f670454a",
   "metadata": {},
   "outputs": [
    {
     "data": {
      "text/plain": [
       "<torch.autograd.anomaly_mode.set_detect_anomaly at 0x7f3f925cb710>"
      ]
     },
     "execution_count": 2,
     "metadata": {},
     "output_type": "execute_result"
    }
   ],
   "source": [
    "torch.autograd.set_detect_anomaly(True)"
   ]
  },
  {
   "cell_type": "code",
   "execution_count": 3,
   "id": "a51ef2ac-98b6-41ed-9b96-5b24792ed0bd",
   "metadata": {},
   "outputs": [],
   "source": [
    "max_levels = 1\n",
    "maxIter = [5,5]"
   ]
  },
  {
   "cell_type": "code",
   "execution_count": 4,
   "id": "e690c657-fb78-412a-b760-299a9b282358",
   "metadata": {},
   "outputs": [],
   "source": [
    "N = 63\n",
    "# load image\n",
    "x_orig = shepp_logan_phantom()\n",
    "x_orig = resize(x_orig, (N,N), anti_aliasing = False)\n",
    "\n",
    "x_torch = torch.tensor(x_orig, requires_grad = True)"
   ]
  },
  {
   "cell_type": "code",
   "execution_count": 5,
   "id": "cc6bbe16-bfcd-453f-8884-481ef0f69488",
   "metadata": {},
   "outputs": [],
   "source": [
    "model = mgmodel.astra_model(N,{'mode' : 'line', 'num_angles' : 50, 'level_decrease' : 1})\n",
    "fine_dim = model.dim\n",
    "A = [mgproj.TomoTorch(model.proj_factory(fine_dim))]\n",
    "b = [A[0](x_torch)]\n",
    "level = {int(np.sqrt(A[0].shape[1])): 0}\n",
    "\n",
    "for i in range(1,max_levels+1):\n",
    "    coarse_dim = model.reduce_dim(fine_dim)\n",
    "    A.append(mgproj.TomoTorch(model.proj_factory(coarse_dim)))\n",
    "    b.append(torch.from_numpy(model.reduce_rhs(b[-1].detach().numpy(), fine_dim, coarse_dim)))\n",
    "    level.update({int(np.sqrt(A[i].shape[1])): i})\n",
    "    fine_dim=coarse_dim"
   ]
  },
  {
   "cell_type": "code",
   "execution_count": 6,
   "id": "2811ce80-01ca-43fe-a158-db0d8bc34592",
   "metadata": {},
   "outputs": [
    {
     "name": "stdout",
     "output_type": "stream",
     "text": [
      "{63: 0, 31: 1}\n"
     ]
    }
   ],
   "source": [
    "print(level)"
   ]
  },
  {
   "cell_type": "code",
   "execution_count": 7,
   "id": "275a70d0-a86d-401c-95b4-7d8ee2d37133",
   "metadata": {},
   "outputs": [
    {
     "name": "stdout",
     "output_type": "stream",
     "text": [
      "level 0: 3150 3150 63.0\n",
      "level 1: 1550 1550 31.0\n"
     ]
    }
   ],
   "source": [
    "for i in range(max_levels+1):\n",
    "    assert b[i].shape[0]*b[i].shape[1] == A[i].shape[0], 'dimension mismatch'\n",
    "    print(f'level {i}:', b[i].shape[0]*b[i].shape[1], A[i].shape[0], np.sqrt(A[i].shape[1]))"
   ]
  },
  {
   "cell_type": "code",
   "execution_count": 8,
   "id": "d6579b32-b8ff-465f-a7f9-8902a2bdc837",
   "metadata": {},
   "outputs": [],
   "source": [
    "import matplotlib.pyplot as plt "
   ]
  },
  {
   "cell_type": "code",
   "execution_count": 9,
   "id": "acca37cd-7c3a-4b40-b6a1-2cd78ffcc301",
   "metadata": {},
   "outputs": [
    {
     "data": {
      "text/plain": [
       "<matplotlib.image.AxesImage at 0x7f3f38329910>"
      ]
     },
     "execution_count": 9,
     "metadata": {},
     "output_type": "execute_result"
    },
    {
     "data": {
      "image/png": "[encoded data removed]",
      "text/plain": [
       "<Figure size 640x480 with 1 Axes>"
      ]
     },
     "metadata": {},
     "output_type": "display_data"
    }
   ],
   "source": [
    "plt.imshow(x_orig, cmap = 'gray')"
   ]
  },
  {
   "cell_type": "markdown",
   "id": "b25fdc5c-d004-46b2-b980-6ab9e440ac8c",
   "metadata": {},
   "source": [
    "## Operators and objective definition"
   ]
  },
  {
   "cell_type": "code",
   "execution_count": 10,
   "id": "afcf8edf-1104-4d49-b8c6-b31269b1f4fb",
   "metadata": {},
   "outputs": [],
   "source": [
    "fh = lambda x: fcts.kl_distance(x, A[0], b[0])"
   ]
  },
  {
   "cell_type": "code",
   "execution_count": 11,
   "id": "4d4b95b9-78aa-4f6b-a5f0-9c27c00345d3",
   "metadata": {},
   "outputs": [],
   "source": [
    "def R(y):\n",
    "    x = y[1:-1:2, 1:-1:2]\n",
    "    return x\n",
    "\n",
    "def bilinear_interpolation(v):\n",
    "    inter = interpolate.RegularGridInterpolator((np.arange(1,2*v.shape[0],2), np.arange(1,2*v.shape[1],2)), v.detach().numpy(), method='linear', bounds_error=False, fill_value=0.0)\n",
    "    xx, yy = np.meshgrid(np.arange(0,2*v.shape[0]+1), np.arange(0,2*v.shape[1]+1))\n",
    "    return inter((yy,xx))\n",
    "\n",
    "def P(x):\n",
    "    return torch.from_numpy(bilinear_interpolation(x))"
   ]
  },
  {
   "cell_type": "markdown",
   "id": "1176e0f3-b0c3-40b7-9d4b-b8c2e301ede2",
   "metadata": {},
   "source": [
    "## Coarsening functions tester"
   ]
  },
  {
   "cell_type": "code",
   "execution_count": 12,
   "id": "3e612b42-0384-45db-875b-0a308b9f4731",
   "metadata": {},
   "outputs": [],
   "source": [
    "def coarsen_fn(fh, x, y0, l):\n",
    "    x0 = R(y0)\n",
    "    x0.retain_grad()\n",
    "    \n",
    "    fH = lambda x: fcts.kl_distance(x, A[l], b[l])\n",
    "    \n",
    "    fhy0 = fh(y0)\n",
    "    fhy0.backward(retain_graph = True)\n",
    "    \n",
    "    fHx0 = fH(x0)\n",
    "    fHx0.backward(retain_graph = True)\n",
    "    \n",
    "    kappa = R(y0.grad) - x0.grad\n",
    "    val = fH(x) + torch.sum(kappa * x)\n",
    "    \n",
    "    return val"
   ]
  },
  {
   "cell_type": "code",
   "execution_count": 13,
   "id": "a4cf6312-ea7d-41a5-9890-c8917e6ce354",
   "metadata": {},
   "outputs": [],
   "source": [
    "def MLO(fh, y, l=0):\n",
    "    #y.requires_grad = True\n",
    "    x = R(y)\n",
    "    x.retain_grad()\n",
    "    y0, x0 = y, R(y)\n",
    "    psi = lambda x: coarsen_fn(fh, x, y0, l+1)\n",
    "    \n",
    "    for i in range(maxIter[l]):\n",
    "        x.retain_grad()\n",
    "        x = fcts.SMART(psi, x, tau)\n",
    "        \n",
    "    if l < max_levels-1:\n",
    "        x = MLO(psi, x, l+1)\n",
    "        \n",
    "    d = P(x-x0)\n",
    "    #print(d)\n",
    "    y = fcts.armijo_linesearch(fh, y0, d)\n",
    "    #print(y.requires_grad)\n",
    "    \n",
    "    for i in range(maxIter[l]):\n",
    "        y.retain_grad()\n",
    "        y = fcts.SMART(fh, y, tau)\n",
    "    \n",
    "    return y"
   ]
  },
  {
   "cell_type": "markdown",
   "id": "7fc71bd0-e2fe-4c30-ab58-bd30e58daf21",
   "metadata": {
    "tags": []
   },
   "source": [
    "# Tests"
   ]
  },
  {
   "cell_type": "code",
   "execution_count": 14,
   "id": "0b8c2a89-eb7a-4a1d-b212-f87bcddee5bf",
   "metadata": {},
   "outputs": [],
   "source": [
    "tau = 1/A[0].sumnorm()\n",
    "\n",
    "y0 = torch.ones(N, N)*0.5\n",
    "y0.requires_grad = True"
   ]
  },
  {
   "cell_type": "markdown",
   "id": "6ac3a4fa-539c-48d8-affa-cceea89f1c54",
   "metadata": {},
   "source": [
    "## Test KL-div"
   ]
  },
  {
   "cell_type": "code",
   "execution_count": 15,
   "id": "477da059-7a4f-4d88-9774-ca144c5af8cc",
   "metadata": {},
   "outputs": [
    {
     "name": "stdout",
     "output_type": "stream",
     "text": [
      "tensor(0.6704, dtype=torch.float64, grad_fn=<SumBackward0>)\n"
     ]
    }
   ],
   "source": [
    "y = y0\n",
    "for i in range(200):\n",
    "    y.retain_grad()\n",
    "    y = fcts.SMART(fh, y, tau)\n",
    "print(fh(y))"
   ]
  },
  {
   "cell_type": "code",
   "execution_count": 16,
   "id": "30f5a4af-6a38-4742-8cc9-dfd395c79b27",
   "metadata": {},
   "outputs": [
    {
     "data": {
      "text/plain": [
       "<matplotlib.image.AxesImage at 0x7f3f342fead0>"
      ]
     },
     "execution_count": 16,
     "metadata": {},
     "output_type": "execute_result"
    },
    {
     "data": {
      "image/png": "[encoded data removed]",
      "text/plain": [
       "<Figure size 640x480 with 1 Axes>"
      ]
     },
     "metadata": {},
     "output_type": "display_data"
    }
   ],
   "source": [
    "plt.imshow(y.detach().numpy(), cmap = 'gray')"
   ]
  },
  {
   "cell_type": "markdown",
   "id": "82ccef1a-0295-4780-ba3c-a2daaf31443a",
   "metadata": {},
   "source": [
    "## Test ML0\n",
    "first we start with one iterate. The recursive Aufruf of MLO still has a few issues to be resolved"
   ]
  },
  {
   "cell_type": "code",
   "execution_count": 17,
   "id": "dbf562ca-aae5-4ffa-91c3-ce29df2fda8b",
   "metadata": {},
   "outputs": [],
   "source": [
    "y1 = MLO(fh, y0)"
   ]
  },
  {
   "cell_type": "code",
   "execution_count": 18,
   "id": "d84ab95b-1a72-4855-aaef-e6e95da9b893",
   "metadata": {},
   "outputs": [
    {
     "data": {
      "text/plain": [
       "tensor([[1.6410e-10, 1.0014e-11, 1.9059e-12,  ..., 1.0725e-13, 5.6058e-13,\n",
       "         4.5385e-11],\n",
       "        [6.2014e-12, 2.1379e-17, 1.6139e-12,  ..., 1.9685e-13, 3.6607e-18,\n",
       "         6.5854e-13],\n",
       "        [1.6619e-09, 7.1751e-09, 2.0729e-10,  ..., 9.0652e-12, 5.6422e-10,\n",
       "         1.1331e-10],\n",
       "        ...,\n",
       "        [3.5512e-13, 1.7002e-10, 3.6790e-12,  ..., 6.2444e-12, 9.3634e-11,\n",
       "         3.0097e-13],\n",
       "        [7.5160e-12, 1.2195e-18, 1.1276e-11,  ..., 3.9994e-11, 1.5806e-18,\n",
       "         3.1938e-12],\n",
       "        [1.3037e-10, 4.8635e-11, 9.1685e-12,  ..., 1.7520e-11, 7.4132e-11,\n",
       "         1.3805e-10]], grad_fn=<MulBackward0>)"
      ]
     },
     "execution_count": 18,
     "metadata": {},
     "output_type": "execute_result"
    }
   ],
   "source": [
    "y1"
   ]
  }
 ],
 "metadata": {
  "kernelspec": {
   "display_name": "Python [conda env:.conda-MLcupy_v2]",
   "language": "python",
   "name": "conda-env-.conda-MLcupy_v2-py"
  },
  "language_info": {
   "codemirror_mode": {
    "name": "ipython",
    "version": 3
   },
   "file_extension": ".py",
   "mimetype": "text/x-python",
   "name": "python",
   "nbconvert_exporter": "python",
   "pygments_lexer": "ipython3",
   "version": "3.11.9"
  }
 },
 "nbformat": 4,
 "nbformat_minor": 5
}
