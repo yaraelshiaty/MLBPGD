{
 "cells": [
  {
   "cell_type": "code",
   "execution_count": 3,
   "id": "2ee111df-ddee-4717-bc48-cc679370a45b",
   "metadata": {},
   "outputs": [],
   "source": [
    "from MGTomo import gridop \n",
    "\n",
    "import torch"
   ]
  },
  {
   "cell_type": "code",
   "execution_count": 4,
   "id": "46c24774-e1e0-4105-94ba-d30e92c8f5aa",
   "metadata": {},
   "outputs": [
    {
     "name": "stdout",
     "output_type": "stream",
     "text": [
      "Output matrix shape: torch.Size([63, 63])\n"
     ]
    }
   ],
   "source": [
    "# Example usage:\n",
    "# Define a 31x31 input matrix\n",
    "input_matrix = torch.rand(31, 31)\n",
    "\n",
    "# Apply upsampling convolution\n",
    "output_matrix = gridop.P(input_matrix)\n",
    "\n",
    "# Check the shape of the output matrix\n",
    "print(\"Output matrix shape:\", output_matrix.shape)"
   ]
  },
  {
   "cell_type": "code",
   "execution_count": 5,
   "id": "b4883565-0cf5-4d4e-9587-557173296eed",
   "metadata": {},
   "outputs": [
    {
     "name": "stdout",
     "output_type": "stream",
     "text": [
      "Output matrix shape: torch.Size([31, 31])\n"
     ]
    }
   ],
   "source": [
    "# Example usage:\n",
    "# Define a 63x63 input matrix (output from P)\n",
    "input_matrix = torch.rand(63, 63)\n",
    "\n",
    "# Apply restriction operator\n",
    "output_matrix = gridop.R(input_matrix)\n",
    "\n",
    "# Check the shape of the output matrix\n",
    "print(\"Output matrix shape:\", output_matrix.shape)"
   ]
  },
  {
   "cell_type": "code",
   "execution_count": 6,
   "id": "8c593079-c85e-4a7f-9ff7-b755cbb7b508",
   "metadata": {},
   "outputs": [],
   "source": [
    "x = torch.randn(31,31)\n",
    "y = torch.randn(63,63)"
   ]
  },
  {
   "cell_type": "code",
   "execution_count": 7,
   "id": "54745bff-b041-4ac3-8209-7edc7a358c15",
   "metadata": {},
   "outputs": [
    {
     "data": {
      "text/plain": [
       "tensor(18.9666)"
      ]
     },
     "execution_count": 7,
     "metadata": {},
     "output_type": "execute_result"
    }
   ],
   "source": [
    "torch.sum(gridop.R(y)*x)"
   ]
  },
  {
   "cell_type": "code",
   "execution_count": 8,
   "id": "242fa692-eefe-43b0-ada6-027279e8c680",
   "metadata": {},
   "outputs": [
    {
     "data": {
      "text/plain": [
       "tensor(18.9666)"
      ]
     },
     "execution_count": 8,
     "metadata": {},
     "output_type": "execute_result"
    }
   ],
   "source": [
    "torch.sum(y*gridop.P(x))"
   ]
  },
  {
   "cell_type": "code",
   "execution_count": 9,
   "id": "6577e3ad-4cc3-4286-aec4-aa974db7557b",
   "metadata": {},
   "outputs": [
    {
     "data": {
      "text/plain": [
       "tensor(0.0007)"
      ]
     },
     "execution_count": 9,
     "metadata": {},
     "output_type": "execute_result"
    }
   ],
   "source": [
    "(gridop.R(gridop.P(x)) - x).abs().min()"
   ]
  },
  {
   "cell_type": "code",
   "execution_count": 10,
   "id": "ff41e4f8-470f-4783-a919-71a8ae3e003e",
   "metadata": {},
   "outputs": [
    {
     "data": {
      "text/plain": [
       "tensor(-32.3416)"
      ]
     },
     "execution_count": 10,
     "metadata": {},
     "output_type": "execute_result"
    }
   ],
   "source": [
    "torch.sum(gridop.R_v3(y)*x)"
   ]
  }
 ],
 "metadata": {
  "kernelspec": {
   "display_name": "Python [conda env:.conda-MLcupy_v2]",
   "language": "python",
   "name": "conda-env-.conda-MLcupy_v2-py"
  },
  "language_info": {
   "codemirror_mode": {
    "name": "ipython",
    "version": 3
   },
   "file_extension": ".py",
   "mimetype": "text/x-python",
   "name": "python",
   "nbconvert_exporter": "python",
   "pygments_lexer": "ipython3",
   "version": "3.11.9"
  }
 },
 "nbformat": 4,
 "nbformat_minor": 5
}
