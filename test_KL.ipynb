{
 "cells": [
  {
   "cell_type": "code",
   "execution_count": 1,
   "id": "0986dd66-3b31-41c1-bd2c-a49e2215663b",
   "metadata": {},
   "outputs": [],
   "source": [
    "import MGTomo.model as mgmodel\n",
    "import numpy as np\n",
    "import MGTomo.tomoprojection as mgproj\n",
    "from MGTomo.utils import myexp, mylog, mydiv\n",
    "import MGTomo.Yfunctions as fcts\n",
    "from MGTomo.gridop import P,R\n",
    "\n",
    "import torch\n",
    "from torch.func import grad"
   ]
  },
  {
   "cell_type": "code",
   "execution_count": 11,
   "id": "194f49b8-52ef-41da-9a49-beec83dcc8ca",
   "metadata": {},
   "outputs": [],
   "source": [
    "def kl_distance_v2(ax: torch.tensor, b: torch.tensor):\n",
    "    ab = mydiv(ax,b)\n",
    "    \n",
    "    erg = ax * mylog(ab) + b - ax\n",
    "    fx = torch.sum( erg[b > 0.] ) + 0.5*torch.sum(ax[b == 0.]**2)\n",
    "    #fx = torch.sum(erg[b > 0.])\n",
    "    assert fx >= 0, 'kl distance error: output is negative.'\n",
    "    return fx.requires_grad_(True)"
   ]
  },
  {
   "cell_type": "code",
   "execution_count": 12,
   "id": "0368ddc4-4ffb-4d84-8b19-2520a4457568",
   "metadata": {},
   "outputs": [],
   "source": [
    "def kl_distance(ax: torch.tensor, b: torch.tensor):\n",
    "    erg = ax * (mylog(ax) - mylog(b)) + b - ax\n",
    "    fx = torch.sum( erg[b > 0.] ) + 0.5*torch.sum(ax[b == 0.]**2)\n",
    "    assert fx >= 0, 'kl distance error: output is negative.'\n",
    "    return fx.requires_grad_(True)"
   ]
  },
  {
   "cell_type": "code",
   "execution_count": 13,
   "id": "67b29cb3-4872-4baf-b13c-4fa457f23de3",
   "metadata": {},
   "outputs": [],
   "source": [
    "ax = torch.rand(2,2, requires_grad = True)*4\n",
    "b = torch.rand(2,2, requires_grad = True)*0"
   ]
  },
  {
   "cell_type": "code",
   "execution_count": 14,
   "id": "5d5b2300-180f-41a4-9148-4f05b54c6946",
   "metadata": {},
   "outputs": [
    {
     "data": {
      "text/plain": [
       "tensor(5.1756, grad_fn=<AddBackward0>)"
      ]
     },
     "execution_count": 14,
     "metadata": {},
     "output_type": "execute_result"
    }
   ],
   "source": [
    "kl_distance_v2(ax, b)"
   ]
  },
  {
   "cell_type": "code",
   "execution_count": 15,
   "id": "6cdf2e07-a2d3-407f-af53-58b34f1782a6",
   "metadata": {},
   "outputs": [
    {
     "data": {
      "text/plain": [
       "tensor(5.1756, grad_fn=<AddBackward0>)"
      ]
     },
     "execution_count": 15,
     "metadata": {},
     "output_type": "execute_result"
    }
   ],
   "source": [
    "kl_distance(ax,b)"
   ]
  },
  {
   "cell_type": "code",
   "execution_count": 16,
   "id": "ba25723d-fb62-4d4f-a727-78d718ac7797",
   "metadata": {},
   "outputs": [
    {
     "data": {
      "text/plain": [
       "tensor([[1.6472, 0.8197],\n",
       "        [0.1816, 2.6331]], grad_fn=<MulBackward0>)"
      ]
     },
     "execution_count": 16,
     "metadata": {},
     "output_type": "execute_result"
    }
   ],
   "source": [
    "ax"
   ]
  }
 ],
 "metadata": {
  "kernelspec": {
   "display_name": "Python [conda env:.conda-MLcupy_v2]",
   "language": "python",
   "name": "conda-env-.conda-MLcupy_v2-py"
  },
  "language_info": {
   "codemirror_mode": {
    "name": "ipython",
    "version": 3
   },
   "file_extension": ".py",
   "mimetype": "text/x-python",
   "name": "python",
   "nbconvert_exporter": "python",
   "pygments_lexer": "ipython3",
   "version": "3.11.9"
  }
 },
 "nbformat": 4,
 "nbformat_minor": 5
}
