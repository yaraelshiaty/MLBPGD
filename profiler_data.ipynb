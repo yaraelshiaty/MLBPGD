{
 "cells": [
  {
   "cell_type": "code",
   "execution_count": 1,
   "metadata": {},
   "outputs": [],
   "source": [
    "import torch\n",
    "from torch.profiler import profile, record_function, ProfilerActivity"
   ]
  },
  {
   "cell_type": "code",
   "execution_count": 2,
   "metadata": {},
   "outputs": [
    {
     "name": "stdout",
     "output_type": "stream",
     "text": [
      "level 0: 200 1023.0\n",
      "level 1: 100 511.0\n",
      "level 2: 100 255.0\n",
      "level 3: 99 127.0\n",
      "0  : coarse correction activated\n",
      "1  : coarse correction activated\n",
      "2  : coarse correction activated\n",
      "Iteration 0: 7845572.116819603 - Time: 42.623239 seconds\n",
      "0  : coarse correction activated\n",
      "1  : coarse correction activated\n",
      "2  : coarse correction activated\n",
      "Iteration 1: 5044549.724754837 - Time: 41.446445 seconds\n",
      "0  : coarse correction activated\n",
      "1  : coarse correction activated\n",
      "2  : coarse correction activated\n"
     ]
    },
    {
     "ename": "KeyboardInterrupt",
     "evalue": "",
     "output_type": "error",
     "traceback": [
      "\u001b[0;31m---------------------------------------------------------------------------\u001b[0m",
      "\u001b[0;31mKeyboardInterrupt\u001b[0m                         Traceback (most recent call last)",
      "Cell \u001b[0;32mIn[2], line 1\u001b[0m\n\u001b[0;32m----> 1\u001b[0m \u001b[38;5;28;01mimport\u001b[39;00m \u001b[38;5;21;01mKLAxb_Shannon_reconstruction\u001b[39;00m \u001b[38;5;28;01mas\u001b[39;00m \u001b[38;5;21;01mSrecon\u001b[39;00m\n\u001b[1;32m      3\u001b[0m \u001b[38;5;28;01mwith\u001b[39;00m profile(activities\u001b[38;5;241m=\u001b[39m[ProfilerActivity\u001b[38;5;241m.\u001b[39mCPU], record_shapes\u001b[38;5;241m=\u001b[39m\u001b[38;5;28;01mTrue\u001b[39;00m) \u001b[38;5;28;01mas\u001b[39;00m prof:\n\u001b[1;32m      4\u001b[0m     \u001b[38;5;28;01mwith\u001b[39;00m record_function(\u001b[38;5;124m\"\u001b[39m\u001b[38;5;124mMLO\u001b[39m\u001b[38;5;124m\"\u001b[39m):\n",
      "File \u001b[0;32m~/multigrid/KLAxb_Shannon_reconstruction.py:177\u001b[0m\n\u001b[1;32m    174\u001b[0m \u001b[38;5;28;01mfor\u001b[39;00m i \u001b[38;5;129;01min\u001b[39;00m \u001b[38;5;28mrange\u001b[39m(hparams[\u001b[38;5;124m'\u001b[39m\u001b[38;5;124mML_iterate_count\u001b[39m\u001b[38;5;124m'\u001b[39m]):\n\u001b[1;32m    175\u001b[0m     iteration_start_time_ML \u001b[38;5;241m=\u001b[39m time\u001b[38;5;241m.\u001b[39mtime()\n\u001b[0;32m--> 177\u001b[0m     val, ylast \u001b[38;5;241m=\u001b[39m MLO_box(fh, z0, lh, uh, last_pts)\n\u001b[1;32m    178\u001b[0m     iteration_end_time_ML \u001b[38;5;241m=\u001b[39m time\u001b[38;5;241m.\u001b[39mtime()\n\u001b[1;32m    179\u001b[0m     iteration_time_ML \u001b[38;5;241m=\u001b[39m iteration_end_time_ML \u001b[38;5;241m-\u001b[39m iteration_start_time_ML\n",
      "File \u001b[0;32m~/multigrid/KLAxb_Shannon_reconstruction.py:121\u001b[0m, in \u001b[0;36mMLO_box\u001b[0;34m(fh, y, lh, uh, last_pts, l, kappa, eps)\u001b[0m\n\u001b[1;32m    118\u001b[0m     x\u001b[38;5;241m.\u001b[39mgrad \u001b[38;5;241m=\u001b[39m \u001b[38;5;28;01mNone\u001b[39;00m\n\u001b[1;32m    120\u001b[0m \u001b[38;5;28;01mif\u001b[39;00m l \u001b[38;5;241m<\u001b[39m hparams[\u001b[38;5;124m\"\u001b[39m\u001b[38;5;124mmax_levels\u001b[39m\u001b[38;5;124m\"\u001b[39m]\u001b[38;5;241m-\u001b[39m\u001b[38;5;241m1\u001b[39m:\n\u001b[0;32m--> 121\u001b[0m     x, last_pts \u001b[38;5;241m=\u001b[39m MLO_box(psi, x,lH, uH, last_pts, l\u001b[38;5;241m+\u001b[39m\u001b[38;5;241m1\u001b[39m)\n\u001b[1;32m    123\u001b[0m d \u001b[38;5;241m=\u001b[39m P(x\u001b[38;5;241m-\u001b[39mx0)\n\u001b[1;32m    124\u001b[0m z, _ \u001b[38;5;241m=\u001b[39m armijo_linesearch(fh, y, d)\n",
      "File \u001b[0;32m~/multigrid/KLAxb_Shannon_reconstruction.py:124\u001b[0m, in \u001b[0;36mMLO_box\u001b[0;34m(fh, y, lh, uh, last_pts, l, kappa, eps)\u001b[0m\n\u001b[1;32m    121\u001b[0m         x, last_pts \u001b[38;5;241m=\u001b[39m MLO_box(psi, x,lH, uH, last_pts, l\u001b[38;5;241m+\u001b[39m\u001b[38;5;241m1\u001b[39m)\n\u001b[1;32m    123\u001b[0m     d \u001b[38;5;241m=\u001b[39m P(x\u001b[38;5;241m-\u001b[39mx0)\n\u001b[0;32m--> 124\u001b[0m     z, _ \u001b[38;5;241m=\u001b[39m armijo_linesearch(fh, y, d)\n\u001b[1;32m    125\u001b[0m     y \u001b[38;5;241m=\u001b[39m z\u001b[38;5;241m.\u001b[39mdetach()\u001b[38;5;241m.\u001b[39mrequires_grad_(\u001b[38;5;28;01mTrue\u001b[39;00m)\n\u001b[1;32m    126\u001b[0m \u001b[38;5;28;01melse\u001b[39;00m: \n",
      "File \u001b[0;32m~/multigrid/MGTomo/optimize.py:44\u001b[0m, in \u001b[0;36marmijo_linesearch\u001b[0;34m(f, x, d, a, r, c)\u001b[0m\n\u001b[1;32m     42\u001b[0m \u001b[38;5;28;01mdef\u001b[39;00m \u001b[38;5;21marmijo_linesearch\u001b[39m(f, x: torch\u001b[38;5;241m.\u001b[39mtensor, d: torch\u001b[38;5;241m.\u001b[39mtensor, a\u001b[38;5;241m=\u001b[39m\u001b[38;5;241m1.\u001b[39m, r \u001b[38;5;241m=\u001b[39m \u001b[38;5;241m0.5\u001b[39m, c \u001b[38;5;241m=\u001b[39m \u001b[38;5;241m1e-3\u001b[39m):\n\u001b[1;32m     43\u001b[0m     fx \u001b[38;5;241m=\u001b[39m f(x)\n\u001b[0;32m---> 44\u001b[0m     fx\u001b[38;5;241m.\u001b[39mbackward(retain_graph\u001b[38;5;241m=\u001b[39m\u001b[38;5;28;01mTrue\u001b[39;00m)\n\u001b[1;32m     45\u001b[0m     dgk \u001b[38;5;241m=\u001b[39m torch\u001b[38;5;241m.\u001b[39msum(x\u001b[38;5;241m.\u001b[39mgrad \u001b[38;5;241m*\u001b[39m d)\n\u001b[1;32m     47\u001b[0m     \u001b[38;5;28;01massert\u001b[39;00m dgk \u001b[38;5;241m<\u001b[39m\u001b[38;5;241m=\u001b[39m \u001b[38;5;241m0\u001b[39m, \u001b[38;5;124m'\u001b[39m\u001b[38;5;124md needs to be a descent direction (dgk = \u001b[39m\u001b[38;5;132;01m%.5e\u001b[39;00m\u001b[38;5;124m)\u001b[39m\u001b[38;5;124m'\u001b[39m \u001b[38;5;241m%\u001b[39m dgk\n",
      "File \u001b[0;32m~/.conda/envs/MLcupy_v2/lib/python3.11/site-packages/torch/_tensor.py:521\u001b[0m, in \u001b[0;36mTensor.backward\u001b[0;34m(self, gradient, retain_graph, create_graph, inputs)\u001b[0m\n\u001b[1;32m    511\u001b[0m \u001b[38;5;28;01mif\u001b[39;00m has_torch_function_unary(\u001b[38;5;28mself\u001b[39m):\n\u001b[1;32m    512\u001b[0m     \u001b[38;5;28;01mreturn\u001b[39;00m handle_torch_function(\n\u001b[1;32m    513\u001b[0m         Tensor\u001b[38;5;241m.\u001b[39mbackward,\n\u001b[1;32m    514\u001b[0m         (\u001b[38;5;28mself\u001b[39m,),\n\u001b[0;32m   (...)\u001b[0m\n\u001b[1;32m    519\u001b[0m         inputs\u001b[38;5;241m=\u001b[39minputs,\n\u001b[1;32m    520\u001b[0m     )\n\u001b[0;32m--> 521\u001b[0m torch\u001b[38;5;241m.\u001b[39mautograd\u001b[38;5;241m.\u001b[39mbackward(\n\u001b[1;32m    522\u001b[0m     \u001b[38;5;28mself\u001b[39m, gradient, retain_graph, create_graph, inputs\u001b[38;5;241m=\u001b[39minputs\n\u001b[1;32m    523\u001b[0m )\n",
      "File \u001b[0;32m~/.conda/envs/MLcupy_v2/lib/python3.11/site-packages/torch/autograd/__init__.py:289\u001b[0m, in \u001b[0;36mbackward\u001b[0;34m(tensors, grad_tensors, retain_graph, create_graph, grad_variables, inputs)\u001b[0m\n\u001b[1;32m    284\u001b[0m     retain_graph \u001b[38;5;241m=\u001b[39m create_graph\n\u001b[1;32m    286\u001b[0m \u001b[38;5;66;03m# The reason we repeat the same comment below is that\u001b[39;00m\n\u001b[1;32m    287\u001b[0m \u001b[38;5;66;03m# some Python versions print out the first line of a multi-line function\u001b[39;00m\n\u001b[1;32m    288\u001b[0m \u001b[38;5;66;03m# calls in the traceback and some print out the last line\u001b[39;00m\n\u001b[0;32m--> 289\u001b[0m _engine_run_backward(\n\u001b[1;32m    290\u001b[0m     tensors,\n\u001b[1;32m    291\u001b[0m     grad_tensors_,\n\u001b[1;32m    292\u001b[0m     retain_graph,\n\u001b[1;32m    293\u001b[0m     create_graph,\n\u001b[1;32m    294\u001b[0m     inputs,\n\u001b[1;32m    295\u001b[0m     allow_unreachable\u001b[38;5;241m=\u001b[39m\u001b[38;5;28;01mTrue\u001b[39;00m,\n\u001b[1;32m    296\u001b[0m     accumulate_grad\u001b[38;5;241m=\u001b[39m\u001b[38;5;28;01mTrue\u001b[39;00m,\n\u001b[1;32m    297\u001b[0m )\n",
      "File \u001b[0;32m~/.conda/envs/MLcupy_v2/lib/python3.11/site-packages/torch/autograd/graph.py:769\u001b[0m, in \u001b[0;36m_engine_run_backward\u001b[0;34m(t_outputs, *args, **kwargs)\u001b[0m\n\u001b[1;32m    767\u001b[0m     unregister_hooks \u001b[38;5;241m=\u001b[39m _register_logging_hooks_on_whole_graph(t_outputs)\n\u001b[1;32m    768\u001b[0m \u001b[38;5;28;01mtry\u001b[39;00m:\n\u001b[0;32m--> 769\u001b[0m     \u001b[38;5;28;01mreturn\u001b[39;00m Variable\u001b[38;5;241m.\u001b[39m_execution_engine\u001b[38;5;241m.\u001b[39mrun_backward(  \u001b[38;5;66;03m# Calls into the C++ engine to run the backward pass\u001b[39;00m\n\u001b[1;32m    770\u001b[0m         t_outputs, \u001b[38;5;241m*\u001b[39margs, \u001b[38;5;241m*\u001b[39m\u001b[38;5;241m*\u001b[39mkwargs\n\u001b[1;32m    771\u001b[0m     )  \u001b[38;5;66;03m# Calls into the C++ engine to run the backward pass\u001b[39;00m\n\u001b[1;32m    772\u001b[0m \u001b[38;5;28;01mfinally\u001b[39;00m:\n\u001b[1;32m    773\u001b[0m     \u001b[38;5;28;01mif\u001b[39;00m attach_logging_hooks:\n",
      "File \u001b[0;32m~/.conda/envs/MLcupy_v2/lib/python3.11/site-packages/torch/autograd/function.py:306\u001b[0m, in \u001b[0;36mBackwardCFunction.apply\u001b[0;34m(self, *args)\u001b[0m\n\u001b[1;32m    300\u001b[0m     \u001b[38;5;28;01mraise\u001b[39;00m \u001b[38;5;167;01mRuntimeError\u001b[39;00m(\n\u001b[1;32m    301\u001b[0m         \u001b[38;5;124m\"\u001b[39m\u001b[38;5;124mImplementing both \u001b[39m\u001b[38;5;124m'\u001b[39m\u001b[38;5;124mbackward\u001b[39m\u001b[38;5;124m'\u001b[39m\u001b[38;5;124m and \u001b[39m\u001b[38;5;124m'\u001b[39m\u001b[38;5;124mvjp\u001b[39m\u001b[38;5;124m'\u001b[39m\u001b[38;5;124m for a custom \u001b[39m\u001b[38;5;124m\"\u001b[39m\n\u001b[1;32m    302\u001b[0m         \u001b[38;5;124m\"\u001b[39m\u001b[38;5;124mFunction is not allowed. You should only implement one \u001b[39m\u001b[38;5;124m\"\u001b[39m\n\u001b[1;32m    303\u001b[0m         \u001b[38;5;124m\"\u001b[39m\u001b[38;5;124mof them.\u001b[39m\u001b[38;5;124m\"\u001b[39m\n\u001b[1;32m    304\u001b[0m     )\n\u001b[1;32m    305\u001b[0m user_fn \u001b[38;5;241m=\u001b[39m vjp_fn \u001b[38;5;28;01mif\u001b[39;00m vjp_fn \u001b[38;5;129;01mis\u001b[39;00m \u001b[38;5;129;01mnot\u001b[39;00m Function\u001b[38;5;241m.\u001b[39mvjp \u001b[38;5;28;01melse\u001b[39;00m backward_fn\n\u001b[0;32m--> 306\u001b[0m \u001b[38;5;28;01mreturn\u001b[39;00m user_fn(\u001b[38;5;28mself\u001b[39m, \u001b[38;5;241m*\u001b[39margs)\n",
      "File \u001b[0;32m~/multigrid/MGTomo/tomoprojection.py:22\u001b[0m, in \u001b[0;36mAstraLinearFunction.backward\u001b[0;34m(ctx, grad_output)\u001b[0m\n\u001b[1;32m     20\u001b[0m tomo_matrix \u001b[38;5;241m=\u001b[39m ctx\u001b[38;5;241m.\u001b[39mtomo_matrix\n\u001b[1;32m     21\u001b[0m \u001b[38;5;66;03m# Compute the gradient with respect to the input vector\u001b[39;00m\n\u001b[0;32m---> 22\u001b[0m grad_input_vector \u001b[38;5;241m=\u001b[39m tomo_matrix\u001b[38;5;241m.\u001b[39mrmatvec(grad_output\u001b[38;5;241m.\u001b[39mcpu()\u001b[38;5;241m.\u001b[39mnumpy())\n\u001b[1;32m     23\u001b[0m \u001b[38;5;66;03m# Return gradients for each input\u001b[39;00m\n\u001b[1;32m     24\u001b[0m \u001b[38;5;66;03m# Note: Since custom_sparse_matrix is not a tensor that requires gradients,\u001b[39;00m\n\u001b[1;32m     25\u001b[0m \u001b[38;5;66;03m# we return None for its gradient\u001b[39;00m\n\u001b[1;32m     26\u001b[0m \u001b[38;5;28;01mreturn\u001b[39;00m \u001b[38;5;28;01mNone\u001b[39;00m, torch\u001b[38;5;241m.\u001b[39mfrom_numpy(grad_input_vector)\n",
      "File \u001b[0;32m~/multigrid/MGTomo/tomoprojection.py:70\u001b[0m, in \u001b[0;36mTomoParallel.rmatvec\u001b[0;34m(self, v)\u001b[0m\n\u001b[1;32m     69\u001b[0m \u001b[38;5;28;01mdef\u001b[39;00m \u001b[38;5;21mrmatvec\u001b[39m(\u001b[38;5;28mself\u001b[39m, v):\n\u001b[0;32m---> 70\u001b[0m   bid, b \u001b[38;5;241m=\u001b[39m astra\u001b[38;5;241m.\u001b[39mcreate_backprojection(v,\u001b[38;5;28mself\u001b[39m\u001b[38;5;241m.\u001b[39mproj_id)\n\u001b[1;32m     71\u001b[0m     \u001b[38;5;66;03m# np.reshape(v, (len(proj_geom['ProjectionAngles']), proj_geom['DetectorCount'],)), self.proj_id)\u001b[39;00m\n\u001b[1;32m     72\u001b[0m   astra\u001b[38;5;241m.\u001b[39mdata2d\u001b[38;5;241m.\u001b[39mdelete(bid)\n",
      "File \u001b[0;32m~/.conda/envs/MLcupy_v2/lib/python3.11/site-packages/astra/creators.py:319\u001b[0m, in \u001b[0;36mcreate_backprojection\u001b[0;34m(data, proj_id, returnData)\u001b[0m\n\u001b[1;32m    317\u001b[0m cfg[\u001b[38;5;124m'\u001b[39m\u001b[38;5;124mReconstructionDataId\u001b[39m\u001b[38;5;124m'\u001b[39m] \u001b[38;5;241m=\u001b[39m vol_id\n\u001b[1;32m    318\u001b[0m alg_id \u001b[38;5;241m=\u001b[39m algorithm\u001b[38;5;241m.\u001b[39mcreate(cfg)\n\u001b[0;32m--> 319\u001b[0m algorithm\u001b[38;5;241m.\u001b[39mrun(alg_id)\n\u001b[1;32m    320\u001b[0m algorithm\u001b[38;5;241m.\u001b[39mdelete(alg_id)\n\u001b[1;32m    322\u001b[0m \u001b[38;5;28;01mif\u001b[39;00m \u001b[38;5;28misinstance\u001b[39m(data, np\u001b[38;5;241m.\u001b[39mndarray):\n",
      "File \u001b[0;32m~/.conda/envs/MLcupy_v2/lib/python3.11/site-packages/astra/algorithm.py:47\u001b[0m, in \u001b[0;36mrun\u001b[0;34m(i, iterations)\u001b[0m\n\u001b[1;32m     38\u001b[0m \u001b[38;5;28;01mdef\u001b[39;00m \u001b[38;5;21mrun\u001b[39m(i, iterations\u001b[38;5;241m=\u001b[39m\u001b[38;5;241m1\u001b[39m):\n\u001b[1;32m     39\u001b[0m \u001b[38;5;250m    \u001b[39m\u001b[38;5;124;03m\"\"\"Run an algorithm.\u001b[39;00m\n\u001b[1;32m     40\u001b[0m \u001b[38;5;124;03m    \u001b[39;00m\n\u001b[1;32m     41\u001b[0m \u001b[38;5;124;03m    :param i: ID of object.\u001b[39;00m\n\u001b[0;32m   (...)\u001b[0m\n\u001b[1;32m     45\u001b[0m \u001b[38;5;124;03m    \u001b[39;00m\n\u001b[1;32m     46\u001b[0m \u001b[38;5;124;03m    \"\"\"\u001b[39;00m\n\u001b[0;32m---> 47\u001b[0m     \u001b[38;5;28;01mreturn\u001b[39;00m a\u001b[38;5;241m.\u001b[39mrun(i,iterations)\n",
      "\u001b[0;31mKeyboardInterrupt\u001b[0m: "
     ]
    }
   ],
   "source": [
    "import KLAxb_Shannon_reconstruction as Srecon\n",
    "\n",
    "with profile(activities=[ProfilerActivity.CPU], record_shapes=True) as prof:\n",
    "    with record_function(\"MLO\"):\n",
    "        Srecon.MLO_box(Srecon.fh, Srecon.z0, Srecon.lh, Srecon.uh, Srecon.last_pts)"
   ]
  }
 ],
 "metadata": {
  "kernelspec": {
   "display_name": "MLcupy_v2",
   "language": "python",
   "name": "python3"
  },
  "language_info": {
   "codemirror_mode": {
    "name": "ipython",
    "version": 3
   },
   "file_extension": ".py",
   "mimetype": "text/x-python",
   "name": "python",
   "nbconvert_exporter": "python",
   "pygments_lexer": "ipython3",
   "version": "3.11.9"
  }
 },
 "nbformat": 4,
 "nbformat_minor": 2
}
