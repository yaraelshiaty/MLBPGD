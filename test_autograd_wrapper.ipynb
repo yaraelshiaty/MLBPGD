{
 "cells": [
  {
   "cell_type": "code",
   "execution_count": 1,
   "id": "7a75bebe-30cf-4f14-8967-6e511a8c1a18",
   "metadata": {},
   "outputs": [
    {
     "ename": "ModuleNotFoundError",
     "evalue": "No module named 'MGTomo'",
     "output_type": "error",
     "traceback": [
      "\u001b[0;31m---------------------------------------------------------------------------\u001b[0m",
      "\u001b[0;31mModuleNotFoundError\u001b[0m                       Traceback (most recent call last)",
      "Cell \u001b[0;32mIn[1], line 1\u001b[0m\n\u001b[0;32m----> 1\u001b[0m \u001b[38;5;28;01mimport\u001b[39;00m \u001b[38;5;21;01mMGTomo\u001b[39;00m\u001b[38;5;21;01m.\u001b[39;00m\u001b[38;5;21;01mmodel\u001b[39;00m \u001b[38;5;28;01mas\u001b[39;00m \u001b[38;5;21;01mmgmodel\u001b[39;00m\n\u001b[1;32m      2\u001b[0m \u001b[38;5;66;03m#import MGTomo.functions as fcts\u001b[39;00m\n\u001b[1;32m      3\u001b[0m \u001b[38;5;28;01mimport\u001b[39;00m \u001b[38;5;21;01mnumpy\u001b[39;00m \u001b[38;5;28;01mas\u001b[39;00m \u001b[38;5;21;01mnp\u001b[39;00m\n",
      "\u001b[0;31mModuleNotFoundError\u001b[0m: No module named 'MGTomo'"
     ]
    }
   ],
   "source": [
    "import MGTomo.model as mgmodel\n",
    "#import MGTomo.functions as fcts\n",
    "import numpy as np\n",
    "import astra\n",
    "import MGTomo.tomoprojection as mgproj\n",
    "from MGTomo.utils import myexp, mylog, mydiv\n",
    "\n",
    "import torch\n",
    "\n",
    "from MGTomo.functions import kl_distance as KL"
   ]
  },
  {
   "cell_type": "markdown",
   "id": "53d57ecf-00cc-4c73-9552-e2e46ec0b3c2",
   "metadata": {},
   "source": [
    "## Testing the autograd wrapper for matvec in TomoTorch (vererbt von TomoParallel)"
   ]
  },
  {
   "cell_type": "code",
   "execution_count": 2,
   "id": "d489436e-14f1-42e2-88fe-f0599d754c23",
   "metadata": {},
   "outputs": [],
   "source": [
    "model = mgmodel.astra_model(63,{'mode' : 'line', 'num_angles' : 50, 'level_decrease' : 1})\n",
    "fine_dim = model.dim\n",
    "A = model.proj_factory(fine_dim)\n",
    "\n",
    "x_orig = np.random.randn(63, 63)"
   ]
  },
  {
   "cell_type": "code",
   "execution_count": 3,
   "id": "3dfd1f91-c057-468c-95f1-76198eca2b99",
   "metadata": {},
   "outputs": [],
   "source": [
    "ATensor = mgproj.TomoTorch(A)\n",
    "x_torch = torch.from_numpy(x_orig)\n",
    "x_torch.requires_grad = True\n",
    "\n",
    "output = ATensor(x_torch)\n",
    "x_0 = torch.ones(63,63)\n",
    "x_0.requires_grad = True"
   ]
  },
  {
   "cell_type": "code",
   "execution_count": 4,
   "id": "5807ae48-1583-4d4c-9b12-189a9bbc9614",
   "metadata": {},
   "outputs": [
    {
     "data": {
      "text/plain": [
       "tensor(0., dtype=torch.float64, grad_fn=<MaxBackward1>)"
      ]
     },
     "execution_count": 4,
     "metadata": {},
     "output_type": "execute_result"
    }
   ],
   "source": [
    "(output - torch.from_numpy(A.matvec(x_orig))).abs().max()"
   ]
  },
  {
   "cell_type": "code",
   "execution_count": 5,
   "id": "f6c6c599-8057-41af-8ea0-24b28d55e269",
   "metadata": {
    "collapsed": true,
    "jupyter": {
     "outputs_hidden": true
    },
    "tags": []
   },
   "outputs": [
    {
     "ename": "GradcheckError",
     "evalue": "Jacobian mismatch for output 0 with respect to input 0,\nnumerical:tensor([[0.9999, 0.0000, 0.0000,  ..., 0.0000, 0.0000, 0.0000],\n        [0.0000, 0.9995, 0.0000,  ..., 0.0000, 0.0000, 0.0000],\n        [0.0000, 0.0000, 0.9999,  ..., 0.0000, 0.0000, 1.0023],\n        ...,\n        [0.0000, 0.0000, 0.0000,  ..., 0.0000, 0.0000, 0.0000],\n        [0.0000, 0.0000, 0.0000,  ..., 0.0000, 0.0000, 0.0000],\n        [0.0000, 0.0000, 0.0000,  ..., 0.0000, 0.0000, 0.0000]],\n       dtype=torch.float64)\nanalytical:tensor([[1.0000, 0.0000, 0.0000,  ..., 0.0000, 0.0000, 0.0000],\n        [0.0000, 1.0000, 0.0000,  ..., 0.0000, 0.0000, 0.0000],\n        [0.0000, 0.0000, 1.0000,  ..., 0.0000, 0.0000, 1.0020],\n        ...,\n        [0.0000, 0.0000, 0.0000,  ..., 0.0000, 0.0000, 0.0000],\n        [0.0000, 0.0000, 0.0000,  ..., 0.0000, 0.0000, 0.0000],\n        [0.0000, 0.0000, 0.0000,  ..., 0.0000, 0.0000, 0.0000]],\n       dtype=torch.float64)\n",
     "output_type": "error",
     "traceback": [
      "\u001b[0;31m---------------------------------------------------------------------------\u001b[0m",
      "\u001b[0;31mGradcheckError\u001b[0m                            Traceback (most recent call last)",
      "Cell \u001b[0;32mIn[5], line 1\u001b[0m\n\u001b[0;32m----> 1\u001b[0m torch\u001b[38;5;241m.\u001b[39mautograd\u001b[38;5;241m.\u001b[39mgradcheck(ATensor\u001b[38;5;241m.\u001b[39mforward, (x_torch, ),eps \u001b[38;5;241m=\u001b[39m \u001b[38;5;241m0.001\u001b[39m, atol \u001b[38;5;241m=\u001b[39m \u001b[38;5;241m1e-3\u001b[39m)\n",
      "File \u001b[0;32m~/.conda/envs/MLcupy_v2/lib/python3.11/site-packages/torch/autograd/gradcheck.py:2049\u001b[0m, in \u001b[0;36mgradcheck\u001b[0;34m(func, inputs, eps, atol, rtol, raise_exception, nondet_tol, check_undefined_grad, check_grad_dtypes, check_batched_grad, check_batched_forward_grad, check_forward_ad, check_backward_ad, fast_mode, masked)\u001b[0m\n\u001b[1;32m   2047\u001b[0m         \u001b[38;5;28;01mreturn\u001b[39;00m \u001b[38;5;28;01mFalse\u001b[39;00m\n\u001b[1;32m   2048\u001b[0m \u001b[38;5;28;01melse\u001b[39;00m:\n\u001b[0;32m-> 2049\u001b[0m     \u001b[38;5;28;01mreturn\u001b[39;00m _gradcheck_helper(\u001b[38;5;241m*\u001b[39m\u001b[38;5;241m*\u001b[39margs)\n",
      "File \u001b[0;32m~/.conda/envs/MLcupy_v2/lib/python3.11/site-packages/torch/autograd/gradcheck.py:2078\u001b[0m, in \u001b[0;36m_gradcheck_helper\u001b[0;34m(func, inputs, eps, atol, rtol, nondet_tol, check_undefined_grad, check_grad_dtypes, check_batched_grad, check_batched_forward_grad, check_forward_ad, check_backward_ad, fast_mode, masked)\u001b[0m\n\u001b[1;32m   2073\u001b[0m _check_outputs(outputs)\n\u001b[1;32m   2075\u001b[0m gradcheck_fn \u001b[38;5;241m=\u001b[39m functools\u001b[38;5;241m.\u001b[39mpartial(\n\u001b[1;32m   2076\u001b[0m     _fast_gradcheck \u001b[38;5;28;01mif\u001b[39;00m fast_mode \u001b[38;5;28;01melse\u001b[39;00m _slow_gradcheck, masked\u001b[38;5;241m=\u001b[39mmasked\n\u001b[1;32m   2077\u001b[0m )\n\u001b[0;32m-> 2078\u001b[0m _gradcheck_real_imag(\n\u001b[1;32m   2079\u001b[0m     gradcheck_fn,\n\u001b[1;32m   2080\u001b[0m     func,\n\u001b[1;32m   2081\u001b[0m     func_out,\n\u001b[1;32m   2082\u001b[0m     tupled_inputs,\n\u001b[1;32m   2083\u001b[0m     outputs,\n\u001b[1;32m   2084\u001b[0m     eps,\n\u001b[1;32m   2085\u001b[0m     rtol,\n\u001b[1;32m   2086\u001b[0m     atol,\n\u001b[1;32m   2087\u001b[0m     check_grad_dtypes,\n\u001b[1;32m   2088\u001b[0m     check_forward_ad\u001b[38;5;241m=\u001b[39mcheck_forward_ad,\n\u001b[1;32m   2089\u001b[0m     check_backward_ad\u001b[38;5;241m=\u001b[39mcheck_backward_ad,\n\u001b[1;32m   2090\u001b[0m     nondet_tol\u001b[38;5;241m=\u001b[39mnondet_tol,\n\u001b[1;32m   2091\u001b[0m     check_undefined_grad\u001b[38;5;241m=\u001b[39mcheck_undefined_grad,\n\u001b[1;32m   2092\u001b[0m )\n\u001b[1;32m   2094\u001b[0m \u001b[38;5;28;01mif\u001b[39;00m check_batched_forward_grad:\n\u001b[1;32m   2095\u001b[0m     _test_batched_grad_forward_ad(func, tupled_inputs)\n",
      "File \u001b[0;32m~/.conda/envs/MLcupy_v2/lib/python3.11/site-packages/torch/autograd/gradcheck.py:1488\u001b[0m, in \u001b[0;36m_gradcheck_real_imag\u001b[0;34m(gradcheck_fn, func, func_out, tupled_inputs, outputs, eps, rtol, atol, check_grad_dtypes, check_forward_ad, check_backward_ad, nondet_tol, check_undefined_grad)\u001b[0m\n\u001b[1;32m   1475\u001b[0m         gradcheck_fn(\n\u001b[1;32m   1476\u001b[0m             real_fn,\n\u001b[1;32m   1477\u001b[0m             real_func_out,\n\u001b[0;32m   (...)\u001b[0m\n\u001b[1;32m   1485\u001b[0m             complex_indices\u001b[38;5;241m=\u001b[39mcomplex_out_indices,\n\u001b[1;32m   1486\u001b[0m         )\n\u001b[1;32m   1487\u001b[0m     \u001b[38;5;28;01melse\u001b[39;00m:\n\u001b[0;32m-> 1488\u001b[0m         gradcheck_fn(\n\u001b[1;32m   1489\u001b[0m             func,\n\u001b[1;32m   1490\u001b[0m             func_out,\n\u001b[1;32m   1491\u001b[0m             tupled_inputs,\n\u001b[1;32m   1492\u001b[0m             outputs,\n\u001b[1;32m   1493\u001b[0m             eps,\n\u001b[1;32m   1494\u001b[0m             rtol,\n\u001b[1;32m   1495\u001b[0m             atol,\n\u001b[1;32m   1496\u001b[0m             check_grad_dtypes,\n\u001b[1;32m   1497\u001b[0m             nondet_tol,\n\u001b[1;32m   1498\u001b[0m         )\n\u001b[1;32m   1500\u001b[0m \u001b[38;5;28;01mif\u001b[39;00m check_forward_ad:\n\u001b[1;32m   1501\u001b[0m     complex_inp_indices \u001b[38;5;241m=\u001b[39m [\n\u001b[1;32m   1502\u001b[0m         i\n\u001b[1;32m   1503\u001b[0m         \u001b[38;5;28;01mfor\u001b[39;00m i, inp \u001b[38;5;129;01min\u001b[39;00m \u001b[38;5;28menumerate\u001b[39m(tupled_inputs)\n\u001b[1;32m   1504\u001b[0m         \u001b[38;5;28;01mif\u001b[39;00m is_tensor_like(inp) \u001b[38;5;129;01mand\u001b[39;00m inp\u001b[38;5;241m.\u001b[39mis_complex()\n\u001b[1;32m   1505\u001b[0m     ]\n",
      "File \u001b[0;32m~/.conda/envs/MLcupy_v2/lib/python3.11/site-packages/torch/autograd/gradcheck.py:1629\u001b[0m, in \u001b[0;36m_slow_gradcheck\u001b[0;34m(func, func_out, tupled_inputs, outputs, eps, rtol, atol, check_grad_dtypes, nondet_tol, use_forward_ad, complex_indices, test_imag, masked)\u001b[0m\n\u001b[1;32m   1627\u001b[0m         \u001b[38;5;28;01mfor\u001b[39;00m j, (a, n) \u001b[38;5;129;01min\u001b[39;00m \u001b[38;5;28menumerate\u001b[39m(\u001b[38;5;28mzip\u001b[39m(analytical, numerical[i])):\n\u001b[1;32m   1628\u001b[0m             \u001b[38;5;28;01mif\u001b[39;00m \u001b[38;5;129;01mnot\u001b[39;00m _allclose_with_type_promotion(a, n\u001b[38;5;241m.\u001b[39mto(a\u001b[38;5;241m.\u001b[39mdevice), rtol, atol):\n\u001b[0;32m-> 1629\u001b[0m                 \u001b[38;5;28;01mraise\u001b[39;00m GradcheckError(\n\u001b[1;32m   1630\u001b[0m                     _get_notallclose_msg(a, n, i, j, complex_indices, test_imag)\n\u001b[1;32m   1631\u001b[0m                 )\n\u001b[1;32m   1633\u001b[0m \u001b[38;5;28;01mreturn\u001b[39;00m \u001b[38;5;28;01mTrue\u001b[39;00m\n",
      "\u001b[0;31mGradcheckError\u001b[0m: Jacobian mismatch for output 0 with respect to input 0,\nnumerical:tensor([[0.9999, 0.0000, 0.0000,  ..., 0.0000, 0.0000, 0.0000],\n        [0.0000, 0.9995, 0.0000,  ..., 0.0000, 0.0000, 0.0000],\n        [0.0000, 0.0000, 0.9999,  ..., 0.0000, 0.0000, 1.0023],\n        ...,\n        [0.0000, 0.0000, 0.0000,  ..., 0.0000, 0.0000, 0.0000],\n        [0.0000, 0.0000, 0.0000,  ..., 0.0000, 0.0000, 0.0000],\n        [0.0000, 0.0000, 0.0000,  ..., 0.0000, 0.0000, 0.0000]],\n       dtype=torch.float64)\nanalytical:tensor([[1.0000, 0.0000, 0.0000,  ..., 0.0000, 0.0000, 0.0000],\n        [0.0000, 1.0000, 0.0000,  ..., 0.0000, 0.0000, 0.0000],\n        [0.0000, 0.0000, 1.0000,  ..., 0.0000, 0.0000, 1.0020],\n        ...,\n        [0.0000, 0.0000, 0.0000,  ..., 0.0000, 0.0000, 0.0000],\n        [0.0000, 0.0000, 0.0000,  ..., 0.0000, 0.0000, 0.0000],\n        [0.0000, 0.0000, 0.0000,  ..., 0.0000, 0.0000, 0.0000]],\n       dtype=torch.float64)\n"
     ]
    }
   ],
   "source": [
    "torch.autograd.gradcheck(ATensor.forward, (x_torch, ),eps = 0.001, atol = 1e-3)"
   ]
  }
 ],
 "metadata": {
  "kernelspec": {
   "display_name": "MLcupy_v2",
   "language": "python",
   "name": "python3"
  },
  "language_info": {
   "codemirror_mode": {
    "name": "ipython",
    "version": 3
   },
   "file_extension": ".py",
   "mimetype": "text/x-python",
   "name": "python",
   "nbconvert_exporter": "python",
   "pygments_lexer": "ipython3",
   "version": "3.11.9"
  }
 },
 "nbformat": 4,
 "nbformat_minor": 5
}
