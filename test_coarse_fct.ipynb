{
 "cells": [
  {
   "cell_type": "code",
   "execution_count": 1,
   "id": "ca778984-0898-4951-9f71-284fd73f8c23",
   "metadata": {},
   "outputs": [],
   "source": [
    "import MGTomo.model as mgmodel\n",
    "import numpy as np\n",
    "import astra\n",
    "import MGTomo.tomoprojection as mgproj\n",
    "from MGTomo.utils import myexp, mylog, mydiv\n",
    "import MGTomo.Yfunctions as fcts\n",
    "from scipy import interpolate\n",
    "from skimage.data import shepp_logan_phantom\n",
    "from skimage.transform import resize\n",
    "\n",
    "import torch\n",
    "from torch.func import grad"
   ]
  },
  {
   "cell_type": "code",
   "execution_count": 2,
   "id": "9a0fd311-3391-4b19-a9da-cdf7c41e5e8d",
   "metadata": {},
   "outputs": [],
   "source": [
    "max_levels = 1\n",
    "maxIter = [5,5]"
   ]
  },
  {
   "cell_type": "code",
   "execution_count": 3,
   "id": "cc9b17ac-aabb-42bf-868b-53e42f0f77e0",
   "metadata": {},
   "outputs": [],
   "source": [
    "N = 63\n",
    "# load image\n",
    "x_orig = shepp_logan_phantom()\n",
    "x_orig = resize(x_orig, (N,N), anti_aliasing = False)\n",
    "\n",
    "x_torch = torch.tensor(x_orig, requires_grad = True)"
   ]
  },
  {
   "cell_type": "code",
   "execution_count": 4,
   "id": "1fd9be2d-b659-4378-bc0f-4817e2009bb7",
   "metadata": {},
   "outputs": [],
   "source": [
    "model = mgmodel.astra_model(N,{'mode' : 'line', 'num_angles' : 50, 'level_decrease' : 1})\n",
    "fine_dim = model.dim\n",
    "A = [mgproj.TomoTorch(model.proj_factory(fine_dim))]\n",
    "b = [A[0](x_torch)]\n",
    "level = {int(np.sqrt(A[0].shape[1])): 0}\n",
    "\n",
    "for i in range(1,max_levels+1):\n",
    "    coarse_dim = model.reduce_dim(fine_dim)\n",
    "    A.append(mgproj.TomoTorch(model.proj_factory(coarse_dim)))\n",
    "    b.append(torch.from_numpy(model.reduce_rhs(b[-1].detach().numpy(), fine_dim, coarse_dim)))\n",
    "    level.update({int(np.sqrt(A[i].shape[1])): i})\n",
    "    fine_dim=coarse_dim"
   ]
  },
  {
   "cell_type": "code",
   "execution_count": 5,
   "id": "6c26e307-cc28-4a0e-9dcf-1e913aeab6dd",
   "metadata": {},
   "outputs": [],
   "source": [
    "fh = lambda x: fcts.kl_distance(x, A[0], b[0])\n",
    "\n",
    "def R(y):\n",
    "    x = y[1:-1:2, 1:-1:2]\n",
    "    return x\n",
    "\n",
    "def bilinear_interpolation(v):\n",
    "    inter = interpolate.RegularGridInterpolator((np.arange(1,2*v.shape[0],2), np.arange(1,2*v.shape[1],2)), v.detach().numpy(), method='linear', bounds_error=False, fill_value=0.0)\n",
    "    xx, yy = np.meshgrid(np.arange(0,2*v.shape[0]+1), np.arange(0,2*v.shape[1]+1))\n",
    "    return inter((yy,xx))\n",
    "\n",
    "def P(x):\n",
    "    return torch.from_numpy(bilinear_interpolation(x))"
   ]
  },
  {
   "cell_type": "code",
   "execution_count": 6,
   "id": "e36b9313-a14f-4191-8ab4-93d405701a0a",
   "metadata": {},
   "outputs": [
    {
     "name": "stdout",
     "output_type": "stream",
     "text": [
      "tensor(117323.9008, dtype=torch.float64, grad_fn=<AddBackward0>)\n"
     ]
    }
   ],
   "source": [
    "y0 = torch.ones(N, N)*0.5\n",
    "y0.requires_grad = True\n",
    "\n",
    "x0 = R(y0)\n",
    "x0.retain_grad()\n",
    "\n",
    "fH = lambda x: fcts.kl_distance(x, A[1], b[1])\n",
    "\n",
    "fhy0 = fh(y0)\n",
    "fhy0.backward()\n",
    "\n",
    "fHx0 = fH(x0)\n",
    "fHx0.backward()\n",
    "\n",
    "kappa = R(y0.grad) - x0.grad\n",
    "\n",
    "x = torch.ones(coarse_dim, coarse_dim)*0.4\n",
    "x.requires_grad = True\n",
    "\n",
    "val = fH(x) + torch.sum(kappa * x)\n",
    "print(val)"
   ]
  },
  {
   "cell_type": "code",
   "execution_count": 9,
   "id": "27292a22-b5e5-484e-aa77-c2fa52bc18f0",
   "metadata": {},
   "outputs": [],
   "source": [
    "def coarsen_fn(fh, x, y0, l):\n",
    "    x0 = R(y0)\n",
    "    x0.retain_grad()\n",
    "    \n",
    "    fH = lambda x: fcts.kl_distance(x, A[l], b[l])\n",
    "    \n",
    "    fhy0 = fh(y0)\n",
    "    fhy0.backward(retain_graph = True)\n",
    "    \n",
    "    fHx0 = fH(x0)\n",
    "    fHx0.backward(retain_graph = True)\n",
    "    \n",
    "    kappa = R(y0.grad) - x0.grad\n",
    "    val = fH(x) + torch.sum(kappa * x)\n",
    "    \n",
    "    return val"
   ]
  },
  {
   "cell_type": "code",
   "execution_count": 10,
   "id": "d9eafeda-3d46-4c73-8c04-6a3f1a7eca08",
   "metadata": {},
   "outputs": [
    {
     "data": {
      "text/plain": [
       "tensor(117323.9008, dtype=torch.float64, grad_fn=<AddBackward0>)"
      ]
     },
     "execution_count": 10,
     "metadata": {},
     "output_type": "execute_result"
    }
   ],
   "source": [
    "y0 = torch.ones(N, N)*0.5\n",
    "y0.requires_grad = True\n",
    "\n",
    "x = torch.ones(coarse_dim, coarse_dim)*0.4\n",
    "x.requires_grad = True\n",
    "\n",
    "psi = lambda x: coarsen_fn(fh, x, y0, 1)\n",
    "psi(x)"
   ]
  }
 ],
 "metadata": {
  "kernelspec": {
   "display_name": "Python [conda env:.conda-MLcupy_v2]",
   "language": "python",
   "name": "conda-env-.conda-MLcupy_v2-py"
  },
  "language_info": {
   "codemirror_mode": {
    "name": "ipython",
    "version": 3
   },
   "file_extension": ".py",
   "mimetype": "text/x-python",
   "name": "python",
   "nbconvert_exporter": "python",
   "pygments_lexer": "ipython3",
   "version": "3.11.9"
  }
 },
 "nbformat": 4,
 "nbformat_minor": 5
}
