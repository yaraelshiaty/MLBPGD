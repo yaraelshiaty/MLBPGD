{
 "cells": [
  {
   "cell_type": "code",
   "execution_count": 1,
   "id": "ca778984-0898-4951-9f71-284fd73f8c23",
   "metadata": {},
   "outputs": [],
   "source": [
    "import MGTomo.model as mgmodel\n",
    "import numpy as np\n",
    "import MGTomo.tomoprojection as mgproj\n",
    "from MGTomo.utils import myexp, mylog, mydiv\n",
    "import MGTomo.functions as fcts\n",
    "from skimage.data import shepp_logan_phantom\n",
    "from skimage.transform import resize\n",
    "from MGTomo.optimize import armijo_linesearch\n",
    "\n",
    "from MGTomo.gridop import P,R\n",
    "\n",
    "import torch\n",
    "from torch.func import grad\n",
    "\n",
    "from torch.linalg import matrix_norm\n",
    "\n",
    "import matplotlib.pyplot as plt "
   ]
  },
  {
   "cell_type": "code",
   "execution_count": 2,
   "id": "9a0fd311-3391-4b19-a9da-cdf7c41e5e8d",
   "metadata": {},
   "outputs": [],
   "source": [
    "max_levels = 1\n",
    "maxIter = [5,5]"
   ]
  },
  {
   "cell_type": "code",
   "execution_count": 3,
   "id": "cc9b17ac-aabb-42bf-868b-53e42f0f77e0",
   "metadata": {},
   "outputs": [],
   "source": [
    "N = 63\n",
    "# load image\n",
    "x_orig = shepp_logan_phantom()\n",
    "x_orig = resize(x_orig, (N,N), anti_aliasing = False)\n",
    "\n",
    "x_torch = torch.tensor(x_orig, requires_grad = True)"
   ]
  },
  {
   "cell_type": "code",
   "execution_count": 4,
   "id": "1fd9be2d-b659-4378-bc0f-4817e2009bb7",
   "metadata": {},
   "outputs": [],
   "source": [
    "model = mgmodel.astra_model(N,{'mode' : 'line', 'num_angles' : 50, 'level_decrease' : 1})\n",
    "fine_dim = model.dim\n",
    "A = [mgproj.TomoTorch(model.proj_factory(fine_dim))]\n",
    "b = [A[0](x_torch)]\n",
    "level = {int(np.sqrt(A[0].shape[1])): 0}\n",
    "\n",
    "for i in range(1,max_levels+1):\n",
    "    coarse_dim = model.reduce_dim(fine_dim)\n",
    "    A.append(mgproj.TomoTorch(model.proj_factory(coarse_dim)))\n",
    "    b.append(torch.from_numpy(model.reduce_rhs(b[-1].detach().numpy(), fine_dim, coarse_dim)))\n",
    "    level.update({int(np.sqrt(A[i].shape[1])): i})\n",
    "    fine_dim=coarse_dim"
   ]
  },
  {
   "cell_type": "code",
   "execution_count": 5,
   "id": "3c018c2b-6ae4-4fad-887d-f82668bf726c",
   "metadata": {},
   "outputs": [],
   "source": [
    "c0 = A[0].sumnorm()"
   ]
  },
  {
   "cell_type": "code",
   "execution_count": 6,
   "id": "6c26e307-cc28-4a0e-9dcf-1e913aeab6dd",
   "metadata": {},
   "outputs": [],
   "source": [
    "fh = lambda x: fcts.kl_distance(x, A[0], b[0])"
   ]
  },
  {
   "cell_type": "markdown",
   "id": "f85eb571-ac2a-442a-9866-5d31fe633928",
   "metadata": {},
   "source": [
    "## Test relative L-smoothness of fh"
   ]
  },
  {
   "cell_type": "code",
   "execution_count": 7,
   "id": "b7888ef6-a224-4065-b257-93879489b89c",
   "metadata": {},
   "outputs": [],
   "source": [
    "def Dfhst(s,t):\n",
    "    fhs = fh(s)\n",
    "    fht = fh(t)\n",
    "    fht.backward(retain_graph = True)\n",
    "    grad_fh_t = t.grad.clone()\n",
    "    #print(y0.grad)\n",
    "    Dfhst = fhs - fht - torch.sum(grad_fh_t * (s-t))\n",
    "    \n",
    "    return Dfhst\n",
    "\n",
    "def Klst(s,t):\n",
    "    st = mydiv(s,t)\n",
    "    KLst_zw = s* mylog(st) + s - t\n",
    "\n",
    "    KLst = torch.sum( KLst_zw[t > 0.] ) + 0.5*torch.sum(st[t == 0.]**2)\n",
    "    \n",
    "    return KLst"
   ]
  },
  {
   "cell_type": "code",
   "execution_count": 8,
   "id": "9691bc24-660f-417f-b932-bd625957045c",
   "metadata": {},
   "outputs": [],
   "source": [
    "for i in range(100):\n",
    "    s = torch.rand(63, 63, requires_grad = True)\n",
    "    t = torch.rand(63, 63, requires_grad = True)\n",
    "    \n",
    "    assert Dfhst(s,t) <= c0 * Klst(s,t)"
   ]
  },
  {
   "cell_type": "code",
   "execution_count": 9,
   "id": "1154a76c-32d8-4595-ba41-ea0fc255d7b8",
   "metadata": {},
   "outputs": [],
   "source": [
    "tau0 = 0.5 * 1/c0"
   ]
  },
  {
   "cell_type": "code",
   "execution_count": 10,
   "id": "9990a271-c5c6-4136-8739-1a4fdf20d1b3",
   "metadata": {},
   "outputs": [],
   "source": [
    "for i in range(100):\n",
    "    z0 = torch.rand(63, 63, requires_grad = True)\n",
    "    z1 = fcts.SMART(fh, z0, tau0)\n",
    "    \n",
    "    assert fh(z1) - fh(z0) <=0, fh(z1) - fh(z0)"
   ]
  },
  {
   "cell_type": "code",
   "execution_count": 11,
   "id": "8e867013-8c9f-468e-ac23-8946b4d9cdd4",
   "metadata": {},
   "outputs": [
    {
     "name": "stdout",
     "output_type": "stream",
     "text": [
      "tensor(28.1905, dtype=torch.float64, grad_fn=<AddBackward0>)\n"
     ]
    }
   ],
   "source": [
    "z0 = torch.rand(63, 63, requires_grad = True)\n",
    "for i in range(100):\n",
    "    val = fcts.SMART(fh, z0, tau0)\n",
    "    assert fh(val) - fh(z0) <= 0, fh(val) - fh(z0)\n",
    "    z0 = val.clone().detach().requires_grad_(True)\n",
    "    \n",
    "    assert z0.grad is None\n",
    "print(fh(z0))"
   ]
  },
  {
   "cell_type": "code",
   "execution_count": 12,
   "id": "f2b84c9f-19ab-4cd0-9ec2-a838e8294b9a",
   "metadata": {},
   "outputs": [
    {
     "data": {
      "text/plain": [
       "<matplotlib.image.AxesImage at 0x7fd63b145410>"
      ]
     },
     "execution_count": 12,
     "metadata": {},
     "output_type": "execute_result"
    },
    {
     "data": {
      "image/png": "[encoded data removed]",
      "text/plain": [
       "<Figure size 640x480 with 1 Axes>"
      ]
     },
     "metadata": {},
     "output_type": "display_data"
    }
   ],
   "source": [
    "plt.imshow(z0.detach().numpy(), cmap = 'gray')"
   ]
  },
  {
   "cell_type": "markdown",
   "id": "d96f81d7-16e1-468a-95a3-269a7438fcf2",
   "metadata": {},
   "source": [
    "# Setup coarse model"
   ]
  },
  {
   "cell_type": "code",
   "execution_count": 13,
   "id": "1dcc6379-5c9c-4ae5-b19d-6692cadb9869",
   "metadata": {},
   "outputs": [],
   "source": [
    "y0 = torch.ones(N, N)*0.5\n",
    "y0.requires_grad = True"
   ]
  },
  {
   "cell_type": "code",
   "execution_count": 14,
   "id": "e36b9313-a14f-4191-8ab4-93d405701a0a",
   "metadata": {},
   "outputs": [],
   "source": [
    "x0 = R(y0)\n",
    "x0.retain_grad()\n",
    "\n",
    "x0 = x0.clone().detach().requires_grad_(True)\n",
    "#print(x0)\n",
    "\n",
    "fH = lambda x: fcts.kl_distance(x, A[1], b[1])\n",
    "\n",
    "fhy0 = fh(y0)\n",
    "fhy0.backward(retain_graph = True)\n",
    "\n",
    "fHx0 = fH(x0)\n",
    "fHx0.backward(retain_graph = True)\n",
    "\n",
    "kappa = R(y0.grad) - x0.grad"
   ]
  },
  {
   "cell_type": "code",
   "execution_count": 15,
   "id": "650ff84f-2ccb-4957-9bb4-3a406c8a4114",
   "metadata": {},
   "outputs": [],
   "source": [
    "def psi(x):\n",
    "    val = fH(x) + torch.sum(kappa * (x-x0))\n",
    "    return val"
   ]
  },
  {
   "cell_type": "code",
   "execution_count": 16,
   "id": "6bbd4f9b-3d3e-443d-8468-9a237225183f",
   "metadata": {},
   "outputs": [
    {
     "data": {
      "text/plain": [
       "tensor([[0., 0., 0.,  ..., 0., 0., 0.],\n",
       "        [0., 0., 0.,  ..., 0., 0., 0.],\n",
       "        [0., 0., 0.,  ..., 0., 0., 0.],\n",
       "        ...,\n",
       "        [0., 0., 0.,  ..., 0., 0., 0.],\n",
       "        [0., 0., 0.,  ..., 0., 0., 0.],\n",
       "        [0., 0., 0.,  ..., 0., 0., 0.]])"
      ]
     },
     "execution_count": 16,
     "metadata": {},
     "output_type": "execute_result"
    }
   ],
   "source": [
    "y0.grad.zero_()"
   ]
  },
  {
   "cell_type": "markdown",
   "id": "7b1d05a4-a95a-4b7b-a601-d34eac43a51d",
   "metadata": {},
   "source": [
    "## Test coarse model psi and coarse function fH properties"
   ]
  },
  {
   "cell_type": "code",
   "execution_count": 17,
   "id": "a2b62bc7-371d-4e00-bbba-e1ea286b1a25",
   "metadata": {},
   "outputs": [
    {
     "data": {
      "text/plain": [
       "tensor(0., dtype=torch.float64, grad_fn=<SubBackward0>)"
      ]
     },
     "execution_count": 17,
     "metadata": {},
     "output_type": "execute_result"
    }
   ],
   "source": [
    "psi(x0) - fH(x0)"
   ]
  },
  {
   "cell_type": "code",
   "execution_count": 18,
   "id": "04cd356e-9b57-42bb-a881-22d45ee30462",
   "metadata": {},
   "outputs": [],
   "source": [
    "#y0.grad"
   ]
  },
  {
   "cell_type": "code",
   "execution_count": 19,
   "id": "91e11b1a-40d3-4a46-b2d1-169ffb7d8f81",
   "metadata": {},
   "outputs": [],
   "source": [
    "def DfHuv(u,v):\n",
    "    fHu = fH(u)\n",
    "    fHv = fH(v)\n",
    "    fHv.backward(retain_graph = True)\n",
    "    grad_fH_v = v.grad.clone()\n",
    "    #print(y0.grad)\n",
    "    DfHuv = fHu - fHv - torch.sum(grad_fH_v * (u-v))\n",
    "    return DfHuv\n",
    "\n",
    "def Dpsiuv(u,v):\n",
    "    psiu = psi(u)\n",
    "    psiv = psi(v)\n",
    "    #print(y0.grad)\n",
    "    psiv.backward()\n",
    "    #print(y0.grad)\n",
    "    Dpsiuv = psiu - psiv - torch.sum(v.grad *(u-v))\n",
    "    \n",
    "    return Dpsiuv"
   ]
  },
  {
   "cell_type": "code",
   "execution_count": 20,
   "id": "9a132127-0c2f-4bd1-bec4-3315bbbfce4b",
   "metadata": {},
   "outputs": [],
   "source": [
    "c1 = A[1].sumnorm()"
   ]
  },
  {
   "cell_type": "code",
   "execution_count": 21,
   "id": "3a357da2-c685-4812-8773-24f59388311d",
   "metadata": {},
   "outputs": [
    {
     "data": {
      "text/plain": [
       "tensor(56.0952, dtype=torch.float64)"
      ]
     },
     "execution_count": 21,
     "metadata": {},
     "output_type": "execute_result"
    }
   ],
   "source": [
    "c1"
   ]
  },
  {
   "cell_type": "code",
   "execution_count": 22,
   "id": "21fcaa02-d12e-4e15-bb19-912516150068",
   "metadata": {},
   "outputs": [],
   "source": [
    "for i in range(100):\n",
    "    u = torch.rand(31,31, requires_grad = True)\n",
    "    v = torch.rand(31,31, requires_grad = True)\n",
    "    \n",
    "    Dpsi = Dpsiuv(u,v)\n",
    "    v.grad.zero_()\n",
    "    DfH = DfHuv(u,v)\n",
    "    v.grad.zero_()\n",
    "    assert (Dpsi - DfH).abs() <= 0.2, Dpsi - DfH\n",
    "    \n",
    "    Kl = Klst(u,v)\n",
    "    \n",
    "    assert Dpsi - c1*Kl <=0.1, Dpsi - c1*Kl"
   ]
  },
  {
   "cell_type": "code",
   "execution_count": 23,
   "id": "ae4c06ca-5b40-4b6d-92e6-daa7f7cde4d1",
   "metadata": {},
   "outputs": [
    {
     "data": {
      "text/plain": [
       "tensor([[0., 0., 0.,  ..., 0., 0., 0.],\n",
       "        [0., 0., 0.,  ..., 0., 0., 0.],\n",
       "        [0., 0., 0.,  ..., 0., 0., 0.],\n",
       "        ...,\n",
       "        [0., 0., 0.,  ..., 0., 0., 0.],\n",
       "        [0., 0., 0.,  ..., 0., 0., 0.],\n",
       "        [0., 0., 0.,  ..., 0., 0., 0.]])"
      ]
     },
     "execution_count": 23,
     "metadata": {},
     "output_type": "execute_result"
    }
   ],
   "source": [
    "y0.grad"
   ]
  },
  {
   "cell_type": "markdown",
   "id": "9099987d-d55b-461a-a0e7-48550a576ee2",
   "metadata": {},
   "source": [
    "## Test psi and SMART"
   ]
  },
  {
   "cell_type": "code",
   "execution_count": 24,
   "id": "05ff14c7-514a-412b-bd62-ca88769a7c62",
   "metadata": {},
   "outputs": [],
   "source": [
    "tau1 = 0.5 * 1/c1"
   ]
  },
  {
   "cell_type": "code",
   "execution_count": 25,
   "id": "2214ef6d-12f6-4b63-986f-fc2f53a37bda",
   "metadata": {},
   "outputs": [],
   "source": [
    "for i in range(100):\n",
    "    z0 = torch.rand(31, 31, requires_grad = True)\n",
    "    z1 = fcts.SMART(psi, z0, tau1)\n",
    "    \n",
    "    assert psi(z1) - psi(z0) <=0, psi(z1) - psi(z0)"
   ]
  },
  {
   "cell_type": "code",
   "execution_count": 26,
   "id": "c7e4a11c-c7e7-4b32-bb61-c40d55c28543",
   "metadata": {},
   "outputs": [],
   "source": [
    "z0 = torch.rand(31, 31, requires_grad = True)\n",
    "for i in range(100):\n",
    "    val = fcts.SMART(psi, z0, tau1)\n",
    "    assert psi(val) - psi(z0) <= 0, psi(val) - psi(z0)\n",
    "    z0 = val.clone().detach().requires_grad_(True)\n",
    "    assert z0.min() >= 0\n",
    "    assert z0.grad is None"
   ]
  },
  {
   "cell_type": "code",
   "execution_count": 27,
   "id": "27517e2c-903c-4a0b-85b2-42be1b775a7b",
   "metadata": {},
   "outputs": [
    {
     "data": {
      "text/plain": [
       "<matplotlib.image.AxesImage at 0x7fd634426c90>"
      ]
     },
     "execution_count": 27,
     "metadata": {},
     "output_type": "execute_result"
    },
    {
     "data": {
      "image/png": "[encoded data removed]",
      "text/plain": [
       "<Figure size 640x480 with 1 Axes>"
      ]
     },
     "metadata": {},
     "output_type": "display_data"
    }
   ],
   "source": [
    "plt.imshow(z0.detach().numpy(), cmap = 'gray')"
   ]
  },
  {
   "cell_type": "code",
   "execution_count": 28,
   "id": "5783da24-e973-42c3-af90-8a747d40e397",
   "metadata": {},
   "outputs": [
    {
     "data": {
      "text/plain": [
       "tensor([[0., 0., 0.,  ..., 0., 0., 0.],\n",
       "        [0., 0., 0.,  ..., 0., 0., 0.],\n",
       "        [0., 0., 0.,  ..., 0., 0., 0.],\n",
       "        ...,\n",
       "        [0., 0., 0.,  ..., 0., 0., 0.],\n",
       "        [0., 0., 0.,  ..., 0., 0., 0.],\n",
       "        [0., 0., 0.,  ..., 0., 0., 0.]])"
      ]
     },
     "execution_count": 28,
     "metadata": {},
     "output_type": "execute_result"
    }
   ],
   "source": [
    "y0.grad"
   ]
  },
  {
   "cell_type": "code",
   "execution_count": 29,
   "id": "be548380-2386-4f3d-bb90-7662e5777e50",
   "metadata": {},
   "outputs": [],
   "source": [
    "def coarse_condition(y, grad_y, kappa, y_last = None):\n",
    "    gcond = (matrix_norm(R(grad_y), ord = 1) >= kappa * matrix_norm(grad_y, ord = 1))\n",
    "    if y_last is not None:\n",
    "        y_diff_norm = matrix_norm(y_last - y, ord = 1)\n",
    "        return gcond and (y_diff_norm >= kappa)\n",
    "    else:\n",
    "        return gcond"
   ]
  },
  {
   "cell_type": "markdown",
   "id": "b8ba658a-74c9-425a-8079-23ec83fc5d2d",
   "metadata": {},
   "source": [
    "## MLO with an explicit implementation of psi"
   ]
  },
  {
   "cell_type": "code",
   "execution_count": 30,
   "id": "fa3a93ee-0d2e-45fd-8968-c1231e04801b",
   "metadata": {},
   "outputs": [],
   "source": [
    "def MLO(fh, y, last_pts: list, l=0, kappa = 0.5):\n",
    "    x = R(y).detach().requires_grad_(True)\n",
    "    y0, x0 = y, x.clone().detach().requires_grad_(True)\n",
    "    \n",
    "    fhy0 = fh(y0)\n",
    "    fhy0.backward(retain_graph = True)\n",
    "    grad_fhy0 = y0.grad.clone()\n",
    "    y0.grad.zero_()\n",
    "    \n",
    "    #print('coarse correction at l = ', l)\n",
    "    if coarse_condition(y, grad_fhy0, kappa, last_pts[l]):\n",
    "        print(l, ' : coarse correction activated')\n",
    "        \n",
    "        last_pts[l] = y0.clone().detach()\n",
    "    \n",
    "        fH = lambda x: fcts.kl_distance(x, A[l+1], b[l+1])\n",
    "        fHx0 = fH(x0)\n",
    "        fHx0.backward(retain_graph = True)\n",
    "        grad_fHx0 = x0.grad.clone()\n",
    "        x0.grad.zero_()\n",
    "\n",
    "        kappa = R(grad_fhy0) - grad_fHx0\n",
    "\n",
    "        psi = lambda x: fH(x) + torch.sum(kappa * (x-x0))\n",
    "\n",
    "        for i in range(maxIter[l]):\n",
    "            x.retain_grad()\n",
    "            val = fcts.SMART(psi, x, tau[l+1])\n",
    "            x = val.clone().detach().requires_grad_(True)\n",
    "            \n",
    "        if l < max_levels-1:\n",
    "            x, last_pts, _ = MLO(psi, x, last_pts, l+1)\n",
    "            #print('x', x)\n",
    "            #print('xlast', xlast)\n",
    "\n",
    "        assert psi(x) < psi(x0), 'psi(x) < psi(x0) = fH(x0) does not hold'\n",
    "    else: \n",
    "        print(l, ' : coarse correction not activated')\n",
    "    \n",
    "    d = P(x-x0)\n",
    "    z, a = armijo_linesearch(fh, y0, d)\n",
    "    \n",
    "    assert z.min() >= 0\n",
    "    \n",
    "    for i in range(maxIter[l]):\n",
    "        z.retain_grad()\n",
    "        zval = fcts.SMART(fh, z, tau[l])\n",
    "        y0.grad.zero_()\n",
    "        z = zval.clone().detach().requires_grad_(True)\n",
    "    return z, last_pts, a"
   ]
  },
  {
   "cell_type": "code",
   "execution_count": 31,
   "id": "094066fd-04b3-4af8-aa25-21bdda9fb7d2",
   "metadata": {},
   "outputs": [],
   "source": [
    "tau = [tau0, tau1]"
   ]
  },
  {
   "cell_type": "code",
   "execution_count": 32,
   "id": "b78f4174-bb90-490f-8652-ada8250062e5",
   "metadata": {},
   "outputs": [
    {
     "name": "stdout",
     "output_type": "stream",
     "text": [
      "0  : coarse correction activated\n",
      "0  : coarse correction activated\n",
      "0  : coarse correction activated\n",
      "0  : coarse correction activated\n",
      "0  : coarse correction activated\n",
      "0  : coarse correction activated\n",
      "0  : coarse correction activated\n",
      "0  : coarse correction activated\n",
      "0  : coarse correction activated\n",
      "0  : coarse correction activated\n",
      "0  : coarse correction activated\n",
      "0  : coarse correction activated\n",
      "0  : coarse correction activated\n",
      "0  : coarse correction activated\n",
      "0  : coarse correction activated\n",
      "0  : coarse correction activated\n",
      "0  : coarse correction activated\n",
      "0  : coarse correction activated\n",
      "0  : coarse correction activated\n",
      "0  : coarse correction activated\n",
      "0  : coarse correction activated\n",
      "0  : coarse correction activated\n",
      "0  : coarse correction activated\n",
      "0  : coarse correction activated\n",
      "0  : coarse correction activated\n",
      "0  : coarse correction activated\n",
      "0  : coarse correction activated\n",
      "0  : coarse correction activated\n",
      "0  : coarse correction activated\n",
      "0  : coarse correction activated\n",
      "0  : coarse correction activated\n",
      "0  : coarse correction activated\n",
      "0  : coarse correction activated\n",
      "0  : coarse correction activated\n",
      "0  : coarse correction activated\n",
      "0  : coarse correction activated\n",
      "0  : coarse correction activated\n",
      "0  : coarse correction activated\n",
      "0  : coarse correction activated\n",
      "0  : coarse correction activated\n",
      "0  : coarse correction activated\n",
      "0  : coarse correction activated\n",
      "0  : coarse correction activated\n",
      "0  : coarse correction activated\n",
      "0  : coarse correction activated\n",
      "0  : coarse correction activated\n",
      "0  : coarse correction activated\n",
      "0  : coarse correction activated\n",
      "0  : coarse correction activated\n",
      "0  : coarse correction activated\n",
      "0  : coarse correction activated\n",
      "0  : coarse correction activated\n",
      "0  : coarse correction activated\n",
      "0  : coarse correction activated\n",
      "0  : coarse correction activated\n",
      "0  : coarse correction activated\n",
      "0  : coarse correction activated\n",
      "0  : coarse correction activated\n",
      "0  : coarse correction activated\n",
      "0  : coarse correction activated\n",
      "0  : coarse correction activated\n",
      "0  : coarse correction activated\n",
      "0  : coarse correction activated\n",
      "0  : coarse correction activated\n",
      "0  : coarse correction activated\n",
      "0  : coarse correction activated\n",
      "0  : coarse correction activated\n",
      "0  : coarse correction activated\n",
      "0  : coarse correction activated\n",
      "0  : coarse correction activated\n",
      "0  : coarse correction activated\n",
      "0  : coarse correction activated\n",
      "0  : coarse correction activated\n",
      "0  : coarse correction activated\n",
      "0  : coarse correction activated\n",
      "0  : coarse correction activated\n",
      "0  : coarse correction activated\n",
      "0  : coarse correction activated\n",
      "0  : coarse correction activated\n",
      "0  : coarse correction activated\n",
      "0  : coarse correction activated\n",
      "0  : coarse correction activated\n",
      "0  : coarse correction activated\n",
      "0  : coarse correction activated\n",
      "0  : coarse correction activated\n",
      "0  : coarse correction activated\n",
      "0  : coarse correction activated\n",
      "0  : coarse correction activated\n",
      "0  : coarse correction activated\n",
      "0  : coarse correction activated\n",
      "0  : coarse correction activated\n",
      "0  : coarse correction activated\n",
      "0  : coarse correction activated\n",
      "0  : coarse correction activated\n",
      "0  : coarse correction activated\n",
      "0  : coarse correction activated\n",
      "0  : coarse correction activated\n",
      "0  : coarse correction activated\n",
      "0  : coarse correction activated\n",
      "0  : coarse correction activated\n"
     ]
    }
   ],
   "source": [
    "for i in range(100):\n",
    "    z0 = torch.rand(63, 63, requires_grad = True)\n",
    "    z1, ylast, _ = MLO(fh, z0)\n",
    "    \n",
    "    assert fh(z1) - fh(z0) <=0, fh(z1) - fh(z0)"
   ]
  },
  {
   "cell_type": "code",
   "execution_count": 33,
   "id": "de015cd3-299f-4348-a305-c0ca004951f3",
   "metadata": {},
   "outputs": [
    {
     "name": "stdout",
     "output_type": "stream",
     "text": [
      "tensor(168058.6712, dtype=torch.float64, grad_fn=<AddBackward0>)\n",
      "0  : coarse correction activated\n",
      "0  : coarse correction activated\n",
      "0  : coarse correction activated\n",
      "0  : coarse correction activated\n",
      "0  : coarse correction activated\n",
      "0  : coarse correction activated\n",
      "0  : coarse correction activated\n",
      "0  : coarse correction activated\n",
      "0  : coarse correction activated\n",
      "0  : coarse correction activated\n",
      "0  : coarse correction not activated\n",
      "0  : coarse correction activated\n",
      "0  : coarse correction not activated\n",
      "0  : coarse correction activated\n",
      "0  : coarse correction not activated\n",
      "0  : coarse correction activated\n",
      "0  : coarse correction not activated\n",
      "0  : coarse correction not activated\n",
      "0  : coarse correction activated\n",
      "0  : coarse correction not activated\n",
      "0  : coarse correction not activated\n",
      "0  : coarse correction activated\n",
      "0  : coarse correction not activated\n",
      "0  : coarse correction not activated\n",
      "0  : coarse correction not activated\n",
      "0  : coarse correction activated\n",
      "0  : coarse correction not activated\n",
      "0  : coarse correction not activated\n",
      "0  : coarse correction not activated\n",
      "0  : coarse correction activated\n",
      "0  : coarse correction not activated\n",
      "0  : coarse correction not activated\n",
      "0  : coarse correction not activated\n",
      "0  : coarse correction not activated\n",
      "0  : coarse correction activated\n",
      "0  : coarse correction not activated\n",
      "0  : coarse correction not activated\n",
      "0  : coarse correction not activated\n",
      "0  : coarse correction not activated\n",
      "0  : coarse correction not activated\n",
      "0  : coarse correction not activated\n",
      "0  : coarse correction not activated\n",
      "0  : coarse correction not activated\n",
      "0  : coarse correction not activated\n",
      "0  : coarse correction activated\n",
      "0  : coarse correction not activated\n",
      "0  : coarse correction not activated\n",
      "0  : coarse correction not activated\n",
      "0  : coarse correction not activated\n",
      "0  : coarse correction not activated\n",
      "0  : coarse correction not activated\n",
      "0  : coarse correction not activated\n",
      "0  : coarse correction not activated\n",
      "0  : coarse correction not activated\n",
      "0  : coarse correction not activated\n",
      "0  : coarse correction not activated\n",
      "0  : coarse correction not activated\n",
      "0  : coarse correction not activated\n",
      "0  : coarse correction not activated\n",
      "0  : coarse correction not activated\n",
      "0  : coarse correction not activated\n",
      "0  : coarse correction not activated\n",
      "0  : coarse correction not activated\n",
      "0  : coarse correction not activated\n",
      "0  : coarse correction not activated\n",
      "0  : coarse correction not activated\n",
      "0  : coarse correction not activated\n",
      "0  : coarse correction not activated\n",
      "0  : coarse correction not activated\n",
      "0  : coarse correction activated\n",
      "0  : coarse correction not activated\n",
      "0  : coarse correction not activated\n",
      "0  : coarse correction not activated\n",
      "0  : coarse correction not activated\n",
      "0  : coarse correction not activated\n",
      "0  : coarse correction not activated\n",
      "0  : coarse correction not activated\n",
      "0  : coarse correction not activated\n",
      "0  : coarse correction not activated\n",
      "0  : coarse correction not activated\n",
      "0  : coarse correction not activated\n",
      "0  : coarse correction not activated\n",
      "0  : coarse correction not activated\n",
      "0  : coarse correction not activated\n",
      "0  : coarse correction not activated\n",
      "0  : coarse correction not activated\n",
      "0  : coarse correction not activated\n",
      "0  : coarse correction not activated\n",
      "0  : coarse correction not activated\n",
      "0  : coarse correction not activated\n",
      "0  : coarse correction not activated\n",
      "0  : coarse correction not activated\n",
      "0  : coarse correction not activated\n",
      "0  : coarse correction not activated\n",
      "0  : coarse correction not activated\n",
      "0  : coarse correction not activated\n",
      "0  : coarse correction not activated\n",
      "0  : coarse correction not activated\n",
      "0  : coarse correction not activated\n",
      "0  : coarse correction not activated\n",
      "tensor(4.5477, dtype=torch.float64, grad_fn=<AddBackward0>)\n"
     ]
    }
   ],
   "source": [
    "a = []\n",
    "z0 = torch.rand(63, 63, requires_grad = True)\n",
    "ylast = None\n",
    "print(fh(z0))\n",
    "for i in range(100):\n",
    "    val, ylast, alpha = MLO(fh, z0, y_last=ylast)\n",
    "    assert fh(val) - fh(z0) <= 0, fh(val) - fh(z0)\n",
    "    z0 = val.clone().detach().requires_grad_(True)\n",
    "    assert z0.min() >= 0\n",
    "    assert z0.grad is None\n",
    "    a.append(alpha)\n",
    "print(fh(z0))"
   ]
  },
  {
   "cell_type": "code",
   "execution_count": 34,
   "id": "8f1a3491-46a1-40ba-9934-d4333e5bb962",
   "metadata": {},
   "outputs": [
    {
     "data": {
      "text/plain": [
       "<matplotlib.image.AxesImage at 0x7fd6342f6c90>"
      ]
     },
     "execution_count": 34,
     "metadata": {},
     "output_type": "execute_result"
    },
    {
     "data": {
      "image/png": "[encoded data removed]",
      "text/plain": [
       "<Figure size 640x480 with 1 Axes>"
      ]
     },
     "metadata": {},
     "output_type": "display_data"
    }
   ],
   "source": [
    "plt.imshow(z0.detach().numpy(), cmap = 'gray')"
   ]
  }
 ],
 "metadata": {
  "kernelspec": {
   "display_name": "Python [conda env:.conda-MLcupy_v2]",
   "language": "python",
   "name": "conda-env-.conda-MLcupy_v2-py"
  },
  "language_info": {
   "codemirror_mode": {
    "name": "ipython",
    "version": 3
   },
   "file_extension": ".py",
   "mimetype": "text/x-python",
   "name": "python",
   "nbconvert_exporter": "python",
   "pygments_lexer": "ipython3",
   "version": "3.11.9"
  }
 },
 "nbformat": 4,
 "nbformat_minor": 5
}
