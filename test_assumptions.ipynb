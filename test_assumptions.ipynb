{
 "cells": [
  {
   "cell_type": "code",
   "execution_count": 1,
   "metadata": {},
   "outputs": [],
   "source": [
    "import MGTomo.model as mgmodel\n",
    "import time\n",
    "import numpy as np\n",
    "import MGTomo.tomoprojection as mgproj\n",
    "from MGTomo.utils import myexp, mylog, mydiv\n",
    "import MGTomo.functions as fcts\n",
    "from skimage import data\n",
    "from skimage.transform import resize\n",
    "from MGTomo.optimize import armijo_linesearch_box\n",
    "\n",
    "from MGTomo.gridop import P,R, RBox, PBox\n",
    "\n",
    "import torch\n",
    "from torch.func import grad\n",
    "\n",
    "from torch.linalg import matrix_norm\n",
    "\n",
    "import matplotlib.pyplot as plt "
   ]
  },
  {
   "cell_type": "code",
   "execution_count": 2,
   "metadata": {},
   "outputs": [],
   "source": [
    "N = 255\n",
    "# load image\n",
    "x_orig = data.shepp_logan_phantom()\n",
    "x_orig = resize(x_orig, (N,N), anti_aliasing = False)\n",
    "\n",
    "x_torch = torch.tensor(x_orig, requires_grad = True)"
   ]
  },
  {
   "cell_type": "code",
   "execution_count": 85,
   "metadata": {},
   "outputs": [],
   "source": [
    "model = mgmodel.astra_model(N,{'mode' : 'line', 'num_angles' : 500, 'level_decrease' : 1})\n",
    "fine_dim = model.dim\n",
    "A = mgproj.TomoTorch(model.proj_factory(fine_dim))\n",
    "b = A(x_torch)"
   ]
  },
  {
   "cell_type": "code",
   "execution_count": 4,
   "metadata": {},
   "outputs": [],
   "source": [
    "fh = lambda x: fcts.kl_distance(x, A, b)"
   ]
  },
  {
   "cell_type": "code",
   "execution_count": 5,
   "metadata": {},
   "outputs": [],
   "source": [
    "def GD1(x, f):\n",
    "    x1 = fcts.BSMART(f, x, 1)\n",
    "    val = fcts.kl_distance_no_matrix(x1, x) - 0.3*1e-3 *f(x)\n",
    "\n",
    "    return val"
   ]
  },
  {
   "cell_type": "code",
   "execution_count": 86,
   "metadata": {},
   "outputs": [
    {
     "data": {
      "text/plain": [
       "tensor(3605.0027, dtype=torch.float64, grad_fn=<SubBackward0>)"
      ]
     },
     "execution_count": 86,
     "metadata": {},
     "output_type": "execute_result"
    }
   ],
   "source": [
    "x0 = torch.rand(N, N, requires_grad = True)\n",
    "GD1(x0, fh)"
   ]
  },
  {
   "cell_type": "code",
   "execution_count": 37,
   "metadata": {},
   "outputs": [
    {
     "data": {
      "text/plain": [
       "tensor([[0.7975, 0.2443, 0.5240,  ..., 0.9488, 0.3437, 0.6177],\n",
       "        [0.0794, 0.3140, 0.6351,  ..., 0.9731, 0.1198, 0.5478],\n",
       "        [0.3069, 0.4643, 0.9647,  ..., 0.0530, 0.7452, 0.7094],\n",
       "        ...,\n",
       "        [0.8773, 0.8940, 0.3376,  ..., 0.8064, 0.8091, 0.0849],\n",
       "        [0.3125, 0.7933, 0.4930,  ..., 0.9378, 0.6460, 0.3157],\n",
       "        [0.7869, 0.7764, 0.8651,  ..., 0.0573, 0.5161, 0.6803]],\n",
       "       requires_grad=True)"
      ]
     },
     "execution_count": 37,
     "metadata": {},
     "output_type": "execute_result"
    }
   ],
   "source": [
    "x0"
   ]
  },
  {
   "cell_type": "code",
   "execution_count": 90,
   "metadata": {},
   "outputs": [],
   "source": [
    "def AssB(x, f, tau):\n",
    "    x1 = fcts.BSMART(f, x, 1)\n",
    "    xtau = fcts.BSMART(f,x,tau)\n",
    "    val = fcts.kl_distance_no_matrix(xtau, x) - tau * fcts.kl_distance_no_matrix(x1, x)\n",
    "\n",
    "    return val.item()"
   ]
  },
  {
   "cell_type": "code",
   "execution_count": 67,
   "metadata": {},
   "outputs": [
    {
     "ename": "KeyboardInterrupt",
     "evalue": "",
     "output_type": "error",
     "traceback": [
      "\u001b[0;31m---------------------------------------------------------------------------\u001b[0m",
      "\u001b[0;31mKeyboardInterrupt\u001b[0m                         Traceback (most recent call last)",
      "Cell \u001b[0;32mIn[67], line 9\u001b[0m\n\u001b[1;32m      7\u001b[0m \u001b[38;5;66;03m# Calculate the AssB values for each tau\u001b[39;00m\n\u001b[1;32m      8\u001b[0m \u001b[38;5;28;01mfor\u001b[39;00m tau \u001b[38;5;129;01min\u001b[39;00m tau_values:\n\u001b[0;32m----> 9\u001b[0m     AssB_values\u001b[38;5;241m.\u001b[39mappend(AssB(x0, fh, tau))\n\u001b[1;32m     11\u001b[0m \u001b[38;5;66;03m# Plot the results\u001b[39;00m\n\u001b[1;32m     12\u001b[0m plt\u001b[38;5;241m.\u001b[39mplot(tau_values, AssB_values)\n",
      "Cell \u001b[0;32mIn[47], line 3\u001b[0m, in \u001b[0;36mAssB\u001b[0;34m(x, f, tau)\u001b[0m\n\u001b[1;32m      1\u001b[0m \u001b[38;5;28;01mdef\u001b[39;00m \u001b[38;5;21mAssB\u001b[39m(x, f, tau):\n\u001b[1;32m      2\u001b[0m     x1 \u001b[38;5;241m=\u001b[39m fcts\u001b[38;5;241m.\u001b[39mBSMART(f, x, \u001b[38;5;241m1\u001b[39m)\n\u001b[0;32m----> 3\u001b[0m     xtau \u001b[38;5;241m=\u001b[39m fcts\u001b[38;5;241m.\u001b[39mBSMART(f,x,tau)\n\u001b[1;32m      4\u001b[0m     val \u001b[38;5;241m=\u001b[39m fcts\u001b[38;5;241m.\u001b[39mkl_distance_no_matrix(xtau, x) \u001b[38;5;241m-\u001b[39m tau \u001b[38;5;241m*\u001b[39m fcts\u001b[38;5;241m.\u001b[39mkl_distance_no_matrix(x1, x)\n\u001b[1;32m      6\u001b[0m     \u001b[38;5;28;01mreturn\u001b[39;00m val\u001b[38;5;241m.\u001b[39mitem()\n",
      "File \u001b[0;32m~/multigrid/MGTomo/functions.py:49\u001b[0m, in \u001b[0;36mBSMART\u001b[0;34m(f, x, tau)\u001b[0m\n\u001b[1;32m     47\u001b[0m \u001b[38;5;28;01mdef\u001b[39;00m \u001b[38;5;21mBSMART\u001b[39m(f, x: torch\u001b[38;5;241m.\u001b[39mtensor, tau):\n\u001b[1;32m     48\u001b[0m     fx \u001b[38;5;241m=\u001b[39m f(x)\n\u001b[0;32m---> 49\u001b[0m     fx\u001b[38;5;241m.\u001b[39mbackward(retain_graph \u001b[38;5;241m=\u001b[39m \u001b[38;5;28;01mTrue\u001b[39;00m)\n\u001b[1;32m     50\u001b[0m     ones \u001b[38;5;241m=\u001b[39m torch\u001b[38;5;241m.\u001b[39mones_like(x)\n\u001b[1;32m     51\u001b[0m     val \u001b[38;5;241m=\u001b[39m mydiv(x, ones \u001b[38;5;241m-\u001b[39m x) \u001b[38;5;241m*\u001b[39m myexp(\u001b[38;5;241m-\u001b[39mtau \u001b[38;5;241m*\u001b[39m x\u001b[38;5;241m.\u001b[39mgrad)\n",
      "File \u001b[0;32m~/.conda/envs/MLcupy_v2/lib/python3.11/site-packages/torch/_tensor.py:525\u001b[0m, in \u001b[0;36mTensor.backward\u001b[0;34m(self, gradient, retain_graph, create_graph, inputs)\u001b[0m\n\u001b[1;32m    515\u001b[0m \u001b[38;5;28;01mif\u001b[39;00m has_torch_function_unary(\u001b[38;5;28mself\u001b[39m):\n\u001b[1;32m    516\u001b[0m     \u001b[38;5;28;01mreturn\u001b[39;00m handle_torch_function(\n\u001b[1;32m    517\u001b[0m         Tensor\u001b[38;5;241m.\u001b[39mbackward,\n\u001b[1;32m    518\u001b[0m         (\u001b[38;5;28mself\u001b[39m,),\n\u001b[0;32m   (...)\u001b[0m\n\u001b[1;32m    523\u001b[0m         inputs\u001b[38;5;241m=\u001b[39minputs,\n\u001b[1;32m    524\u001b[0m     )\n\u001b[0;32m--> 525\u001b[0m torch\u001b[38;5;241m.\u001b[39mautograd\u001b[38;5;241m.\u001b[39mbackward(\n\u001b[1;32m    526\u001b[0m     \u001b[38;5;28mself\u001b[39m, gradient, retain_graph, create_graph, inputs\u001b[38;5;241m=\u001b[39minputs\n\u001b[1;32m    527\u001b[0m )\n",
      "File \u001b[0;32m~/.conda/envs/MLcupy_v2/lib/python3.11/site-packages/torch/autograd/__init__.py:267\u001b[0m, in \u001b[0;36mbackward\u001b[0;34m(tensors, grad_tensors, retain_graph, create_graph, grad_variables, inputs)\u001b[0m\n\u001b[1;32m    262\u001b[0m     retain_graph \u001b[38;5;241m=\u001b[39m create_graph\n\u001b[1;32m    264\u001b[0m \u001b[38;5;66;03m# The reason we repeat the same comment below is that\u001b[39;00m\n\u001b[1;32m    265\u001b[0m \u001b[38;5;66;03m# some Python versions print out the first line of a multi-line function\u001b[39;00m\n\u001b[1;32m    266\u001b[0m \u001b[38;5;66;03m# calls in the traceback and some print out the last line\u001b[39;00m\n\u001b[0;32m--> 267\u001b[0m _engine_run_backward(\n\u001b[1;32m    268\u001b[0m     tensors,\n\u001b[1;32m    269\u001b[0m     grad_tensors_,\n\u001b[1;32m    270\u001b[0m     retain_graph,\n\u001b[1;32m    271\u001b[0m     create_graph,\n\u001b[1;32m    272\u001b[0m     inputs,\n\u001b[1;32m    273\u001b[0m     allow_unreachable\u001b[38;5;241m=\u001b[39m\u001b[38;5;28;01mTrue\u001b[39;00m,\n\u001b[1;32m    274\u001b[0m     accumulate_grad\u001b[38;5;241m=\u001b[39m\u001b[38;5;28;01mTrue\u001b[39;00m,\n\u001b[1;32m    275\u001b[0m )\n",
      "File \u001b[0;32m~/.conda/envs/MLcupy_v2/lib/python3.11/site-packages/torch/autograd/graph.py:744\u001b[0m, in \u001b[0;36m_engine_run_backward\u001b[0;34m(t_outputs, *args, **kwargs)\u001b[0m\n\u001b[1;32m    742\u001b[0m     unregister_hooks \u001b[38;5;241m=\u001b[39m _register_logging_hooks_on_whole_graph(t_outputs)\n\u001b[1;32m    743\u001b[0m \u001b[38;5;28;01mtry\u001b[39;00m:\n\u001b[0;32m--> 744\u001b[0m     \u001b[38;5;28;01mreturn\u001b[39;00m Variable\u001b[38;5;241m.\u001b[39m_execution_engine\u001b[38;5;241m.\u001b[39mrun_backward(  \u001b[38;5;66;03m# Calls into the C++ engine to run the backward pass\u001b[39;00m\n\u001b[1;32m    745\u001b[0m         t_outputs, \u001b[38;5;241m*\u001b[39margs, \u001b[38;5;241m*\u001b[39m\u001b[38;5;241m*\u001b[39mkwargs\n\u001b[1;32m    746\u001b[0m     )  \u001b[38;5;66;03m# Calls into the C++ engine to run the backward pass\u001b[39;00m\n\u001b[1;32m    747\u001b[0m \u001b[38;5;28;01mfinally\u001b[39;00m:\n\u001b[1;32m    748\u001b[0m     \u001b[38;5;28;01mif\u001b[39;00m attach_logging_hooks:\n",
      "File \u001b[0;32m~/.conda/envs/MLcupy_v2/lib/python3.11/site-packages/torch/autograd/function.py:301\u001b[0m, in \u001b[0;36mBackwardCFunction.apply\u001b[0;34m(self, *args)\u001b[0m\n\u001b[1;32m    295\u001b[0m     \u001b[38;5;28;01mraise\u001b[39;00m \u001b[38;5;167;01mRuntimeError\u001b[39;00m(\n\u001b[1;32m    296\u001b[0m         \u001b[38;5;124m\"\u001b[39m\u001b[38;5;124mImplementing both \u001b[39m\u001b[38;5;124m'\u001b[39m\u001b[38;5;124mbackward\u001b[39m\u001b[38;5;124m'\u001b[39m\u001b[38;5;124m and \u001b[39m\u001b[38;5;124m'\u001b[39m\u001b[38;5;124mvjp\u001b[39m\u001b[38;5;124m'\u001b[39m\u001b[38;5;124m for a custom \u001b[39m\u001b[38;5;124m\"\u001b[39m\n\u001b[1;32m    297\u001b[0m         \u001b[38;5;124m\"\u001b[39m\u001b[38;5;124mFunction is not allowed. You should only implement one \u001b[39m\u001b[38;5;124m\"\u001b[39m\n\u001b[1;32m    298\u001b[0m         \u001b[38;5;124m\"\u001b[39m\u001b[38;5;124mof them.\u001b[39m\u001b[38;5;124m\"\u001b[39m\n\u001b[1;32m    299\u001b[0m     )\n\u001b[1;32m    300\u001b[0m user_fn \u001b[38;5;241m=\u001b[39m vjp_fn \u001b[38;5;28;01mif\u001b[39;00m vjp_fn \u001b[38;5;129;01mis\u001b[39;00m \u001b[38;5;129;01mnot\u001b[39;00m Function\u001b[38;5;241m.\u001b[39mvjp \u001b[38;5;28;01melse\u001b[39;00m backward_fn\n\u001b[0;32m--> 301\u001b[0m \u001b[38;5;28;01mreturn\u001b[39;00m user_fn(\u001b[38;5;28mself\u001b[39m, \u001b[38;5;241m*\u001b[39margs)\n",
      "File \u001b[0;32m~/multigrid/MGTomo/tomoprojection.py:22\u001b[0m, in \u001b[0;36mAstraLinearFunction.backward\u001b[0;34m(ctx, grad_output)\u001b[0m\n\u001b[1;32m     20\u001b[0m tomo_matrix \u001b[38;5;241m=\u001b[39m ctx\u001b[38;5;241m.\u001b[39mtomo_matrix\n\u001b[1;32m     21\u001b[0m \u001b[38;5;66;03m# Compute the gradient with respect to the input vector\u001b[39;00m\n\u001b[0;32m---> 22\u001b[0m grad_input_vector \u001b[38;5;241m=\u001b[39m tomo_matrix\u001b[38;5;241m.\u001b[39mrmatvec(grad_output\u001b[38;5;241m.\u001b[39mcpu()\u001b[38;5;241m.\u001b[39mnumpy())\n\u001b[1;32m     23\u001b[0m \u001b[38;5;66;03m# Return gradients for each input\u001b[39;00m\n\u001b[1;32m     24\u001b[0m \u001b[38;5;66;03m# Note: Since custom_sparse_matrix is not a tensor that requires gradients,\u001b[39;00m\n\u001b[1;32m     25\u001b[0m \u001b[38;5;66;03m# we return None for its gradient\u001b[39;00m\n\u001b[1;32m     26\u001b[0m \u001b[38;5;28;01mreturn\u001b[39;00m \u001b[38;5;28;01mNone\u001b[39;00m, torch\u001b[38;5;241m.\u001b[39mfrom_numpy(grad_input_vector)\n",
      "File \u001b[0;32m~/multigrid/MGTomo/tomoprojection.py:66\u001b[0m, in \u001b[0;36mTomoParallel.rmatvec\u001b[0;34m(self, v)\u001b[0m\n\u001b[1;32m     65\u001b[0m \u001b[38;5;28;01mdef\u001b[39;00m \u001b[38;5;21mrmatvec\u001b[39m(\u001b[38;5;28mself\u001b[39m, v):\n\u001b[0;32m---> 66\u001b[0m   bid, b \u001b[38;5;241m=\u001b[39m astra\u001b[38;5;241m.\u001b[39mcreate_backprojection(v,\u001b[38;5;28mself\u001b[39m\u001b[38;5;241m.\u001b[39mproj_id)\n\u001b[1;32m     67\u001b[0m     \u001b[38;5;66;03m# np.reshape(v, (len(proj_geom['ProjectionAngles']), proj_geom['DetectorCount'],)), self.proj_id)\u001b[39;00m\n\u001b[1;32m     68\u001b[0m   astra\u001b[38;5;241m.\u001b[39mdata2d\u001b[38;5;241m.\u001b[39mdelete(bid)\n",
      "File \u001b[0;32m~/.conda/envs/MLcupy_v2/lib/python3.11/site-packages/astra/creators.py:319\u001b[0m, in \u001b[0;36mcreate_backprojection\u001b[0;34m(data, proj_id, returnData)\u001b[0m\n\u001b[1;32m    317\u001b[0m cfg[\u001b[38;5;124m'\u001b[39m\u001b[38;5;124mReconstructionDataId\u001b[39m\u001b[38;5;124m'\u001b[39m] \u001b[38;5;241m=\u001b[39m vol_id\n\u001b[1;32m    318\u001b[0m alg_id \u001b[38;5;241m=\u001b[39m algorithm\u001b[38;5;241m.\u001b[39mcreate(cfg)\n\u001b[0;32m--> 319\u001b[0m algorithm\u001b[38;5;241m.\u001b[39mrun(alg_id)\n\u001b[1;32m    320\u001b[0m algorithm\u001b[38;5;241m.\u001b[39mdelete(alg_id)\n\u001b[1;32m    322\u001b[0m \u001b[38;5;28;01mif\u001b[39;00m \u001b[38;5;28misinstance\u001b[39m(data, np\u001b[38;5;241m.\u001b[39mndarray):\n",
      "File \u001b[0;32m~/.conda/envs/MLcupy_v2/lib/python3.11/site-packages/astra/algorithm.py:47\u001b[0m, in \u001b[0;36mrun\u001b[0;34m(i, iterations)\u001b[0m\n\u001b[1;32m     38\u001b[0m \u001b[38;5;28;01mdef\u001b[39;00m \u001b[38;5;21mrun\u001b[39m(i, iterations\u001b[38;5;241m=\u001b[39m\u001b[38;5;241m1\u001b[39m):\n\u001b[1;32m     39\u001b[0m \u001b[38;5;250m    \u001b[39m\u001b[38;5;124;03m\"\"\"Run an algorithm.\u001b[39;00m\n\u001b[1;32m     40\u001b[0m \u001b[38;5;124;03m    \u001b[39;00m\n\u001b[1;32m     41\u001b[0m \u001b[38;5;124;03m    :param i: ID of object.\u001b[39;00m\n\u001b[0;32m   (...)\u001b[0m\n\u001b[1;32m     45\u001b[0m \u001b[38;5;124;03m    \u001b[39;00m\n\u001b[1;32m     46\u001b[0m \u001b[38;5;124;03m    \"\"\"\u001b[39;00m\n\u001b[0;32m---> 47\u001b[0m     \u001b[38;5;28;01mreturn\u001b[39;00m a\u001b[38;5;241m.\u001b[39mrun(i,iterations)\n",
      "\u001b[0;31mKeyboardInterrupt\u001b[0m: "
     ]
    }
   ],
   "source": [
    "# Create a range of tau values between 0 and 1\n",
    "tau_values = np.linspace(0, 1, 1000)\n",
    "\n",
    "# Placeholder for the AssB values\n",
    "AssB_values = []\n",
    "\n",
    "# Calculate the AssB values for each tau\n",
    "for tau in tau_values:\n",
    "    AssB_values.append(AssB(x0, fh, tau))\n",
    "\n",
    "# Plot the results\n",
    "plt.plot(tau_values, AssB_values)\n",
    "plt.xlabel('Tau')\n",
    "plt.ylabel('AssB value')\n",
    "plt.title('AssB over values of Tau between 0 and 1')\n",
    "plt.show()"
   ]
  },
  {
   "cell_type": "code",
   "execution_count": null,
   "metadata": {},
   "outputs": [
    {
     "data": {
      "text/plain": [
       "[-32558.8671875,\n",
       " -18894.13671875,\n",
       " -15564.16796875,\n",
       " -13083.55859375,\n",
       " -9142.443359375,\n",
       " -4957.9296875,\n",
       " -2022.890625,\n",
       " -620.88671875,\n",
       " -147.51171875,\n",
       " -28.25390625,\n",
       " -4.20703125,\n",
       " -0.5,\n",
       " -0.05078125,\n",
       " -0.00390625,\n",
       " 0.0,\n",
       " 0.0,\n",
       " 0.0,\n",
       " 0.0,\n",
       " 0.0,\n",
       " 0.0,\n",
       " 0.0,\n",
       " 0.0,\n",
       " 0.0,\n",
       " 0.0,\n",
       " 0.0,\n",
       " 0.0,\n",
       " 0.0,\n",
       " 0.0,\n",
       " 0.0,\n",
       " 0.0,\n",
       " 0.0,\n",
       " 0.0,\n",
       " 0.0,\n",
       " 0.0,\n",
       " 0.0,\n",
       " 0.0,\n",
       " 0.0,\n",
       " 0.0,\n",
       " 0.0,\n",
       " 0.0,\n",
       " 0.0,\n",
       " 0.0,\n",
       " 0.0,\n",
       " 0.0,\n",
       " 0.0,\n",
       " 0.0,\n",
       " 0.0,\n",
       " 0.0,\n",
       " 0.0,\n",
       " 0.0,\n",
       " 0.0,\n",
       " 0.0,\n",
       " 0.0,\n",
       " 0.0,\n",
       " 0.0,\n",
       " 0.0,\n",
       " 0.0,\n",
       " 0.0,\n",
       " 0.0,\n",
       " 0.0,\n",
       " 0.0,\n",
       " 0.0,\n",
       " 0.0,\n",
       " 0.0,\n",
       " 0.0,\n",
       " 0.0,\n",
       " 0.0,\n",
       " 0.0,\n",
       " 0.0,\n",
       " 0.0,\n",
       " 0.0,\n",
       " 0.0,\n",
       " 0.0,\n",
       " 0.0,\n",
       " 0.0,\n",
       " 0.0,\n",
       " 0.0,\n",
       " 0.0,\n",
       " 0.0,\n",
       " 0.0,\n",
       " 0.0,\n",
       " 0.0,\n",
       " 0.0,\n",
       " 0.0,\n",
       " 0.0,\n",
       " 0.0,\n",
       " 0.0,\n",
       " 0.0,\n",
       " 0.0,\n",
       " 0.0,\n",
       " 0.0,\n",
       " 0.0,\n",
       " 0.0,\n",
       " 0.0,\n",
       " 0.0,\n",
       " 0.0,\n",
       " 0.0,\n",
       " 0.0,\n",
       " 0.0,\n",
       " 0.0]"
      ]
     },
     "execution_count": 40,
     "metadata": {},
     "output_type": "execute_result"
    }
   ],
   "source": [
    "AssB_values"
   ]
  },
  {
   "cell_type": "markdown",
   "metadata": {},
   "source": [
    "norm of A is ca. 1/54 by computations done locally"
   ]
  },
  {
   "cell_type": "code",
   "execution_count": 91,
   "metadata": {},
   "outputs": [
    {
     "data": {
      "text/plain": [
       "31881.673828125"
      ]
     },
     "execution_count": 91,
     "metadata": {},
     "output_type": "execute_result"
    }
   ],
   "source": [
    "tau = 1/54\n",
    "x0 = torch.rand(N, N, requires_grad = True)\n",
    "AssB(x0, fh, tau)"
   ]
  }
 ],
 "metadata": {
  "kernelspec": {
   "display_name": "MLcupy_v2",
   "language": "python",
   "name": "python3"
  },
  "language_info": {
   "codemirror_mode": {
    "name": "ipython",
    "version": 3
   },
   "file_extension": ".py",
   "mimetype": "text/x-python",
   "name": "python",
   "nbconvert_exporter": "python",
   "pygments_lexer": "ipython3",
   "version": "3.11.9"
  }
 },
 "nbformat": 4,
 "nbformat_minor": 2
}
