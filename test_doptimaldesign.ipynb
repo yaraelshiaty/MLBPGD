{
 "cells": [
  {
   "cell_type": "code",
   "execution_count": 1,
   "metadata": {},
   "outputs": [],
   "source": [
    "import numpy as np\n",
    "import astra\n",
    "from scipy.optimize import newton, root_scalar, minimize\n",
    "import scipy.sparse as sp\n",
    "import scipy.linalg\n",
    "\n",
    "from matplotlib.ticker import MultipleLocator"
   ]
  },
  {
   "cell_type": "code",
   "execution_count": 2,
   "metadata": {},
   "outputs": [],
   "source": [
    "from MGTomo.utils import mylog, mydiv, myexp\n",
    "import MGTomo.functions as fcts\n",
    "\n",
    "from MGTomo.gridop import P, R\n",
    "from MGTomo import gridop\n",
    "\n",
    "\n",
    "import time\n",
    "import numpy as np\n",
    "\n",
    "import matplotlib.pyplot as plt \n",
    "from skimage import data\n",
    "from skimage.transform import resize\n",
    "import torch\n",
    "\n",
    "import pylops\n",
    "\n",
    "from MGTomo.optimize import orthant_bounds_optimized"
   ]
  },
  {
   "cell_type": "code",
   "execution_count": 3,
   "metadata": {},
   "outputs": [],
   "source": [
    "import torch\n",
    "import torch.nn.functional as F\n",
    "from torch.linalg import matrix_norm\n",
    "\n",
    "def R_rows_only(input_image):\n",
    "    kernel_1d = torch.tensor([1, 2, 1], dtype=torch.float32)\n",
    "    kernel_1d = kernel_1d / kernel_1d.sum()\n",
    "\n",
    "    # Convert the 1D kernel to a 2D vertical kernel for conv2d\n",
    "    kernel_2d = kernel_1d[:, None]  # Shape (3, 1)\n",
    "\n",
    "    # Convert to 4D conv2d weight shape: (out_channels, in_channels, height, width)\n",
    "    kernel_4d = kernel_2d.unsqueeze(0).unsqueeze(0)\n",
    "\n",
    "\n",
    "    output_image = F.conv2d(input_image.unsqueeze(0).unsqueeze(0), kernel_4d, stride=(2, 1))\n",
    "\n",
    "    return output_image.squeeze(0).squeeze(0)\n",
    "\n",
    "\n",
    "def P_rows_only(input_image):\n",
    "    kernel_1d = torch.tensor([1, 2, 1], dtype=torch.float32)\n",
    "    kernel_1d = kernel_1d / kernel_1d.sum()\n",
    "\n",
    "    # Convert the 1D kernel to a 2D vertical kernel for conv2d\n",
    "    kernel_2d = kernel_1d[:, None]  # Shape (3, 1)\n",
    "    \n",
    "    # Convert to 4D conv2d weight shape: (out_channels, in_channels, height, width)\n",
    "    kernel_4d = kernel_2d.unsqueeze(0).unsqueeze(0)\n",
    "\n",
    "    # Apply convolution with bilinear interpolation kernel\n",
    "    output_image = F.conv_transpose2d(input_image.unsqueeze(0).unsqueeze(0), kernel_4d, stride=(2,1))\n",
    "\n",
    "    return output_image.squeeze(0).squeeze(0)"
   ]
  },
  {
   "cell_type": "code",
   "execution_count": 4,
   "metadata": {},
   "outputs": [],
   "source": [
    "def compute_nonzero_elements_of_P_rows_only(input_size):\n",
    "    # 1D kernel used for row interpolation\n",
    "    kernel = torch.tensor([1, 2, 1], dtype=torch.float32) / 4.0\n",
    "    \n",
    "    n = input_size  # assume square input image of size n x n\n",
    "    out_n_rows = 2 * n + 1\n",
    "    out_n_cols = n  # columns stay the same\n",
    "    \n",
    "    P_dict = {}\n",
    "    \n",
    "    for i in range(n):         # input row\n",
    "        for j in range(n):     # input col\n",
    "            input_coords = (i, j)\n",
    "            \n",
    "            if input_coords not in P_dict:\n",
    "                P_dict[input_coords] = []\n",
    "            \n",
    "            # Each input row i maps to output rows 2*i to 2*i+2 (stride 2)\n",
    "            out_j = j  # column stays the same\n",
    "            for ki in range(3):  # 3-tap kernel\n",
    "                out_i = 2 * i + ki\n",
    "                \n",
    "                if 0 <= out_i < out_n_rows:\n",
    "                    output_coords = (out_i, out_j)\n",
    "                    P_dict[input_coords].append(output_coords)\n",
    "    \n",
    "    return P_dict"
   ]
  },
  {
   "cell_type": "code",
   "execution_count": 5,
   "metadata": {},
   "outputs": [],
   "source": [
    "np.int = np.int32\n",
    "fine_dim = 31\n",
    "\n",
    "max_levels = 1\n",
    "maxIter = [1,1,10]\n",
    "num_proj = 120\n",
    "angles = np.linspace(0, np.pi, num_proj, endpoint=False)  # Projection angles\n",
    "\n",
    "det_count = fine_dim\n",
    "\n",
    "geometry = astra.create_proj_geom('parallel', 1.0, det_count, angles)\n",
    "vol_geom = astra.create_vol_geom(fine_dim, fine_dim)\n",
    "proj_id = astra.create_projector('line', geometry, vol_geom)\n",
    "matrix_id = astra.projector.matrix(proj_id)\n",
    "\n",
    "H = [sp.csr_matrix(astra.matrix.get(matrix_id))]\n",
    "\n",
    "P_nonzero = []\n",
    "\n",
    "for i in range(1, max_levels+1):\n",
    "    coarse_dim = fine_dim//2\n",
    "    # num_proj = num_proj//2\n",
    "    det_count = coarse_dim\n",
    "    angles = np.linspace(0, np.pi, num_proj, endpoint=False)  # Projection angles\n",
    "\n",
    "    P_nonzero.append(compute_nonzero_elements_of_P_rows_only(coarse_dim))\n",
    "\n",
    "    geometry = astra.create_proj_geom('parallel', 1.0, det_count, angles)\n",
    "    vol_geom = astra.create_vol_geom(coarse_dim, coarse_dim)\n",
    "    proj_id = astra.create_projector('line', geometry, vol_geom)\n",
    "    matrix_id = astra.projector.matrix(proj_id)\n",
    "\n",
    "    P_nonzero.append(gridop.compute_nonzero_elements_of_P(coarse_dim))\n",
    "\n",
    "    Hnew = astra.matrix.get(matrix_id)\n",
    "    H.append(sp.csr_matrix(Hnew))\n",
    "\n",
    "    fine_dim = coarse_dim"
   ]
  },
  {
   "cell_type": "code",
   "execution_count": 6,
   "metadata": {},
   "outputs": [],
   "source": [
    "shapes = [(31,120), (15,120)]"
   ]
  },
  {
   "cell_type": "code",
   "execution_count": 7,
   "metadata": {},
   "outputs": [],
   "source": [
    "def objective(x, H):\n",
    "    X = np.diag(x)\n",
    "    FIM = H @ X @ H.T\n",
    "    sgn, logdet = np.linalg.slogdet(FIM)\n",
    "    return - logdet"
   ]
  },
  {
   "cell_type": "code",
   "execution_count": 8,
   "metadata": {},
   "outputs": [],
   "source": [
    "def derivative_obj(x, H):\n",
    "    X = sp.diags(x)\n",
    "    HXHT = (H @ X @ H.T).tocsc()\n",
    "\n",
    "    # #HXHT_inv = sp.linalg.splu(HXHT).solve(sp.eye(HXHT.shape[0]).tocsc())\n",
    "\n",
    "    # Perform LU decomposition\n",
    "    lu = sp.linalg.splu(HXHT)  \n",
    "\n",
    "    n = HXHT.shape[0]\n",
    "    C_diag = np.zeros(H.shape[1])  # Store diagonal values only\n",
    "\n",
    "    for i in range(H.shape[1]):\n",
    "        #print(i)\n",
    "        ei = np.zeros(H.shape[1])\n",
    "        ei[i] = 1  # Unit vector for the i-th column\n",
    "        HXHT_inv_Hi = lu.solve(H @ ei)  # Solve for H[:, i]\n",
    "        C_diag[i] = (H[:, i].T @ HXHT_inv_Hi).item()  # Extract diagonal entry\n",
    "\n",
    "    return - C_diag\n",
    "\n",
    "def deriv_geom(x):\n",
    "    return -1/x\n",
    "\n",
    "def newton_equation(theta, c, eq_constraint):\n",
    "    return np.sum(1 / (c + theta)) - eq_constraint\n",
    "\n",
    "def stable_netwon_equation(c, theta, eq_constraint):\n",
    "    safe_c_theta = np.clip(np.abs(c + theta), 1e-10, None)  # Avoid log(0)\n",
    "    return np.sum(np.exp(-np.log(safe_c_theta))) - eq_constraint  # Uses log instead of division\n",
    "\n",
    "def newton_derivative(theta, c, eq_constraint):\n",
    "    max_val=np.ones_like(c)*1e-10\n",
    "    return -np.sum(1 / np.maximum((c + theta) ** 2, max_val))\n",
    "\n",
    "def stable_netwon_derivative(c, theta, eq_constraint):\n",
    "    safe_c_theta = np.clip(np.abs(c + theta), 1e-10, None)  # Avoid log(0)\n",
    "    return -np.sum(np.exp(-2 * np.log(safe_c_theta)))  # Uses log instead of division\n"
   ]
  },
  {
   "cell_type": "code",
   "execution_count": 9,
   "metadata": {},
   "outputs": [],
   "source": [
    "fh = lambda x: objective(x, H[0].T)"
   ]
  },
  {
   "cell_type": "code",
   "execution_count": 10,
   "metadata": {},
   "outputs": [
    {
     "name": "stdout",
     "output_type": "stream",
     "text": [
      "-1 3994.6059003793457\n",
      "0 3979.838730026722\n",
      "1 3970.1038971333064\n",
      "2 3963.614738809074\n",
      "3 3959.1718695105474\n",
      "4 3956.029372100546\n",
      "5 3953.7360556326166\n",
      "6 3952.0131978232052\n",
      "7 3950.6844957814715\n",
      "8 3949.6358010730937\n",
      "9 3948.7912689495734\n",
      "10 3948.0991009829254\n",
      "11 3947.522966142577\n",
      "12 3947.0367653288195\n",
      "13 3946.621360398967\n",
      "14 3946.2624688493397\n",
      "15 3945.949266224629\n",
      "16 3945.6734324845065\n",
      "17 3945.428487118628\n",
      "18 3945.209318353045\n",
      "19 3945.011846089645\n",
      "20 3944.832778360017\n",
      "21 3944.669433583727\n",
      "22 3944.5196092173583\n",
      "23 3944.381483186722\n",
      "24 3944.2535386611466\n",
      "25 3944.1345056962296\n",
      "26 3944.0233153282047\n",
      "27 3943.919063079847\n",
      "28 3943.820979734096\n",
      "29 3943.7284078110924\n",
      "30 3943.6407825663077\n",
      "31 3943.5576165913153\n",
      "32 3943.478487291426\n",
      "33 3943.403026663102\n",
      "34 3943.330912911414\n",
      "35 3943.2618635423755\n",
      "36 3943.195629640791\n",
      "37 3943.131991104678\n",
      "38 3943.070752655439\n",
      "39 3943.0117404802763\n",
      "40 3942.954799393038\n",
      "41 3942.8997904226217\n",
      "42 3942.8465887558255\n",
      "43 3942.795081975647\n",
      "44 3942.7451685472092\n",
      "45 3942.6967565117884\n",
      "46 3942.649762356913\n",
      "47 3942.604110035538\n",
      "48 3942.5597301122975\n",
      "49 3942.5165590182205\n"
     ]
    }
   ],
   "source": [
    "x = np.ones(3720)/3720\n",
    "solution_vec_SL = []\n",
    "theta = 100\n",
    "\n",
    "iteration_times_SL = []\n",
    "iteration_times_SL.append(0)\n",
    "\n",
    "solution_vec_SL.append(x)\n",
    "\n",
    "print('-1', fh(x))\n",
    "\n",
    "for i in range(50):\n",
    "    iteration_start_time_SL = time.time()  # Start timing for this iteration\n",
    "    c = derivative_obj(x, H[0].T) - deriv_geom(x)\n",
    "    res = root_scalar(stable_netwon_equation, bracket=[-np.min(c), 1e5], args=(c, 1), x0 =  theta, fprime=stable_netwon_derivative, method=\"bisect\")\n",
    "    theta = res.root\n",
    "    x = 1/(c+theta)\n",
    "    print(i, fh(x))\n",
    "    angle_scores = np.array([\n",
    "    np.sum(x[i * 31:(i + 1) * 31]) for i in range(123)\n",
    "    ])\n",
    "    iteration_end_time_SL = time.time()  # End timing for this iteration\n",
    "    iteration_time_SL = iteration_end_time_SL - iteration_start_time_SL  # Calculate elapsed time for this iteration\n",
    "    iteration_times_SL.append(iteration_time_SL)\n",
    "    \n",
    "    solution_vec_SL.append(x)  \n",
    "    \n",
    "    # angle_scores = np.array([\n",
    "    # np.sum(x[i * 31:(i + 1) * 31]) for i in range(123)\n",
    "    # ])\n",
    "    # print(np.argsort(angle_scores)[-10:])"
   ]
  },
  {
   "cell_type": "code",
   "execution_count": 11,
   "metadata": {},
   "outputs": [],
   "source": [
    "cumaltive_times_SL = [sum(iteration_times_SL[:i+1]) for i in range(len(iteration_times_SL))]"
   ]
  },
  {
   "cell_type": "code",
   "execution_count": 12,
   "metadata": {},
   "outputs": [],
   "source": [
    "angle_scores_SL = np.array([\n",
    "    np.sum(x[i * 31:(i + 1) * 31]) for i in range(120)\n",
    "])\n",
    "best_angle_indices_SL = np.argsort(angle_scores_SL)[-10:]"
   ]
  },
  {
   "cell_type": "code",
   "execution_count": 13,
   "metadata": {},
   "outputs": [],
   "source": [
    "angles_SL = np.concatenate([\n",
    "    np.linspace(0, np.pi, 5, endpoint=False),\n",
    "    np.linspace(0, np.pi, 120, endpoint=False)[best_angle_indices_SL]\n",
    "])"
   ]
  },
  {
   "cell_type": "markdown",
   "metadata": {},
   "source": [
    "# Multilevel"
   ]
  },
  {
   "cell_type": "code",
   "execution_count": 14,
   "metadata": {},
   "outputs": [],
   "source": [
    "def armijo_linesearch(f, x: torch.tensor, d: torch.tensor, dfx, a=4, r = 0.5, c = 1e-1):\n",
    "    fx = f(x)\n",
    "    # d = d/np.linalg.norm(d)\n",
    "    # print(sum(d))\n",
    "    dgk = np.sum(dfx * d)\n",
    "\n",
    "    # print(dgk)\n",
    "    \n",
    "    #assert dgk <= 0, 'd needs to be a descent direction (dgk = %.5e)' % dgk\n",
    "    \n",
    "    if dgk == 0.:\n",
    "        return x, 0.\n",
    "    \n",
    "    while True:\n",
    "        x_new = x + a * d\n",
    "        #x_new_projected = simplex_projection(x_new)\n",
    "        \n",
    "        #f_new = f(x_new_projected)\n",
    "        f_new = f(x_new)\n",
    "        \n",
    "        if f_new <= fx + a * c * dgk:\n",
    "            #x_new = simplex_projection(x_new)\n",
    "            break\n",
    "        \n",
    "        a *= r\n",
    "        if a <= 1e-7:\n",
    "            print('Armijo step too small, a = 0')\n",
    "            return x, 0.\n",
    "    return x_new, a"
   ]
  },
  {
   "cell_type": "code",
   "execution_count": 15,
   "metadata": {},
   "outputs": [],
   "source": [
    "def coarse_condition(eta, y, y_last = None):\n",
    "    if y_last is not None:\n",
    "        y_diff_norm = np.linalg.norm(y_last - y)\n",
    "        y_norm = np.linalg.norm(y)\n",
    "        return (y_diff_norm >= eta * y_norm)\n",
    "    else:\n",
    "        return True"
   ]
  },
  {
   "cell_type": "code",
   "execution_count": 16,
   "metadata": {},
   "outputs": [],
   "source": [
    "def MLO(y, last_pts: list, l=0, kappa = 0.45, eps = 0.02, theta = 30):\n",
    "    if coarse_condition(eps, y, last_pts[l]):\n",
    "        y_tensor = torch.Tensor(y.reshape(shapes[l]))\n",
    "        x_tensor = R_rows_only(y_tensor)\n",
    "        x = x_tensor.numpy().flatten()\n",
    "        y0 = y\n",
    "        dfhy0 = derivative_obj(y, H[l].T)\n",
    "    \n",
    "        last_pts[l] = y\n",
    "        print(l, ' : coarse correction activated')\n",
    "    \n",
    "        x0 = x\n",
    "        dfHx0 = derivative_obj(x, H[l+1].T)\n",
    "\n",
    "        kappa = R_rows_only((torch.Tensor(dfhy0.reshape(shapes[l])))).numpy().flatten() - dfHx0\n",
    "        S = np.sum(x0)\n",
    "\n",
    "        lH = orthant_bounds_optimized(y_tensor, x_tensor, 1, torch.zeros_like(y_tensor), P_nonzero[l]).numpy().flatten()\n",
    "        dfHx = dfHx0\n",
    "\n",
    "        for i in range(maxIter[l+1]):\n",
    "            c = dfHx + kappa - deriv_geom(x)\n",
    "            upper_bound = np.max(1/(lH+1e-4) - c)\n",
    "            res = root_scalar(stable_netwon_equation, bracket=[-np.min(c), upper_bound], args=(c, S), x0 =  theta, fprime=stable_netwon_derivative, method=\"bisect\")\n",
    "            theta = res.root\n",
    "            x = 1/(c+theta)\n",
    "            #print('xmin - lH: ', np.min(x-lH))\n",
    "            #print('xsum: ', np.sum(x))\n",
    "            #dfHx = derivative_obj(x,H[l+1].T)\n",
    "\n",
    "        #print(np.linalg.norm(derivative_obj(x, H[l+1]) + kappa))\n",
    "        #print('descent_direction' , np.sum(dfHx0 * (x-x0)))\n",
    "\n",
    "        # if l < max_levels-1:\n",
    "        #     x, last_pts = MLO(x, last_pts, l+1)\n",
    "\n",
    "        d = P_rows_only((torch.Tensor((x-x0).reshape(shapes[l+1])))).numpy().flatten()\n",
    "\n",
    "        # print('descent_direction', np.sum(dfhy0*d))\n",
    "\n",
    "        #z = simplex_armijo(fh, y0, d)\n",
    "        z, a = armijo_linesearch(fh, y0, d, dfhy0)\n",
    "        # print('zmin', z.min())\n",
    "        # print('z sum:', np.sum(z))\n",
    "        # print(a)\n",
    "        # print(fh(z))\n",
    "        y = z\n",
    "        # angle_scores = np.array([\n",
    "        # np.sum(z[i * 31:(i + 1) * 31]) for i in range(123)\n",
    "        # ])\n",
    "        # print(np.argsort(angle_scores)[-15:])\n",
    "    else: \n",
    "        print(l, ' : coarse correction not activated')\n",
    "    \n",
    "    # theta = 100\n",
    "    for i in range(maxIter[l]):\n",
    "        c = derivative_obj(y, H[l].T) - deriv_geom(y)\n",
    "        res = root_scalar(stable_netwon_equation, bracket=[-np.min(c), 1e5], args=(c, 1), x0 =  theta, fprime=stable_netwon_derivative, method=\"bisect\")\n",
    "        theta = res.root\n",
    "        y = 1/(c+theta)\n",
    "    return y, last_pts"
   ]
  },
  {
   "cell_type": "code",
   "execution_count": 17,
   "metadata": {},
   "outputs": [
    {
     "name": "stdout",
     "output_type": "stream",
     "text": [
      "-1 3994.6059003793457\n",
      "0  : coarse correction activated\n",
      "Iteration 0: 3968.369792816717 - Time: 7.754761 seconds\n",
      "0  : coarse correction activated\n",
      "Iteration 1: 3958.066706813184 - Time: 7.747934 seconds\n",
      "0  : coarse correction activated\n",
      "Iteration 2: 3953.185141457392 - Time: 7.728928 seconds\n",
      "0  : coarse correction activated\n",
      "Iteration 3: 3950.451263616602 - Time: 7.747500 seconds\n",
      "0  : coarse correction activated\n",
      "Iteration 4: 3948.724125254356 - Time: 7.730965 seconds\n",
      "0  : coarse correction activated\n",
      "Iteration 5: 3947.5345238563273 - Time: 7.724930 seconds\n",
      "0  : coarse correction not activated\n",
      "Iteration 6: 3947.0040083136278 - Time: 3.340434 seconds\n",
      "0  : coarse correction activated\n",
      "Iteration 7: 3946.2429944615747 - Time: 7.735723 seconds\n",
      "0  : coarse correction not activated\n",
      "Iteration 8: 3945.8999425830275 - Time: 3.336384 seconds\n",
      "0  : coarse correction activated\n",
      "Iteration 9: 3945.3648142075685 - Time: 7.794219 seconds\n",
      "0  : coarse correction not activated\n",
      "Iteration 10: 3945.1265878964127 - Time: 3.377373 seconds\n",
      "0  : coarse correction not activated\n",
      "Iteration 11: 3944.918172246352 - Time: 3.377792 seconds\n",
      "0  : coarse correction activated\n",
      "Iteration 12: 3944.5407715175106 - Time: 7.851328 seconds\n",
      "0  : coarse correction not activated\n",
      "Iteration 13: 3944.384325646067 - Time: 3.392321 seconds\n",
      "0  : coarse correction not activated\n",
      "Iteration 14: 3944.243345540006 - Time: 3.368405 seconds\n",
      "0  : coarse correction not activated\n",
      "Iteration 15: 3944.114935083683 - Time: 3.364229 seconds\n",
      "0  : coarse correction activated\n",
      "Iteration 16: 3943.8338693233836 - Time: 7.828228 seconds\n",
      "0  : coarse correction not activated\n",
      "Iteration 17: 3943.7300572443223 - Time: 3.380220 seconds\n",
      "0  : coarse correction not activated\n",
      "Iteration 18: 3943.6338046815868 - Time: 3.380527 seconds\n",
      "0  : coarse correction not activated\n",
      "Iteration 19: 3943.5439011738176 - Time: 3.362437 seconds\n",
      "0  : coarse correction not activated\n",
      "Iteration 20: 3943.4594338360184 - Time: 3.360198 seconds\n",
      "0  : coarse correction activated\n",
      "Iteration 21: 3943.2347758497917 - Time: 7.846295 seconds\n",
      "0  : coarse correction not activated\n",
      "Iteration 22: 3943.162611202177 - Time: 3.371062 seconds\n",
      "0  : coarse correction not activated\n",
      "Iteration 23: 3943.0943514783526 - Time: 3.369620 seconds\n",
      "0  : coarse correction not activated\n",
      "Iteration 24: 3943.0294684529554 - Time: 3.330060 seconds\n",
      "0  : coarse correction not activated\n",
      "Iteration 25: 3942.967561654149 - Time: 3.350674 seconds\n",
      "0  : coarse correction not activated\n",
      "Iteration 26: 3942.9083151654386 - Time: 3.327227 seconds\n",
      "0  : coarse correction not activated\n",
      "Iteration 27: 3942.851472161065 - Time: 3.329970 seconds\n",
      "0  : coarse correction activated\n",
      "Iteration 28: 3942.663152191145 - Time: 7.710121 seconds\n",
      "0  : coarse correction not activated\n",
      "Iteration 29: 3942.612694126509 - Time: 3.331159 seconds\n",
      "Overall time for all iterations: 153.651024 seconds\n"
     ]
    }
   ],
   "source": [
    "last_pts = [None]*(max_levels+1)\n",
    "solution_vec_ML = []\n",
    "x = np.ones(3720)/3720\n",
    "solution_vec_ML.append(x)\n",
    "print('-1', fh(x))\n",
    "#theta = 100\n",
    "\n",
    "iteration_times_ML = []\n",
    "iteration_times_ML.append(0)\n",
    "\n",
    "for i in range(30):\n",
    "    iteration_start_time_ML = time.time()\n",
    "    \n",
    "    x, ylast = MLO(x,last_pts)\n",
    "    iteration_end_time_ML = time.time()\n",
    "    iteration_time_ML = iteration_end_time_ML - iteration_start_time_ML\n",
    "    iteration_times_ML.append(iteration_time_ML)\n",
    "\n",
    "    solution_vec_ML.append(x)  \n",
    "    fx = fh(x)\n",
    "    print(f\"Iteration {i}: {fx} - Time: {iteration_time_ML:.6f} seconds\")\n",
    "\n",
    "overall_time_ML = sum(iteration_times_ML) \n",
    "\n",
    "print(f\"Overall time for all iterations: {overall_time_ML:.6f} seconds\")\n",
    "\n",
    "cumaltive_times_ML = [sum(iteration_times_ML[:i+1]) for i in range(len(iteration_times_ML))]"
   ]
  },
  {
   "cell_type": "code",
   "execution_count": 18,
   "metadata": {},
   "outputs": [],
   "source": [
    "angle_scores_ML = np.array([\n",
    "    np.sum(x[i * 31:(i + 1) * 31]) for i in range(120)\n",
    "])\n",
    "best_angle_indices_ML = np.argsort(angle_scores_ML)[-10:]"
   ]
  },
  {
   "cell_type": "code",
   "execution_count": 19,
   "metadata": {},
   "outputs": [],
   "source": [
    "angles_ML = np.concatenate([\n",
    "    np.linspace(0, np.pi, 5, endpoint=False),\n",
    "    np.linspace(0, np.pi, 120, endpoint=False)[best_angle_indices_ML]\n",
    "])"
   ]
  },
  {
   "cell_type": "markdown",
   "metadata": {},
   "source": [
    "# Least Squares Setup"
   ]
  },
  {
   "cell_type": "code",
   "execution_count": 20,
   "metadata": {},
   "outputs": [],
   "source": [
    "# from PIL import Image\n",
    "# import numpy as np\n",
    "\n",
    "# # Load and convert to grayscale\n",
    "# img = Image.open(\"Mario.png\")\n",
    "# gray = img.convert(\"L\")\n",
    "\n",
    "# # Resize FIRST, using nearest neighbor to avoid interpolation\n",
    "# resized = gray.resize((31, 31), resample=Image.NEAREST)\n",
    "\n",
    "# # Now reduce grayscale levels manually (same as before)\n",
    "# arr = np.array(resized)\n",
    "# num_levels = 8\n",
    "# arr_scaled = (arr / 255) * (num_levels - 1)\n",
    "# arr_reduced = (arr_scaled.round() * (255 / (num_levels - 1))).astype(np.uint8)\n",
    "# final_img = Image.fromarray(arr_reduced)\n",
    "\n",
    "# # Save or show\n",
    "# final_img.save(\"Mario_small_gray_6levels.png\")"
   ]
  },
  {
   "cell_type": "code",
   "execution_count": 21,
   "metadata": {},
   "outputs": [],
   "source": [
    "from PIL import Image\n",
    "\n",
    "image = Image.open('Mario_small_gray_8levels.png')\n",
    "image_np = np.array(image)\n",
    "x_orig = np.array(image.resize((31,31)))/255\n",
    "image_flat = x_orig.flatten()\n",
    "\n",
    "vol_geom = astra.create_vol_geom(31, 31)"
   ]
  },
  {
   "cell_type": "code",
   "execution_count": 22,
   "metadata": {},
   "outputs": [
    {
     "data": {
      "text/plain": [
       "<matplotlib.image.AxesImage at 0x7fe3f6983e50>"
      ]
     },
     "execution_count": 22,
     "metadata": {},
     "output_type": "execute_result"
    },
    {
     "data": {
      "image/png": "[encoded data removed]",
      "text/plain": [
       "<Figure size 640x480 with 1 Axes>"
      ]
     },
     "metadata": {},
     "output_type": "display_data"
    }
   ],
   "source": [
    "plt.imshow(x_orig, cmap='gray')"
   ]
  },
  {
   "cell_type": "code",
   "execution_count": 23,
   "metadata": {},
   "outputs": [],
   "source": [
    "geometry_SL = astra.create_proj_geom('parallel', 1.0, 31, angles_SL)\n",
    "proj_id_SL = astra.create_projector('line', geometry_SL, vol_geom)\n",
    "matrix_id_SL = astra.projector.matrix(proj_id_SL)\n",
    "\n",
    "H_optimized_SL = sp.csr_matrix(astra.matrix.get(matrix_id_SL))\n",
    "b_optimized_SL = H_optimized_SL @ image_flat"
   ]
  },
  {
   "cell_type": "code",
   "execution_count": 24,
   "metadata": {},
   "outputs": [],
   "source": [
    "geometry = astra.create_proj_geom('parallel', 1.0, 31, np.linspace(0, np.pi, 15, endpoint=False))\n",
    "proj_id = astra.create_projector('line', geometry, vol_geom)\n",
    "matrix_id = astra.projector.matrix(proj_id)\n",
    "\n",
    "H_uniform = sp.csr_matrix(astra.matrix.get(matrix_id))\n",
    "b = H_uniform @ image_flat"
   ]
  },
  {
   "cell_type": "code",
   "execution_count": 25,
   "metadata": {},
   "outputs": [],
   "source": [
    "geometry = astra.create_proj_geom('parallel', 1.0, 31, angles_ML)\n",
    "proj_id = astra.create_projector('line', geometry, vol_geom)\n",
    "matrix_id = astra.projector.matrix(proj_id)\n",
    "\n",
    "H_optimized_ML = sp.csr_matrix(astra.matrix.get(matrix_id))\n",
    "b_optimized_ML = H_optimized_ML @ image_flat"
   ]
  },
  {
   "cell_type": "code",
   "execution_count": 26,
   "metadata": {},
   "outputs": [],
   "source": [
    "x_reconstructed = sp.linalg.lsmr(H_uniform, b)[0]\n",
    "x_reconstructed_optimized_SL = sp.linalg.lsmr(H_optimized_SL, b_optimized_SL)[0]\n",
    "x_reconstructed_optimized_ML = sp.linalg.lsmr(H_optimized_ML, b_optimized_ML)[0]"
   ]
  },
  {
   "cell_type": "code",
   "execution_count": 27,
   "metadata": {},
   "outputs": [
    {
     "data": {
      "text/plain": [
       "3.200109127549678"
      ]
     },
     "execution_count": 27,
     "metadata": {},
     "output_type": "execute_result"
    }
   ],
   "source": [
    "np.linalg.norm(image_flat - x_reconstructed_optimized_SL)"
   ]
  },
  {
   "cell_type": "code",
   "execution_count": 28,
   "metadata": {},
   "outputs": [
    {
     "data": {
      "text/plain": [
       "3.1944033660712594"
      ]
     },
     "execution_count": 28,
     "metadata": {},
     "output_type": "execute_result"
    }
   ],
   "source": [
    "np.linalg.norm(image_flat - x_reconstructed_optimized_ML)"
   ]
  },
  {
   "cell_type": "code",
   "execution_count": 29,
   "metadata": {},
   "outputs": [
    {
     "data": {
      "text/plain": [
       "3.592200732040955"
      ]
     },
     "execution_count": 29,
     "metadata": {},
     "output_type": "execute_result"
    }
   ],
   "source": [
    "np.linalg.norm(image_flat - x_reconstructed)"
   ]
  },
  {
   "cell_type": "code",
   "execution_count": 30,
   "metadata": {},
   "outputs": [
    {
     "data": {
      "text/plain": [
       "<matplotlib.image.AxesImage at 0x7fe3efca4450>"
      ]
     },
     "execution_count": 30,
     "metadata": {},
     "output_type": "execute_result"
    },
    {
     "data": {
      "image/png": "[encoded data removed]",
      "text/plain": [
       "<Figure size 640x480 with 1 Axes>"
      ]
     },
     "metadata": {},
     "output_type": "display_data"
    }
   ],
   "source": [
    "plt.imshow(x_reconstructed_optimized_SL.reshape(31,31), cmap = 'gray')"
   ]
  },
  {
   "cell_type": "code",
   "execution_count": 31,
   "metadata": {},
   "outputs": [
    {
     "data": {
      "text/plain": [
       "<matplotlib.image.AxesImage at 0x7fe3f6414450>"
      ]
     },
     "execution_count": 31,
     "metadata": {},
     "output_type": "execute_result"
    },
    {
     "data": {
      "image/png": "[encoded data removed]",
      "text/plain": [
       "<Figure size 640x480 with 1 Axes>"
      ]
     },
     "metadata": {},
     "output_type": "display_data"
    }
   ],
   "source": [
    "plt.imshow(x_reconstructed_optimized_ML.reshape(31,31), cmap = 'gray')"
   ]
  },
  {
   "cell_type": "code",
   "execution_count": 32,
   "metadata": {},
   "outputs": [
    {
     "data": {
      "text/plain": [
       "<matplotlib.image.AxesImage at 0x7fe3f64ab150>"
      ]
     },
     "execution_count": 32,
     "metadata": {},
     "output_type": "execute_result"
    },
    {
     "data": {
      "image/png": "[encoded data removed]",
      "text/plain": [
       "<Figure size 640x480 with 1 Axes>"
      ]
     },
     "metadata": {},
     "output_type": "display_data"
    }
   ],
   "source": [
    "plt.imshow(x_reconstructed.reshape(31,31), cmap = 'gray')"
   ]
  },
  {
   "cell_type": "code",
   "execution_count": 33,
   "metadata": {},
   "outputs": [],
   "source": [
    "plt.imsave('mario_SL.png', x_reconstructed_optimized_SL.reshape(31,31), cmap = 'gray')"
   ]
  },
  {
   "cell_type": "code",
   "execution_count": 34,
   "metadata": {},
   "outputs": [],
   "source": [
    "plt.imsave('mario_ML.png', x_reconstructed_optimized_ML.reshape(31,31), cmap = 'gray')"
   ]
  },
  {
   "cell_type": "code",
   "execution_count": 35,
   "metadata": {},
   "outputs": [],
   "source": [
    "plt.imsave('mario_uniform.png', x_reconstructed.reshape(31,31), cmap = 'gray')"
   ]
  },
  {
   "cell_type": "code",
   "execution_count": 36,
   "metadata": {},
   "outputs": [],
   "source": [
    "fval_ML = [fh(x) for x in solution_vec_ML]\n",
    "fval_SL = [fh(x) for x in solution_vec_SL]\n",
    "\n",
    "fval_ML_normalized = [val / fval_ML[0] for val in fval_ML]\n",
    "fval_SL_normalized = [val / fval_SL[0] for val in fval_SL]"
   ]
  },
  {
   "cell_type": "code",
   "execution_count": 37,
   "metadata": {},
   "outputs": [],
   "source": [
    "plt.rcParams.update({\n",
    "    'legend.fontsize': 14,  # Legend font size\n",
    "    'axes.labelsize': 14,   # Axis label font size\n",
    "    'xtick.labelsize': 12,  # X-axis tick label size\n",
    "    'ytick.labelsize': 12   # Y-axis tick label size\n",
    "})\n",
    "\n",
    "plt.rcParams['image.cmap'] = 'viridis'"
   ]
  },
  {
   "cell_type": "code",
   "execution_count": 38,
   "metadata": {},
   "outputs": [],
   "source": [
    "cumaltive_times_SL = [sum(iteration_times_SL[:i+1]) + 0.7 for i in range(len(iteration_times_SL))]\n",
    "cumaltive_times_ML = [sum(iteration_times_ML[:i+1]) for i in range(len(iteration_times_ML))]"
   ]
  },
  {
   "cell_type": "code",
   "execution_count": 39,
   "metadata": {},
   "outputs": [
    {
     "data": {
      "text/plain": [
       "[0,\n",
       " 7.754760503768921,\n",
       " 15.502694845199585,\n",
       " 23.23162293434143,\n",
       " 30.97912311553955,\n",
       " 38.71008777618408,\n",
       " 46.435017824172974,\n",
       " 49.77545142173767,\n",
       " 57.51117420196533,\n",
       " 60.84755778312683,\n",
       " 68.64177680015564,\n",
       " 72.01915001869202,\n",
       " 75.39694166183472,\n",
       " 83.24827003479004,\n",
       " 86.64059114456177,\n",
       " 90.00899600982666,\n",
       " 93.37322497367859,\n",
       " 101.2014524936676,\n",
       " 104.58167266845703,\n",
       " 107.96219992637634,\n",
       " 111.32463693618774,\n",
       " 114.6848349571228,\n",
       " 122.53112959861755,\n",
       " 125.90219187736511,\n",
       " 129.27181196212769,\n",
       " 132.6018717288971,\n",
       " 135.95254611968994,\n",
       " 139.27977323532104,\n",
       " 142.6097433567047,\n",
       " 150.31986451148987,\n",
       " 153.6510238647461]"
      ]
     },
     "execution_count": 39,
     "metadata": {},
     "output_type": "execute_result"
    }
   ],
   "source": [
    "cumaltive_times_ML"
   ]
  },
  {
   "cell_type": "code",
   "execution_count": null,
   "metadata": {},
   "outputs": [
    {
     "ename": "TypeError",
     "evalue": "only integer scalar arrays can be converted to a scalar index",
     "output_type": "error",
     "traceback": [
      "\u001b[0;31m---------------------------------------------------------------------------\u001b[0m",
      "\u001b[0;31mTypeError\u001b[0m                                 Traceback (most recent call last)",
      "Cell \u001b[0;32mIn[40], line 17\u001b[0m\n\u001b[1;32m     11\u001b[0m plt\u001b[38;5;241m.\u001b[39mscatter(cumaltive_times_ML[::highlight_every_ML], fval_ML_normalized[::highlight_every_ML], \n\u001b[1;32m     12\u001b[0m             color\u001b[38;5;241m=\u001b[39m\u001b[38;5;124m'\u001b[39m\u001b[38;5;124mblue\u001b[39m\u001b[38;5;124m'\u001b[39m, edgecolors\u001b[38;5;241m=\u001b[39m\u001b[38;5;124m'\u001b[39m\u001b[38;5;124mblack\u001b[39m\u001b[38;5;124m'\u001b[39m, s\u001b[38;5;241m=\u001b[39m\u001b[38;5;241m60\u001b[39m, marker\u001b[38;5;241m=\u001b[39m\u001b[38;5;124m'\u001b[39m\u001b[38;5;124mo\u001b[39m\u001b[38;5;124m'\u001b[39m, label\u001b[38;5;241m=\u001b[39m\u001b[38;5;124m\"\u001b[39m\u001b[38;5;124m1 iter\u001b[39m\u001b[38;5;124m\"\u001b[39m, zorder\u001b[38;5;241m=\u001b[39m\u001b[38;5;241m2\u001b[39m)\n\u001b[1;32m     14\u001b[0m plt\u001b[38;5;241m.\u001b[39mscatter(cumaltive_times_SL[\u001b[38;5;241m1\u001b[39m::highlight_every_SL], fval_SL_normalized[\u001b[38;5;241m1\u001b[39m::highlight_every_SL], \n\u001b[1;32m     15\u001b[0m             color\u001b[38;5;241m=\u001b[39m\u001b[38;5;124m'\u001b[39m\u001b[38;5;124morange\u001b[39m\u001b[38;5;124m'\u001b[39m, edgecolors\u001b[38;5;241m=\u001b[39m\u001b[38;5;124m'\u001b[39m\u001b[38;5;124mblack\u001b[39m\u001b[38;5;124m'\u001b[39m, s\u001b[38;5;241m=\u001b[39m\u001b[38;5;241m60\u001b[39m, marker\u001b[38;5;241m=\u001b[39m\u001b[38;5;124m'\u001b[39m\u001b[38;5;124mo\u001b[39m\u001b[38;5;124m'\u001b[39m, label\u001b[38;5;241m=\u001b[39m\u001b[38;5;124m\"\u001b[39m\u001b[38;5;124m2 iters\u001b[39m\u001b[38;5;124m\"\u001b[39m)\n\u001b[0;32m---> 17\u001b[0m plt\u001b[38;5;241m.\u001b[39mscatter(cumaltive_times_ML[np\u001b[38;5;241m.\u001b[39mconcatenate([[\u001b[38;5;241m10\u001b[39m,\u001b[38;5;241m11\u001b[39m,\u001b[38;5;241m13\u001b[39m,\u001b[38;5;241m14\u001b[39m,\u001b[38;5;241m15\u001b[39m,\u001b[38;5;241m29\u001b[39m], np\u001b[38;5;241m.\u001b[39marange(\u001b[38;5;241m17\u001b[39m,\u001b[38;5;241m28\u001b[39m)])], fval_ML_normalized[np\u001b[38;5;241m.\u001b[39mconcatenate([[\u001b[38;5;241m10\u001b[39m,\u001b[38;5;241m11\u001b[39m,\u001b[38;5;241m13\u001b[39m,\u001b[38;5;241m14\u001b[39m,\u001b[38;5;241m15\u001b[39m,\u001b[38;5;241m29\u001b[39m], np\u001b[38;5;241m.\u001b[39marange(\u001b[38;5;241m17\u001b[39m,\u001b[38;5;241m28\u001b[39m)])], \n\u001b[1;32m     18\u001b[0m             color\u001b[38;5;241m=\u001b[39m\u001b[38;5;124m'\u001b[39m\u001b[38;5;124mred\u001b[39m\u001b[38;5;124m'\u001b[39m, edgecolors\u001b[38;5;241m=\u001b[39m\u001b[38;5;124m'\u001b[39m\u001b[38;5;124mblack\u001b[39m\u001b[38;5;124m'\u001b[39m, s\u001b[38;5;241m=\u001b[39m\u001b[38;5;241m60\u001b[39m, marker\u001b[38;5;241m=\u001b[39m\u001b[38;5;124m'\u001b[39m\u001b[38;5;124mo\u001b[39m\u001b[38;5;124m'\u001b[39m, zorder\u001b[38;5;241m=\u001b[39m\u001b[38;5;241m2\u001b[39m)\n\u001b[1;32m     21\u001b[0m \u001b[38;5;66;03m#plt.ylim(bottom=0.15*10e-6)\u001b[39;00m\n\u001b[1;32m     22\u001b[0m plt\u001b[38;5;241m.\u001b[39mxlim(left\u001b[38;5;241m=\u001b[39m\u001b[38;5;241m0\u001b[39m, right\u001b[38;5;241m=\u001b[39m\u001b[38;5;241m151\u001b[39m)\n",
      "\u001b[0;31mTypeError\u001b[0m: only integer scalar arrays can be converted to a scalar index"
     ]
    },
    {
     "data": {
      "image/png": "[encoded data removed]",
      "text/plain": [
       "<Figure size 1000x600 with 1 Axes>"
      ]
     },
     "metadata": {},
     "output_type": "display_data"
    }
   ],
   "source": [
    "plt.figure(figsize=(10, 6))\n",
    "\n",
    "plt.plot(cumaltive_times_ML, fval_ML_normalized, linestyle='-', linewidth=3, label='ML', color='blue', zorder=1)\n",
    "plt.plot(cumaltive_times_SL, fval_SL_normalized, linestyle='--', linewidth=2, label='SL', color='orange')\n",
    "\n",
    "highlight_every_SL = 2\n",
    "highlight_every_ML = 1\n",
    "\n",
    "non_coarse = np.concatenate([[10,11,13,14,15,29], np.arange(17,28)])\n",
    "\n",
    "plt.scatter(cumaltive_times_ML[::highlight_every_ML], fval_ML_normalized[::highlight_every_ML], \n",
    "            color='blue', edgecolors='black', s=60, marker='o', label=\"1 iter\", zorder=2)\n",
    "\n",
    "plt.scatter(cumaltive_times_SL[1::highlight_every_SL], fval_SL_normalized[1::highlight_every_SL], \n",
    "            color='orange', edgecolors='black', s=60, marker='o', label=\"2 iters\")\n",
    "\n",
    "plt.scatter(cumaltive_times_ML[np.concatenate([np.array([10, 11, 13, 14, 15, 29]), np.arange(17, 28)])], fval_ML_normalized[np.concatenate([np.array([10, 11, 13, 14, 15, 29]), np.arange(17, 28)])], \n",
    "            color='red', edgecolors='black', s=60, marker='o', zorder=2)\n",
    "\n",
    "\n",
    "#plt.ylim(bottom=0.15*10e-6)\n",
    "plt.xlim(left=0, right=151)\n",
    "plt.grid(True, linestyle='--', color='gray', alpha=0.3)\n",
    "plt.legend(fontsize=12, loc='best')\n",
    "plt.gca().yaxis.set_major_locator(MultipleLocator(0.004))\n",
    "plt.tight_layout()\n",
    "plt.savefig('mario_CPU.png', format='png', dpi=300, transparent=True)\n",
    "plt.show()"
   ]
  },
  {
   "cell_type": "code",
   "execution_count": null,
   "metadata": {},
   "outputs": [
    {
     "data": {
      "text/plain": [
       "array([10, 11, 13, 14, 15, 29, 17, 18, 19, 20, 21, 22, 23, 24, 25, 26, 27])"
      ]
     },
     "execution_count": 41,
     "metadata": {},
     "output_type": "execute_result"
    }
   ],
   "source": [
    "np.concatenate([[10,11,13,14,15,29], np.arange(17,28)])"
   ]
  },
  {
   "cell_type": "code",
   "execution_count": null,
   "metadata": {},
   "outputs": [],
   "source": [
    "import numpy as np\n",
    "\n",
    "# Convert to arrays if not already\n",
    "solution_vec_ML = [np.array(x) for x in solution_vec_ML]\n",
    "solution_vec_SL = [np.array(x) for x in solution_vec_SL]\n",
    "\n",
    "# Reference: final solution\n",
    "ref_ML = solution_vec_ML[-1]\n",
    "ref_SL = solution_vec_SL[-1]\n",
    "\n",
    "# Relative errors over iterations (using L2 norm)\n",
    "rel_error_ML = [np.linalg.norm(x - ref_ML) / np.linalg.norm(ref_SL) for x in solution_vec_ML]\n",
    "rel_error_SL = [np.linalg.norm(x - ref_SL) / np.linalg.norm(ref_SL) for x in solution_vec_SL]\n"
   ]
  },
  {
   "cell_type": "code",
   "execution_count": null,
   "metadata": {},
   "outputs": [],
   "source": [
    "# Assume x is your optimized vector of shape (120 * 31,)\n",
    "num_angles = 120\n",
    "num_detectors = 31\n",
    "\n",
    "# Reshape x into a matrix of shape (angles, detectors)\n",
    "X = x.reshape((num_angles, num_detectors))\n",
    "\n",
    "# Normalize the matrix to make values relative\n",
    "X_normalized = X / np.sum(X)\n",
    "\n",
    "# Sum across detectors to get an importance score per angle\n",
    "angle_scores = np.sum(X_normalized, axis=1)\n",
    "\n",
    "# (Optional) Sort angles by importance\n",
    "sorted_indices = np.argsort(angle_scores)[::-1]\n",
    "sorted_angles = sorted_indices  # or map to actual angle values if available\n"
   ]
  },
  {
   "cell_type": "code",
   "execution_count": null,
   "metadata": {},
   "outputs": [
    {
     "data": {
      "text/plain": [
       "array([117,  57,   3,  63,   5, 115,  65,  55,  64,  56,   4, 116,   7,\n",
       "        53,  67, 113,  10, 110,  50,  70,  42,  18,  78, 102, 112,  52,\n",
       "       101,  68,  41,   8,  79,  19,  72,   9,  69,  48, 111, 108,  12,\n",
       "        39,  90,  81,  51,  31, 109,  21,  99,  71,  30,  49, 106,  11,\n",
       "        74,  46,  95,  14,  25,  88,  85,  83,  29,  91,  23,  97,  93,\n",
       "        37, 103,  32,  17,  35,  33,  89,  16,  87, 104,  77,  62,  15,\n",
       "        44,   2,  28,  58, 118,  80,  40,  92,  76,  75,  45,  24,  38,\n",
       "       100,  43,  27, 105,  47,  22,  20,  98,  82,  96,  73,  36,  26,\n",
       "        13, 107,  84,  54,  66,  86, 114,   6,  94,  34,  61,   0,  59,\n",
       "         1, 119,  60])"
      ]
     },
     "execution_count": 44,
     "metadata": {},
     "output_type": "execute_result"
    }
   ],
   "source": [
    "sorted_angles"
   ]
  },
  {
   "cell_type": "code",
   "execution_count": null,
   "metadata": {},
   "outputs": [],
   "source": [
    "from numpy.linalg import svd\n",
    "\n",
    "# Use the reshaped matrix from before\n",
    "X = x.reshape((num_angles, num_detectors))\n",
    "\n",
    "# Apply SVD: X ≈ U S V^T\n",
    "U, S, VT = svd(X, full_matrices=False)\n",
    "\n",
    "# Take the first left singular vector (dominant mode for angles)\n",
    "angle_svd_scores = U[:, 0] * S[0]  # Scale to match original magnitude\n",
    "\n",
    "# (Optional) Normalize or rank\n",
    "angle_svd_scores = np.abs(angle_svd_scores)\n",
    "sorted_svd_indices = np.argsort(angle_svd_scores)[::-1]\n"
   ]
  },
  {
   "cell_type": "code",
   "execution_count": null,
   "metadata": {},
   "outputs": [
    {
     "data": {
      "text/plain": [
       "array([ 57, 117,   3,  63, 115,   5,  64,   7,  56,   4,  53, 116,  55,\n",
       "        65,  67])"
      ]
     },
     "execution_count": 46,
     "metadata": {},
     "output_type": "execute_result"
    }
   ],
   "source": [
    "sorted_svd_indices[:15]"
   ]
  },
  {
   "cell_type": "code",
   "execution_count": null,
   "metadata": {},
   "outputs": [
    {
     "data": {
      "text/plain": [
       "array([1.49225651, 3.06305284, 0.07853982, 1.64933614, 3.01069296,\n",
       "       0.13089969, 1.67551608, 0.18325957, 1.46607657, 0.10471976,\n",
       "       1.38753676, 3.0368729 , 1.43989663, 1.70169602, 1.7540559 ])"
      ]
     },
     "execution_count": 47,
     "metadata": {},
     "output_type": "execute_result"
    }
   ],
   "source": [
    "np.linspace(0, np.pi, 120, endpoint=False)[sorted_svd_indices][:15]"
   ]
  }
 ],
 "metadata": {
  "kernelspec": {
   "display_name": "MLcupy_v2",
   "language": "python",
   "name": "python3"
  },
  "language_info": {
   "codemirror_mode": {
    "name": "ipython",
    "version": 3
   },
   "file_extension": ".py",
   "mimetype": "text/x-python",
   "name": "python",
   "nbconvert_exporter": "python",
   "pygments_lexer": "ipython3",
   "version": "3.11.9"
  }
 },
 "nbformat": 4,
 "nbformat_minor": 2
}
